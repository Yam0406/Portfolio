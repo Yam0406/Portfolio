{
 "cells": [
  {
   "cell_type": "markdown",
   "id": "8053e99a",
   "metadata": {},
   "source": [
    "## RFM Analysis"
   ]
  },
  {
   "cell_type": "markdown",
   "id": "19d32b21",
   "metadata": {},
   "source": [
    "### Step 1 : Reading and Understanding Data"
   ]
  },
  {
   "cell_type": "code",
   "execution_count": 1,
   "id": "866786af",
   "metadata": {},
   "outputs": [],
   "source": [
    "# import required libraries for dataframe and visualization\n",
    "\n",
    "import numpy as np\n",
    "import pandas as pd\n",
    "import matplotlib.pyplot as plt\n",
    "import seaborn as sns\n",
    "import datetime as dt\n",
    "\n",
    "# import required libraries for clustering\n",
    "import sklearn\n",
    "from sklearn.preprocessing import StandardScaler\n",
    "from sklearn.cluster import KMeans\n",
    "from sklearn.metrics import silhouette_samples, silhouette_score\n",
    "from scipy.cluster.hierarchy import linkage\n",
    "from scipy.cluster.hierarchy import dendrogram\n",
    "from scipy.cluster.hierarchy import cut_tree"
   ]
  },
  {
   "cell_type": "code",
   "execution_count": 2,
   "id": "1ccda65e",
   "metadata": {},
   "outputs": [],
   "source": [
    "update_month = '2021-10-01 00:00:00'"
   ]
  },
  {
   "cell_type": "code",
   "execution_count": 3,
   "id": "3534a8b5",
   "metadata": {
    "scrolled": true
   },
   "outputs": [
    {
     "data": {
      "text/html": [
       "<div>\n",
       "<style scoped>\n",
       "    .dataframe tbody tr th:only-of-type {\n",
       "        vertical-align: middle;\n",
       "    }\n",
       "\n",
       "    .dataframe tbody tr th {\n",
       "        vertical-align: top;\n",
       "    }\n",
       "\n",
       "    .dataframe thead th {\n",
       "        text-align: right;\n",
       "    }\n",
       "</style>\n",
       "<table border=\"1\" class=\"dataframe\">\n",
       "  <thead>\n",
       "    <tr style=\"text-align: right;\">\n",
       "      <th></th>\n",
       "      <th>Salesforce Account Id</th>\n",
       "      <th>Salesforce Deal Id</th>\n",
       "      <th>Name</th>\n",
       "      <th>Last Name</th>\n",
       "      <th>First Name</th>\n",
       "      <th>Original - Year Activated</th>\n",
       "      <th>Original - Month Activated</th>\n",
       "      <th>Original - Date Activated</th>\n",
       "      <th>Account Activated</th>\n",
       "      <th>Billing State/Province</th>\n",
       "      <th>...</th>\n",
       "      <th>2024-02-01 00:00:00</th>\n",
       "      <th>2024-03-01 00:00:00</th>\n",
       "      <th>2024-04-01 00:00:00</th>\n",
       "      <th>2024-05-01 00:00:00</th>\n",
       "      <th>2024-06-01 00:00:00</th>\n",
       "      <th>2024-07-01 00:00:00</th>\n",
       "      <th>2024-08-01 00:00:00</th>\n",
       "      <th>2024-09-01 00:00:00</th>\n",
       "      <th>2024-10-01 00:00:00</th>\n",
       "      <th>2024-11-01 00:00:00</th>\n",
       "    </tr>\n",
       "  </thead>\n",
       "  <tbody>\n",
       "    <tr>\n",
       "      <th>0</th>\n",
       "      <td>0013000000CcDuEAAV</td>\n",
       "      <td>a016000000Jp7qeAAB</td>\n",
       "      <td>Aaroe, Paul M.</td>\n",
       "      <td>Aaroe</td>\n",
       "      <td>Paul M.</td>\n",
       "      <td>2009</td>\n",
       "      <td>August</td>\n",
       "      <td>2009-08-19</td>\n",
       "      <td>2009-08-19</td>\n",
       "      <td>PA</td>\n",
       "      <td>...</td>\n",
       "      <td>NaN</td>\n",
       "      <td>NaN</td>\n",
       "      <td>NaN</td>\n",
       "      <td>NaN</td>\n",
       "      <td>NaN</td>\n",
       "      <td>NaN</td>\n",
       "      <td>NaN</td>\n",
       "      <td>NaN</td>\n",
       "      <td>NaN</td>\n",
       "      <td>NaN</td>\n",
       "    </tr>\n",
       "    <tr>\n",
       "      <th>1</th>\n",
       "      <td>0013000000CbIYyAAN</td>\n",
       "      <td>a010e00000r8uPlAAI</td>\n",
       "      <td>Aaronson, Austin</td>\n",
       "      <td>Aaronson</td>\n",
       "      <td>Austin</td>\n",
       "      <td>2019</td>\n",
       "      <td>June</td>\n",
       "      <td>2019-06-25</td>\n",
       "      <td>2019-06-25</td>\n",
       "      <td>FL</td>\n",
       "      <td>...</td>\n",
       "      <td>NaN</td>\n",
       "      <td>NaN</td>\n",
       "      <td>NaN</td>\n",
       "      <td>NaN</td>\n",
       "      <td>NaN</td>\n",
       "      <td>NaN</td>\n",
       "      <td>NaN</td>\n",
       "      <td>NaN</td>\n",
       "      <td>NaN</td>\n",
       "      <td>NaN</td>\n",
       "    </tr>\n",
       "    <tr>\n",
       "      <th>2</th>\n",
       "      <td>0016000000cLphAAAS</td>\n",
       "      <td>a016000000aooYxAAI</td>\n",
       "      <td>Abasi, Evelyn J.</td>\n",
       "      <td>Abasi</td>\n",
       "      <td>Evelyn J.</td>\n",
       "      <td>2014</td>\n",
       "      <td>March</td>\n",
       "      <td>2014-03-13</td>\n",
       "      <td>2014-03-13</td>\n",
       "      <td>CA</td>\n",
       "      <td>...</td>\n",
       "      <td>NaN</td>\n",
       "      <td>NaN</td>\n",
       "      <td>NaN</td>\n",
       "      <td>NaN</td>\n",
       "      <td>NaN</td>\n",
       "      <td>NaN</td>\n",
       "      <td>NaN</td>\n",
       "      <td>NaN</td>\n",
       "      <td>NaN</td>\n",
       "      <td>NaN</td>\n",
       "    </tr>\n",
       "    <tr>\n",
       "      <th>3</th>\n",
       "      <td>0013200001HEQegAAH</td>\n",
       "      <td>a013200000pZpYTAA0</td>\n",
       "      <td>Abbitt, Julia Chico</td>\n",
       "      <td>Abbitt</td>\n",
       "      <td>Julia Chico</td>\n",
       "      <td>2017</td>\n",
       "      <td>February</td>\n",
       "      <td>2017-02-09</td>\n",
       "      <td>2017-02-09</td>\n",
       "      <td>WV</td>\n",
       "      <td>...</td>\n",
       "      <td>NaN</td>\n",
       "      <td>NaN</td>\n",
       "      <td>NaN</td>\n",
       "      <td>NaN</td>\n",
       "      <td>NaN</td>\n",
       "      <td>NaN</td>\n",
       "      <td>NaN</td>\n",
       "      <td>NaN</td>\n",
       "      <td>NaN</td>\n",
       "      <td>NaN</td>\n",
       "    </tr>\n",
       "    <tr>\n",
       "      <th>4</th>\n",
       "      <td>0013200001BYZ1bAAH</td>\n",
       "      <td>a013200000meskHAAQ</td>\n",
       "      <td>Abdala, Dianna</td>\n",
       "      <td>Abdala</td>\n",
       "      <td>Dianna</td>\n",
       "      <td>2015</td>\n",
       "      <td>August</td>\n",
       "      <td>2015-08-04</td>\n",
       "      <td>2015-08-04</td>\n",
       "      <td>MA</td>\n",
       "      <td>...</td>\n",
       "      <td>NaN</td>\n",
       "      <td>NaN</td>\n",
       "      <td>NaN</td>\n",
       "      <td>NaN</td>\n",
       "      <td>NaN</td>\n",
       "      <td>NaN</td>\n",
       "      <td>NaN</td>\n",
       "      <td>NaN</td>\n",
       "      <td>NaN</td>\n",
       "      <td>NaN</td>\n",
       "    </tr>\n",
       "  </tbody>\n",
       "</table>\n",
       "<p>5 rows × 217 columns</p>\n",
       "</div>"
      ],
      "text/plain": [
       "  Salesforce Account Id  Salesforce Deal Id                 Name Last Name  \\\n",
       "0    0013000000CcDuEAAV  a016000000Jp7qeAAB       Aaroe, Paul M.     Aaroe   \n",
       "1    0013000000CbIYyAAN  a010e00000r8uPlAAI     Aaronson, Austin  Aaronson   \n",
       "2    0016000000cLphAAAS  a016000000aooYxAAI     Abasi, Evelyn J.     Abasi   \n",
       "3    0013200001HEQegAAH  a013200000pZpYTAA0  Abbitt, Julia Chico    Abbitt   \n",
       "4    0013200001BYZ1bAAH  a013200000meskHAAQ       Abdala, Dianna    Abdala   \n",
       "\n",
       "     First Name  Original - Year Activated Original - Month Activated  \\\n",
       "0       Paul M.                       2009                     August   \n",
       "1        Austin                       2019                       June   \n",
       "2     Evelyn J.                       2014                      March   \n",
       "3   Julia Chico                       2017                   February   \n",
       "4        Dianna                       2015                     August   \n",
       "\n",
       "  Original - Date Activated Account Activated Billing State/Province  ...  \\\n",
       "0                2009-08-19        2009-08-19                     PA  ...   \n",
       "1                2019-06-25        2019-06-25                     FL  ...   \n",
       "2                2014-03-13        2014-03-13                     CA  ...   \n",
       "3                2017-02-09        2017-02-09                     WV  ...   \n",
       "4                2015-08-04        2015-08-04                     MA  ...   \n",
       "\n",
       "  2024-02-01 00:00:00 2024-03-01 00:00:00  2024-04-01 00:00:00  \\\n",
       "0                 NaN                 NaN                  NaN   \n",
       "1                 NaN                 NaN                  NaN   \n",
       "2                 NaN                 NaN                  NaN   \n",
       "3                 NaN                 NaN                  NaN   \n",
       "4                 NaN                 NaN                  NaN   \n",
       "\n",
       "   2024-05-01 00:00:00  2024-06-01 00:00:00 2024-07-01 00:00:00  \\\n",
       "0                  NaN                  NaN                 NaN   \n",
       "1                  NaN                  NaN                 NaN   \n",
       "2                  NaN                  NaN                 NaN   \n",
       "3                  NaN                  NaN                 NaN   \n",
       "4                  NaN                  NaN                 NaN   \n",
       "\n",
       "  2024-08-01 00:00:00  2024-09-01 00:00:00  2024-10-01 00:00:00  \\\n",
       "0                 NaN                  NaN                  NaN   \n",
       "1                 NaN                  NaN                  NaN   \n",
       "2                 NaN                  NaN                  NaN   \n",
       "3                 NaN                  NaN                  NaN   \n",
       "4                 NaN                  NaN                  NaN   \n",
       "\n",
       "  2024-11-01 00:00:00  \n",
       "0                 NaN  \n",
       "1                 NaN  \n",
       "2                 NaN  \n",
       "3                 NaN  \n",
       "4                 NaN  \n",
       "\n",
       "[5 rows x 217 columns]"
      ]
     },
     "execution_count": 3,
     "metadata": {},
     "output_type": "execute_result"
    }
   ],
   "source": [
    "# Reading the data on which analysis needs to be done\n",
    "deals_database = pd.read_csv('Deals Database.csv')\n",
    "deals_database.head()"
   ]
  },
  {
   "cell_type": "markdown",
   "id": "69eec8fd",
   "metadata": {},
   "source": [
    "To set the cut off point (date) from which to generate the data:"
   ]
  },
  {
   "cell_type": "code",
   "execution_count": 4,
   "id": "9e2d6271",
   "metadata": {},
   "outputs": [
    {
     "name": "stdout",
     "output_type": "stream",
     "text": [
      "The index of Sales Office is 25.\n"
     ]
    }
   ],
   "source": [
    "print(\"The index of Sales Office is \" \n",
    "      + str(deals_database.columns.get_loc(\"Sales Office\"))+\".\")"
   ]
  },
  {
   "cell_type": "code",
   "execution_count": 5,
   "id": "7010feec",
   "metadata": {},
   "outputs": [],
   "source": [
    "df_val = pd.DataFrame(deals_database.iloc[:,26:(deals_database.columns.get_loc(update_month)+1)])"
   ]
  },
  {
   "cell_type": "code",
   "execution_count": 6,
   "id": "f1ef66b5",
   "metadata": {},
   "outputs": [],
   "source": [
    "df = pd.concat([deals_database.loc[:,['Name', 'Salesforce Deal Id']], df_val], axis = 1)"
   ]
  },
  {
   "cell_type": "markdown",
   "id": "e7690cb3",
   "metadata": {},
   "source": [
    "To transpose the table using melt and only select columns with values:"
   ]
  },
  {
   "cell_type": "code",
   "execution_count": 7,
   "id": "f96aa9e7",
   "metadata": {},
   "outputs": [],
   "source": [
    "df = pd.melt(df, id_vars = ['Name', 'Salesforce Deal Id']).dropna(subset = ['value'])\n",
    "df = df[df.value != 0]"
   ]
  },
  {
   "cell_type": "markdown",
   "id": "7fabf741",
   "metadata": {},
   "source": [
    "To rename the columns:"
   ]
  },
  {
   "cell_type": "code",
   "execution_count": 8,
   "id": "cf98f738",
   "metadata": {},
   "outputs": [
    {
     "data": {
      "text/html": [
       "<div>\n",
       "<style scoped>\n",
       "    .dataframe tbody tr th:only-of-type {\n",
       "        vertical-align: middle;\n",
       "    }\n",
       "\n",
       "    .dataframe tbody tr th {\n",
       "        vertical-align: top;\n",
       "    }\n",
       "\n",
       "    .dataframe thead th {\n",
       "        text-align: right;\n",
       "    }\n",
       "</style>\n",
       "<table border=\"1\" class=\"dataframe\">\n",
       "  <thead>\n",
       "    <tr style=\"text-align: right;\">\n",
       "      <th></th>\n",
       "      <th>Name</th>\n",
       "      <th>Salesforce Deal Id</th>\n",
       "      <th>InvoiceDate</th>\n",
       "      <th>Amount</th>\n",
       "    </tr>\n",
       "  </thead>\n",
       "  <tbody>\n",
       "    <tr>\n",
       "      <th>16</th>\n",
       "      <td>Abney, C. Gregory</td>\n",
       "      <td>a016000000I881yAAB</td>\n",
       "      <td>2009-01-01 00:00:00</td>\n",
       "      <td>323.0</td>\n",
       "    </tr>\n",
       "    <tr>\n",
       "      <th>29</th>\n",
       "      <td>Abramovitch, Tina J.</td>\n",
       "      <td>a016000000I7vB6AAJ</td>\n",
       "      <td>2009-01-01 00:00:00</td>\n",
       "      <td>595.0</td>\n",
       "    </tr>\n",
       "    <tr>\n",
       "      <th>30</th>\n",
       "      <td>Abramovitch, Tina J.</td>\n",
       "      <td>a016000000I7vCdAAJ</td>\n",
       "      <td>2009-01-01 00:00:00</td>\n",
       "      <td>405.0</td>\n",
       "    </tr>\n",
       "    <tr>\n",
       "      <th>42</th>\n",
       "      <td>Abrams, Gary D.</td>\n",
       "      <td>a016000000HUsbWAAT</td>\n",
       "      <td>2009-01-01 00:00:00</td>\n",
       "      <td>800.0</td>\n",
       "    </tr>\n",
       "    <tr>\n",
       "      <th>45</th>\n",
       "      <td>Abrams, Matthew E.</td>\n",
       "      <td>a016000000HUsSZAA1</td>\n",
       "      <td>2009-01-01 00:00:00</td>\n",
       "      <td>575.0</td>\n",
       "    </tr>\n",
       "  </tbody>\n",
       "</table>\n",
       "</div>"
      ],
      "text/plain": [
       "                    Name  Salesforce Deal Id          InvoiceDate  Amount\n",
       "16     Abney, C. Gregory  a016000000I881yAAB  2009-01-01 00:00:00   323.0\n",
       "29  Abramovitch, Tina J.  a016000000I7vB6AAJ  2009-01-01 00:00:00   595.0\n",
       "30  Abramovitch, Tina J.  a016000000I7vCdAAJ  2009-01-01 00:00:00   405.0\n",
       "42       Abrams, Gary D.  a016000000HUsbWAAT  2009-01-01 00:00:00   800.0\n",
       "45    Abrams, Matthew E.  a016000000HUsSZAA1  2009-01-01 00:00:00   575.0"
      ]
     },
     "execution_count": 8,
     "metadata": {},
     "output_type": "execute_result"
    }
   ],
   "source": [
    "df.rename(columns = {'variable':'InvoiceDate', 'value':'Amount'}, inplace = True)\n",
    "df.head()"
   ]
  },
  {
   "cell_type": "code",
   "execution_count": 9,
   "id": "7d2a070f",
   "metadata": {},
   "outputs": [
    {
     "data": {
      "text/plain": [
       "(210998, 4)"
      ]
     },
     "execution_count": 9,
     "metadata": {},
     "output_type": "execute_result"
    }
   ],
   "source": [
    "df.shape # Get the shape of the dataframe"
   ]
  },
  {
   "cell_type": "code",
   "execution_count": 10,
   "id": "9272ce3b",
   "metadata": {},
   "outputs": [
    {
     "name": "stdout",
     "output_type": "stream",
     "text": [
      "<class 'pandas.core.frame.DataFrame'>\n",
      "Int64Index: 210998 entries, 16 to 2204047\n",
      "Data columns (total 4 columns):\n",
      " #   Column              Non-Null Count   Dtype  \n",
      "---  ------              --------------   -----  \n",
      " 0   Name                210998 non-null  object \n",
      " 1   Salesforce Deal Id  210998 non-null  object \n",
      " 2   InvoiceDate         210998 non-null  object \n",
      " 3   Amount              210998 non-null  float64\n",
      "dtypes: float64(1), object(3)\n",
      "memory usage: 8.0+ MB\n"
     ]
    }
   ],
   "source": [
    "df.info() # get the df info"
   ]
  },
  {
   "cell_type": "code",
   "execution_count": 11,
   "id": "76e0da0b",
   "metadata": {},
   "outputs": [
    {
     "data": {
      "text/html": [
       "<div>\n",
       "<style scoped>\n",
       "    .dataframe tbody tr th:only-of-type {\n",
       "        vertical-align: middle;\n",
       "    }\n",
       "\n",
       "    .dataframe tbody tr th {\n",
       "        vertical-align: top;\n",
       "    }\n",
       "\n",
       "    .dataframe thead th {\n",
       "        text-align: right;\n",
       "    }\n",
       "</style>\n",
       "<table border=\"1\" class=\"dataframe\">\n",
       "  <thead>\n",
       "    <tr style=\"text-align: right;\">\n",
       "      <th></th>\n",
       "      <th>Amount</th>\n",
       "    </tr>\n",
       "  </thead>\n",
       "  <tbody>\n",
       "    <tr>\n",
       "      <th>count</th>\n",
       "      <td>210998.000000</td>\n",
       "    </tr>\n",
       "    <tr>\n",
       "      <th>mean</th>\n",
       "      <td>704.303107</td>\n",
       "    </tr>\n",
       "    <tr>\n",
       "      <th>std</th>\n",
       "      <td>459.956979</td>\n",
       "    </tr>\n",
       "    <tr>\n",
       "      <th>min</th>\n",
       "      <td>5.500000</td>\n",
       "    </tr>\n",
       "    <tr>\n",
       "      <th>25%</th>\n",
       "      <td>445.750000</td>\n",
       "    </tr>\n",
       "    <tr>\n",
       "      <th>50%</th>\n",
       "      <td>595.000000</td>\n",
       "    </tr>\n",
       "    <tr>\n",
       "      <th>75%</th>\n",
       "      <td>814.937500</td>\n",
       "    </tr>\n",
       "    <tr>\n",
       "      <th>max</th>\n",
       "      <td>13643.520000</td>\n",
       "    </tr>\n",
       "  </tbody>\n",
       "</table>\n",
       "</div>"
      ],
      "text/plain": [
       "              Amount\n",
       "count  210998.000000\n",
       "mean      704.303107\n",
       "std       459.956979\n",
       "min         5.500000\n",
       "25%       445.750000\n",
       "50%       595.000000\n",
       "75%       814.937500\n",
       "max     13643.520000"
      ]
     },
     "execution_count": 11,
     "metadata": {},
     "output_type": "execute_result"
    }
   ],
   "source": [
    "df.describe() # df description"
   ]
  },
  {
   "cell_type": "markdown",
   "id": "3a5572e6",
   "metadata": {},
   "source": [
    "### Step 2 : Data Cleansing"
   ]
  },
  {
   "cell_type": "markdown",
   "id": "4e2285ad",
   "metadata": {},
   "source": [
    "To calculate the % of missing values in the dataframe:"
   ]
  },
  {
   "cell_type": "code",
   "execution_count": 12,
   "id": "62172307",
   "metadata": {},
   "outputs": [
    {
     "data": {
      "text/plain": [
       "Name                  0.0\n",
       "Salesforce Deal Id    0.0\n",
       "InvoiceDate           0.0\n",
       "Amount                0.0\n",
       "dtype: float64"
      ]
     },
     "execution_count": 12,
     "metadata": {},
     "output_type": "execute_result"
    }
   ],
   "source": [
    "df_null = round(100*(df.isnull().sum())/len(df), 2)\n",
    "df_null"
   ]
  },
  {
   "cell_type": "markdown",
   "id": "6f050566",
   "metadata": {},
   "source": [
    "To drop rows with missing values:"
   ]
  },
  {
   "cell_type": "code",
   "execution_count": 13,
   "id": "049f3f14",
   "metadata": {},
   "outputs": [
    {
     "data": {
      "text/plain": [
       "(210998, 4)"
      ]
     },
     "execution_count": 13,
     "metadata": {},
     "output_type": "execute_result"
    }
   ],
   "source": [
    "df = df.dropna()\n",
    "df.shape"
   ]
  },
  {
   "cell_type": "markdown",
   "id": "f243917d",
   "metadata": {},
   "source": [
    "To change the datatype of InvoiceDate from string to datetime:"
   ]
  },
  {
   "cell_type": "code",
   "execution_count": 14,
   "id": "6313d382",
   "metadata": {},
   "outputs": [],
   "source": [
    "df['InvoiceDate'] = pd.to_datetime(df['InvoiceDate'])"
   ]
  },
  {
   "cell_type": "markdown",
   "id": "2e73fd30",
   "metadata": {},
   "source": [
    "### Step 3 : Data Preparation"
   ]
  },
  {
   "cell_type": "markdown",
   "id": "93bc6402",
   "metadata": {},
   "source": [
    "We are going to perform an analysis based on the following factors:\n",
    "* R (Recency): Number of days since last purchase/payment\n",
    "* F (Frequency): Number of tracsactions\n",
    "* M (Monetary): Total amount of transactions (revenue contribution)"
   ]
  },
  {
   "cell_type": "markdown",
   "id": "cda82320",
   "metadata": {},
   "source": [
    "#### For the Monetary attribute:"
   ]
  },
  {
   "cell_type": "code",
   "execution_count": 15,
   "id": "62ddce50",
   "metadata": {},
   "outputs": [
    {
     "data": {
      "text/html": [
       "<div>\n",
       "<style scoped>\n",
       "    .dataframe tbody tr th:only-of-type {\n",
       "        vertical-align: middle;\n",
       "    }\n",
       "\n",
       "    .dataframe tbody tr th {\n",
       "        vertical-align: top;\n",
       "    }\n",
       "\n",
       "    .dataframe thead th {\n",
       "        text-align: right;\n",
       "    }\n",
       "</style>\n",
       "<table border=\"1\" class=\"dataframe\">\n",
       "  <thead>\n",
       "    <tr style=\"text-align: right;\">\n",
       "      <th></th>\n",
       "      <th>Name</th>\n",
       "      <th>Amount</th>\n",
       "    </tr>\n",
       "  </thead>\n",
       "  <tbody>\n",
       "    <tr>\n",
       "      <th>0</th>\n",
       "      <td>Aaroe, Paul M.</td>\n",
       "      <td>8760.0</td>\n",
       "    </tr>\n",
       "    <tr>\n",
       "      <th>1</th>\n",
       "      <td>Aaronson, Austin</td>\n",
       "      <td>5425.0</td>\n",
       "    </tr>\n",
       "    <tr>\n",
       "      <th>2</th>\n",
       "      <td>Abasi, Evelyn J.</td>\n",
       "      <td>9997.4</td>\n",
       "    </tr>\n",
       "    <tr>\n",
       "      <th>3</th>\n",
       "      <td>Abbitt, Julia Chico</td>\n",
       "      <td>2975.0</td>\n",
       "    </tr>\n",
       "    <tr>\n",
       "      <th>4</th>\n",
       "      <td>Abdala, Dianna</td>\n",
       "      <td>20250.0</td>\n",
       "    </tr>\n",
       "  </tbody>\n",
       "</table>\n",
       "</div>"
      ],
      "text/plain": [
       "                  Name   Amount\n",
       "0       Aaroe, Paul M.   8760.0\n",
       "1     Aaronson, Austin   5425.0\n",
       "2     Abasi, Evelyn J.   9997.4\n",
       "3  Abbitt, Julia Chico   2975.0\n",
       "4       Abdala, Dianna  20250.0"
      ]
     },
     "execution_count": 15,
     "metadata": {},
     "output_type": "execute_result"
    }
   ],
   "source": [
    "rfm_m = df.groupby('Name')['Amount'].sum()\n",
    "rfm_m = rfm_m.reset_index()\n",
    "rfm_m.head()"
   ]
  },
  {
   "cell_type": "markdown",
   "id": "cff95df3",
   "metadata": {},
   "source": [
    "#### For the Frequency Attribute:"
   ]
  },
  {
   "cell_type": "code",
   "execution_count": 16,
   "id": "aa62e5ac",
   "metadata": {},
   "outputs": [
    {
     "data": {
      "text/html": [
       "<div>\n",
       "<style scoped>\n",
       "    .dataframe tbody tr th:only-of-type {\n",
       "        vertical-align: middle;\n",
       "    }\n",
       "\n",
       "    .dataframe tbody tr th {\n",
       "        vertical-align: top;\n",
       "    }\n",
       "\n",
       "    .dataframe thead th {\n",
       "        text-align: right;\n",
       "    }\n",
       "</style>\n",
       "<table border=\"1\" class=\"dataframe\">\n",
       "  <thead>\n",
       "    <tr style=\"text-align: right;\">\n",
       "      <th></th>\n",
       "      <th>Name</th>\n",
       "      <th>Frequency</th>\n",
       "    </tr>\n",
       "  </thead>\n",
       "  <tbody>\n",
       "    <tr>\n",
       "      <th>0</th>\n",
       "      <td>Aaroe, Paul M.</td>\n",
       "      <td>24</td>\n",
       "    </tr>\n",
       "    <tr>\n",
       "      <th>1</th>\n",
       "      <td>Aaronson, Austin</td>\n",
       "      <td>5</td>\n",
       "    </tr>\n",
       "    <tr>\n",
       "      <th>2</th>\n",
       "      <td>Abasi, Evelyn J.</td>\n",
       "      <td>21</td>\n",
       "    </tr>\n",
       "    <tr>\n",
       "      <th>3</th>\n",
       "      <td>Abbitt, Julia Chico</td>\n",
       "      <td>7</td>\n",
       "    </tr>\n",
       "    <tr>\n",
       "      <th>4</th>\n",
       "      <td>Abdala, Dianna</td>\n",
       "      <td>15</td>\n",
       "    </tr>\n",
       "  </tbody>\n",
       "</table>\n",
       "</div>"
      ],
      "text/plain": [
       "                  Name  Frequency\n",
       "0       Aaroe, Paul M.         24\n",
       "1     Aaronson, Austin          5\n",
       "2     Abasi, Evelyn J.         21\n",
       "3  Abbitt, Julia Chico          7\n",
       "4       Abdala, Dianna         15"
      ]
     },
     "execution_count": 16,
     "metadata": {},
     "output_type": "execute_result"
    }
   ],
   "source": [
    "rfm_f = df.groupby('Name')['InvoiceDate'].count() #you can also use other columns here\n",
    "rfm_f = rfm_f.reset_index()\n",
    "rfm_f.columns = ['Name', 'Frequency']\n",
    "rfm_f.head()"
   ]
  },
  {
   "cell_type": "markdown",
   "id": "51d1a473",
   "metadata": {},
   "source": [
    "To merge the two dataframes:"
   ]
  },
  {
   "cell_type": "code",
   "execution_count": 17,
   "id": "388e697a",
   "metadata": {},
   "outputs": [
    {
     "data": {
      "text/html": [
       "<div>\n",
       "<style scoped>\n",
       "    .dataframe tbody tr th:only-of-type {\n",
       "        vertical-align: middle;\n",
       "    }\n",
       "\n",
       "    .dataframe tbody tr th {\n",
       "        vertical-align: top;\n",
       "    }\n",
       "\n",
       "    .dataframe thead th {\n",
       "        text-align: right;\n",
       "    }\n",
       "</style>\n",
       "<table border=\"1\" class=\"dataframe\">\n",
       "  <thead>\n",
       "    <tr style=\"text-align: right;\">\n",
       "      <th></th>\n",
       "      <th>Name</th>\n",
       "      <th>Amount</th>\n",
       "      <th>Frequency</th>\n",
       "    </tr>\n",
       "  </thead>\n",
       "  <tbody>\n",
       "    <tr>\n",
       "      <th>0</th>\n",
       "      <td>Aaroe, Paul M.</td>\n",
       "      <td>8760.0</td>\n",
       "      <td>24</td>\n",
       "    </tr>\n",
       "    <tr>\n",
       "      <th>1</th>\n",
       "      <td>Aaronson, Austin</td>\n",
       "      <td>5425.0</td>\n",
       "      <td>5</td>\n",
       "    </tr>\n",
       "    <tr>\n",
       "      <th>2</th>\n",
       "      <td>Abasi, Evelyn J.</td>\n",
       "      <td>9997.4</td>\n",
       "      <td>21</td>\n",
       "    </tr>\n",
       "    <tr>\n",
       "      <th>3</th>\n",
       "      <td>Abbitt, Julia Chico</td>\n",
       "      <td>2975.0</td>\n",
       "      <td>7</td>\n",
       "    </tr>\n",
       "    <tr>\n",
       "      <th>4</th>\n",
       "      <td>Abdala, Dianna</td>\n",
       "      <td>20250.0</td>\n",
       "      <td>15</td>\n",
       "    </tr>\n",
       "  </tbody>\n",
       "</table>\n",
       "</div>"
      ],
      "text/plain": [
       "                  Name   Amount  Frequency\n",
       "0       Aaroe, Paul M.   8760.0         24\n",
       "1     Aaronson, Austin   5425.0          5\n",
       "2     Abasi, Evelyn J.   9997.4         21\n",
       "3  Abbitt, Julia Chico   2975.0          7\n",
       "4       Abdala, Dianna  20250.0         15"
      ]
     },
     "execution_count": 17,
     "metadata": {},
     "output_type": "execute_result"
    }
   ],
   "source": [
    "rfm = pd.merge(rfm_m, rfm_f, on='Name', how='inner')\n",
    "rfm.head()"
   ]
  },
  {
   "cell_type": "markdown",
   "id": "718fa583",
   "metadata": {},
   "source": [
    "#### For the Recency attribute:"
   ]
  },
  {
   "cell_type": "markdown",
   "id": "87c24b66",
   "metadata": {},
   "source": [
    "To compute the maximum date to know the last transaction date:"
   ]
  },
  {
   "cell_type": "code",
   "execution_count": 18,
   "id": "e3e0e82d",
   "metadata": {},
   "outputs": [
    {
     "data": {
      "text/plain": [
       "Timestamp('2021-10-01 00:00:00')"
      ]
     },
     "execution_count": 18,
     "metadata": {},
     "output_type": "execute_result"
    }
   ],
   "source": [
    "max_date = max(df['InvoiceDate'])\n",
    "max_date"
   ]
  },
  {
   "cell_type": "markdown",
   "id": "5b732f41",
   "metadata": {},
   "source": [
    "To compute the difference between maximum date and Invoice Date:"
   ]
  },
  {
   "cell_type": "code",
   "execution_count": 19,
   "id": "40a0705e",
   "metadata": {},
   "outputs": [
    {
     "data": {
      "text/html": [
       "<div>\n",
       "<style scoped>\n",
       "    .dataframe tbody tr th:only-of-type {\n",
       "        vertical-align: middle;\n",
       "    }\n",
       "\n",
       "    .dataframe tbody tr th {\n",
       "        vertical-align: top;\n",
       "    }\n",
       "\n",
       "    .dataframe thead th {\n",
       "        text-align: right;\n",
       "    }\n",
       "</style>\n",
       "<table border=\"1\" class=\"dataframe\">\n",
       "  <thead>\n",
       "    <tr style=\"text-align: right;\">\n",
       "      <th></th>\n",
       "      <th>Name</th>\n",
       "      <th>Salesforce Deal Id</th>\n",
       "      <th>InvoiceDate</th>\n",
       "      <th>Amount</th>\n",
       "      <th>Diff</th>\n",
       "    </tr>\n",
       "  </thead>\n",
       "  <tbody>\n",
       "    <tr>\n",
       "      <th>16</th>\n",
       "      <td>Abney, C. Gregory</td>\n",
       "      <td>a016000000I881yAAB</td>\n",
       "      <td>2009-01-01</td>\n",
       "      <td>323.0</td>\n",
       "      <td>4656 days</td>\n",
       "    </tr>\n",
       "    <tr>\n",
       "      <th>29</th>\n",
       "      <td>Abramovitch, Tina J.</td>\n",
       "      <td>a016000000I7vB6AAJ</td>\n",
       "      <td>2009-01-01</td>\n",
       "      <td>595.0</td>\n",
       "      <td>4656 days</td>\n",
       "    </tr>\n",
       "    <tr>\n",
       "      <th>30</th>\n",
       "      <td>Abramovitch, Tina J.</td>\n",
       "      <td>a016000000I7vCdAAJ</td>\n",
       "      <td>2009-01-01</td>\n",
       "      <td>405.0</td>\n",
       "      <td>4656 days</td>\n",
       "    </tr>\n",
       "    <tr>\n",
       "      <th>42</th>\n",
       "      <td>Abrams, Gary D.</td>\n",
       "      <td>a016000000HUsbWAAT</td>\n",
       "      <td>2009-01-01</td>\n",
       "      <td>800.0</td>\n",
       "      <td>4656 days</td>\n",
       "    </tr>\n",
       "    <tr>\n",
       "      <th>45</th>\n",
       "      <td>Abrams, Matthew E.</td>\n",
       "      <td>a016000000HUsSZAA1</td>\n",
       "      <td>2009-01-01</td>\n",
       "      <td>575.0</td>\n",
       "      <td>4656 days</td>\n",
       "    </tr>\n",
       "  </tbody>\n",
       "</table>\n",
       "</div>"
      ],
      "text/plain": [
       "                    Name  Salesforce Deal Id InvoiceDate  Amount      Diff\n",
       "16     Abney, C. Gregory  a016000000I881yAAB  2009-01-01   323.0 4656 days\n",
       "29  Abramovitch, Tina J.  a016000000I7vB6AAJ  2009-01-01   595.0 4656 days\n",
       "30  Abramovitch, Tina J.  a016000000I7vCdAAJ  2009-01-01   405.0 4656 days\n",
       "42       Abrams, Gary D.  a016000000HUsbWAAT  2009-01-01   800.0 4656 days\n",
       "45    Abrams, Matthew E.  a016000000HUsSZAA1  2009-01-01   575.0 4656 days"
      ]
     },
     "execution_count": 19,
     "metadata": {},
     "output_type": "execute_result"
    }
   ],
   "source": [
    "df['Diff'] = max_date - df['InvoiceDate']\n",
    "df.head()"
   ]
  },
  {
   "cell_type": "markdown",
   "id": "3befb255",
   "metadata": {},
   "source": [
    "To compute last transaction date to get the recency of customers:"
   ]
  },
  {
   "cell_type": "code",
   "execution_count": 20,
   "id": "45c823c8",
   "metadata": {},
   "outputs": [
    {
     "data": {
      "text/html": [
       "<div>\n",
       "<style scoped>\n",
       "    .dataframe tbody tr th:only-of-type {\n",
       "        vertical-align: middle;\n",
       "    }\n",
       "\n",
       "    .dataframe tbody tr th {\n",
       "        vertical-align: top;\n",
       "    }\n",
       "\n",
       "    .dataframe thead th {\n",
       "        text-align: right;\n",
       "    }\n",
       "</style>\n",
       "<table border=\"1\" class=\"dataframe\">\n",
       "  <thead>\n",
       "    <tr style=\"text-align: right;\">\n",
       "      <th></th>\n",
       "      <th>Name</th>\n",
       "      <th>Diff</th>\n",
       "    </tr>\n",
       "  </thead>\n",
       "  <tbody>\n",
       "    <tr>\n",
       "      <th>0</th>\n",
       "      <td>Aaroe, Paul M.</td>\n",
       "      <td>3745 days</td>\n",
       "    </tr>\n",
       "    <tr>\n",
       "      <th>1</th>\n",
       "      <td>Aaronson, Austin</td>\n",
       "      <td>731 days</td>\n",
       "    </tr>\n",
       "    <tr>\n",
       "      <th>2</th>\n",
       "      <td>Abasi, Evelyn J.</td>\n",
       "      <td>2161 days</td>\n",
       "    </tr>\n",
       "    <tr>\n",
       "      <th>3</th>\n",
       "      <td>Abbitt, Julia Chico</td>\n",
       "      <td>1522 days</td>\n",
       "    </tr>\n",
       "    <tr>\n",
       "      <th>4</th>\n",
       "      <td>Abdala, Dianna</td>\n",
       "      <td>1826 days</td>\n",
       "    </tr>\n",
       "  </tbody>\n",
       "</table>\n",
       "</div>"
      ],
      "text/plain": [
       "                  Name      Diff\n",
       "0       Aaroe, Paul M. 3745 days\n",
       "1     Aaronson, Austin  731 days\n",
       "2     Abasi, Evelyn J. 2161 days\n",
       "3  Abbitt, Julia Chico 1522 days\n",
       "4       Abdala, Dianna 1826 days"
      ]
     },
     "execution_count": 20,
     "metadata": {},
     "output_type": "execute_result"
    }
   ],
   "source": [
    "rfm_p = df.groupby('Name')['Diff'].min()\n",
    "rfm_p = rfm_p.reset_index()\n",
    "rfm_p.head()"
   ]
  },
  {
   "cell_type": "markdown",
   "id": "149d408e",
   "metadata": {},
   "source": [
    "To get the exact number of days:"
   ]
  },
  {
   "cell_type": "code",
   "execution_count": 21,
   "id": "744e5965",
   "metadata": {},
   "outputs": [
    {
     "data": {
      "text/html": [
       "<div>\n",
       "<style scoped>\n",
       "    .dataframe tbody tr th:only-of-type {\n",
       "        vertical-align: middle;\n",
       "    }\n",
       "\n",
       "    .dataframe tbody tr th {\n",
       "        vertical-align: top;\n",
       "    }\n",
       "\n",
       "    .dataframe thead th {\n",
       "        text-align: right;\n",
       "    }\n",
       "</style>\n",
       "<table border=\"1\" class=\"dataframe\">\n",
       "  <thead>\n",
       "    <tr style=\"text-align: right;\">\n",
       "      <th></th>\n",
       "      <th>Name</th>\n",
       "      <th>Diff</th>\n",
       "    </tr>\n",
       "  </thead>\n",
       "  <tbody>\n",
       "    <tr>\n",
       "      <th>0</th>\n",
       "      <td>Aaroe, Paul M.</td>\n",
       "      <td>3745</td>\n",
       "    </tr>\n",
       "    <tr>\n",
       "      <th>1</th>\n",
       "      <td>Aaronson, Austin</td>\n",
       "      <td>731</td>\n",
       "    </tr>\n",
       "    <tr>\n",
       "      <th>2</th>\n",
       "      <td>Abasi, Evelyn J.</td>\n",
       "      <td>2161</td>\n",
       "    </tr>\n",
       "    <tr>\n",
       "      <th>3</th>\n",
       "      <td>Abbitt, Julia Chico</td>\n",
       "      <td>1522</td>\n",
       "    </tr>\n",
       "    <tr>\n",
       "      <th>4</th>\n",
       "      <td>Abdala, Dianna</td>\n",
       "      <td>1826</td>\n",
       "    </tr>\n",
       "  </tbody>\n",
       "</table>\n",
       "</div>"
      ],
      "text/plain": [
       "                  Name  Diff\n",
       "0       Aaroe, Paul M.  3745\n",
       "1     Aaronson, Austin   731\n",
       "2     Abasi, Evelyn J.  2161\n",
       "3  Abbitt, Julia Chico  1522\n",
       "4       Abdala, Dianna  1826"
      ]
     },
     "execution_count": 21,
     "metadata": {},
     "output_type": "execute_result"
    }
   ],
   "source": [
    "rfm_p['Diff'] = rfm_p['Diff'].dt.days\n",
    "rfm_p.head()"
   ]
  },
  {
   "cell_type": "markdown",
   "id": "84b3ddd1",
   "metadata": {},
   "source": [
    "Add one day to the 'Diff' column to avoid -inf in the log conversion:"
   ]
  },
  {
   "cell_type": "code",
   "execution_count": 22,
   "id": "f30edeaf",
   "metadata": {},
   "outputs": [],
   "source": [
    "rfm_p['Diff'] = rfm_p['Diff'] + 1"
   ]
  },
  {
   "cell_type": "markdown",
   "id": "01edc22f",
   "metadata": {},
   "source": [
    " To merge tha dataframes to get the final RFM dataframe:"
   ]
  },
  {
   "cell_type": "code",
   "execution_count": 23,
   "id": "7beeaa7b",
   "metadata": {},
   "outputs": [
    {
     "data": {
      "text/html": [
       "<div>\n",
       "<style scoped>\n",
       "    .dataframe tbody tr th:only-of-type {\n",
       "        vertical-align: middle;\n",
       "    }\n",
       "\n",
       "    .dataframe tbody tr th {\n",
       "        vertical-align: top;\n",
       "    }\n",
       "\n",
       "    .dataframe thead th {\n",
       "        text-align: right;\n",
       "    }\n",
       "</style>\n",
       "<table border=\"1\" class=\"dataframe\">\n",
       "  <thead>\n",
       "    <tr style=\"text-align: right;\">\n",
       "      <th></th>\n",
       "      <th>Name</th>\n",
       "      <th>Amount</th>\n",
       "      <th>Frequency</th>\n",
       "      <th>Recency</th>\n",
       "    </tr>\n",
       "  </thead>\n",
       "  <tbody>\n",
       "    <tr>\n",
       "      <th>0</th>\n",
       "      <td>Aaroe, Paul M.</td>\n",
       "      <td>8760.0</td>\n",
       "      <td>24</td>\n",
       "      <td>3746</td>\n",
       "    </tr>\n",
       "    <tr>\n",
       "      <th>1</th>\n",
       "      <td>Aaronson, Austin</td>\n",
       "      <td>5425.0</td>\n",
       "      <td>5</td>\n",
       "      <td>732</td>\n",
       "    </tr>\n",
       "    <tr>\n",
       "      <th>2</th>\n",
       "      <td>Abasi, Evelyn J.</td>\n",
       "      <td>9997.4</td>\n",
       "      <td>21</td>\n",
       "      <td>2162</td>\n",
       "    </tr>\n",
       "    <tr>\n",
       "      <th>3</th>\n",
       "      <td>Abbitt, Julia Chico</td>\n",
       "      <td>2975.0</td>\n",
       "      <td>7</td>\n",
       "      <td>1523</td>\n",
       "    </tr>\n",
       "    <tr>\n",
       "      <th>4</th>\n",
       "      <td>Abdala, Dianna</td>\n",
       "      <td>20250.0</td>\n",
       "      <td>15</td>\n",
       "      <td>1827</td>\n",
       "    </tr>\n",
       "  </tbody>\n",
       "</table>\n",
       "</div>"
      ],
      "text/plain": [
       "                  Name   Amount  Frequency  Recency\n",
       "0       Aaroe, Paul M.   8760.0         24     3746\n",
       "1     Aaronson, Austin   5425.0          5      732\n",
       "2     Abasi, Evelyn J.   9997.4         21     2162\n",
       "3  Abbitt, Julia Chico   2975.0          7     1523\n",
       "4       Abdala, Dianna  20250.0         15     1827"
      ]
     },
     "execution_count": 23,
     "metadata": {},
     "output_type": "execute_result"
    }
   ],
   "source": [
    "rfm = pd.merge(rfm, rfm_p, on='Name', how='inner')\n",
    "rfm.columns = ['Name', 'Amount', 'Frequency', 'Recency']\n",
    "rfm.head()"
   ]
  },
  {
   "cell_type": "markdown",
   "id": "c09b356a",
   "metadata": {},
   "source": [
    "### Outliers"
   ]
  },
  {
   "cell_type": "markdown",
   "id": "046124fe",
   "metadata": {},
   "source": [
    "Note: This is still subject to discussion. For now, we have not removed the outliers."
   ]
  },
  {
   "cell_type": "markdown",
   "id": "90a0d181",
   "metadata": {},
   "source": [
    "There are 2 types of outliers and we will treat outliers as it can skew our dataset:\n",
    "* Statistical\n",
    "* Domain specific"
   ]
  },
  {
   "cell_type": "code",
   "execution_count": 24,
   "id": "59b274f2",
   "metadata": {},
   "outputs": [
    {
     "data": {
      "text/plain": [
       "Text(0.5, 0, 'Attributes')"
      ]
     },
     "execution_count": 24,
     "metadata": {},
     "output_type": "execute_result"
    },
    {
     "data": {
      "image/png": "[encoded data removed]",
      "text/plain": [
       "<Figure size 720x576 with 1 Axes>"
      ]
     },
     "metadata": {
      "needs_background": "light"
     },
     "output_type": "display_data"
    }
   ],
   "source": [
    "attributes = ['Amount','Frequency','Recency']\n",
    "plt.rcParams['figure.figsize'] = [10,8]\n",
    "sns.boxplot(data = rfm[attributes], orient=\"v\", palette=\"Set2\" ,whis=1.5,saturation=1, width=0.7)\n",
    "plt.title(\"Outliers Variable Distribution\", fontsize = 14, fontweight = 'bold')\n",
    "plt.ylabel(\"Range\", fontweight = 'bold')\n",
    "plt.xlabel(\"Attributes\", fontweight = 'bold')"
   ]
  },
  {
   "cell_type": "markdown",
   "id": "e674b4db",
   "metadata": {},
   "source": [
    "To remove the statistical outliers for Amount:"
   ]
  },
  {
   "cell_type": "code",
   "execution_count": 25,
   "id": "dd86126b",
   "metadata": {},
   "outputs": [],
   "source": [
    "#Q1 = rfm.Amount.quantile(0.05)\n",
    "#Q3 = rfm.Amount.quantile(0.95)\n",
    "#IQR = Q3 - Q1\n",
    "#rfm = rfm[(rfm.Amount >= Q1 - 1.5*IQR) & (rfm.Amount <= Q3 + 1.5*IQR)]"
   ]
  },
  {
   "cell_type": "markdown",
   "id": "87a7ab7e",
   "metadata": {},
   "source": [
    "To remove statistical outliers for Recency:"
   ]
  },
  {
   "cell_type": "code",
   "execution_count": 26,
   "id": "b4941f6f",
   "metadata": {},
   "outputs": [],
   "source": [
    "#Q1 = rfm.Recency.quantile(0.05)\n",
    "#Q3 = rfm.Recency.quantile(0.95)\n",
    "#IQR = Q3 - Q1\n",
    "#rfm = rfm[(rfm.Recency >= Q1 - 1.5*IQR) & (rfm.Recency <= Q3 + 1.5*IQR)]"
   ]
  },
  {
   "cell_type": "markdown",
   "id": "7bdc00b2",
   "metadata": {},
   "source": [
    "To remove statistical outliers for Frequency:"
   ]
  },
  {
   "cell_type": "code",
   "execution_count": 27,
   "id": "78685bc4",
   "metadata": {},
   "outputs": [],
   "source": [
    "#Q1 = rfm.Frequency.quantile(0.05)\n",
    "#Q3 = rfm.Frequency.quantile(0.95)\n",
    "#IQR = Q3 - Q1\n",
    "#rfm = rfm[(rfm.Frequency >= Q1 - 1.5*IQR) & (rfm.Frequency <= Q3 + 1.5*IQR)]"
   ]
  },
  {
   "cell_type": "code",
   "execution_count": 28,
   "id": "055e7e74",
   "metadata": {},
   "outputs": [
    {
     "name": "stderr",
     "output_type": "stream",
     "text": [
      "C:\\Users\\DataAnalyst\\anaconda3\\lib\\site-packages\\seaborn\\distributions.py:2557: FutureWarning: `distplot` is a deprecated function and will be removed in a future version. Please adapt your code to use either `displot` (a figure-level function with similar flexibility) or `histplot` (an axes-level function for histograms).\n",
      "  warnings.warn(msg, FutureWarning)\n",
      "C:\\Users\\DataAnalyst\\anaconda3\\lib\\site-packages\\seaborn\\distributions.py:2557: FutureWarning: `distplot` is a deprecated function and will be removed in a future version. Please adapt your code to use either `displot` (a figure-level function with similar flexibility) or `histplot` (an axes-level function for histograms).\n",
      "  warnings.warn(msg, FutureWarning)\n",
      "C:\\Users\\DataAnalyst\\anaconda3\\lib\\site-packages\\seaborn\\distributions.py:2557: FutureWarning: `distplot` is a deprecated function and will be removed in a future version. Please adapt your code to use either `displot` (a figure-level function with similar flexibility) or `histplot` (an axes-level function for histograms).\n",
      "  warnings.warn(msg, FutureWarning)\n"
     ]
    },
    {
     "data": {
      "image/png": "[encoded data removed]",
      "text/plain": [
       "<Figure size 720x864 with 3 Axes>"
      ]
     },
     "metadata": {
      "needs_background": "light"
     },
     "output_type": "display_data"
    }
   ],
   "source": [
    "# plot the distribution of RFM values\n",
    "f,ax = plt.subplots(figsize=(10, 12))\n",
    "plt.subplot(3, 1, 1); sns.distplot(rfm.Recency, label = 'Recency')\n",
    "plt.subplot(3, 1, 2); sns.distplot(rfm.Frequency, label = 'Frequency')\n",
    "plt.subplot(3, 1, 3); sns.distplot(rfm.Amount, label = 'Amount')\n",
    "plt.style.use('fivethirtyeight')\n",
    "plt.tight_layout()\n",
    "plt.show()"
   ]
  },
  {
   "cell_type": "code",
   "execution_count": 29,
   "id": "d7e12ccd",
   "metadata": {},
   "outputs": [],
   "source": [
    "#Unskew the data with log transformation\n",
    "rfm_log = rfm[['Recency', 'Frequency', 'Amount']].apply(np.log, axis = 1).round(3)\n",
    "#or rfm_log = np.log(rfm_rfm)"
   ]
  },
  {
   "cell_type": "code",
   "execution_count": 30,
   "id": "c3a04ebc",
   "metadata": {},
   "outputs": [
    {
     "data": {
      "text/html": [
       "<div>\n",
       "<style scoped>\n",
       "    .dataframe tbody tr th:only-of-type {\n",
       "        vertical-align: middle;\n",
       "    }\n",
       "\n",
       "    .dataframe tbody tr th {\n",
       "        vertical-align: top;\n",
       "    }\n",
       "\n",
       "    .dataframe thead th {\n",
       "        text-align: right;\n",
       "    }\n",
       "</style>\n",
       "<table border=\"1\" class=\"dataframe\">\n",
       "  <thead>\n",
       "    <tr style=\"text-align: right;\">\n",
       "      <th></th>\n",
       "      <th>Recency</th>\n",
       "      <th>Frequency</th>\n",
       "      <th>Amount</th>\n",
       "    </tr>\n",
       "  </thead>\n",
       "  <tbody>\n",
       "    <tr>\n",
       "      <th>count</th>\n",
       "      <td>7938.000000</td>\n",
       "      <td>7938.000000</td>\n",
       "      <td>7938.000000</td>\n",
       "    </tr>\n",
       "    <tr>\n",
       "      <th>mean</th>\n",
       "      <td>5.603491</td>\n",
       "      <td>2.704622</td>\n",
       "      <td>9.147069</td>\n",
       "    </tr>\n",
       "    <tr>\n",
       "      <th>std</th>\n",
       "      <td>3.240952</td>\n",
       "      <td>1.127373</td>\n",
       "      <td>1.183730</td>\n",
       "    </tr>\n",
       "    <tr>\n",
       "      <th>min</th>\n",
       "      <td>0.000000</td>\n",
       "      <td>0.000000</td>\n",
       "      <td>5.288000</td>\n",
       "    </tr>\n",
       "    <tr>\n",
       "      <th>25%</th>\n",
       "      <td>4.127000</td>\n",
       "      <td>1.946000</td>\n",
       "      <td>8.461000</td>\n",
       "    </tr>\n",
       "    <tr>\n",
       "      <th>50%</th>\n",
       "      <td>7.266000</td>\n",
       "      <td>2.833000</td>\n",
       "      <td>9.200000</td>\n",
       "    </tr>\n",
       "    <tr>\n",
       "      <th>75%</th>\n",
       "      <td>8.001000</td>\n",
       "      <td>3.466000</td>\n",
       "      <td>9.879750</td>\n",
       "    </tr>\n",
       "    <tr>\n",
       "      <th>max</th>\n",
       "      <td>8.446000</td>\n",
       "      <td>7.213000</td>\n",
       "      <td>13.777000</td>\n",
       "    </tr>\n",
       "  </tbody>\n",
       "</table>\n",
       "</div>"
      ],
      "text/plain": [
       "           Recency    Frequency       Amount\n",
       "count  7938.000000  7938.000000  7938.000000\n",
       "mean      5.603491     2.704622     9.147069\n",
       "std       3.240952     1.127373     1.183730\n",
       "min       0.000000     0.000000     5.288000\n",
       "25%       4.127000     1.946000     8.461000\n",
       "50%       7.266000     2.833000     9.200000\n",
       "75%       8.001000     3.466000     9.879750\n",
       "max       8.446000     7.213000    13.777000"
      ]
     },
     "execution_count": 30,
     "metadata": {},
     "output_type": "execute_result"
    }
   ],
   "source": [
    "rfm_log.describe()"
   ]
  },
  {
   "cell_type": "code",
   "execution_count": 31,
   "id": "b81462e4",
   "metadata": {},
   "outputs": [
    {
     "name": "stderr",
     "output_type": "stream",
     "text": [
      "C:\\Users\\DataAnalyst\\anaconda3\\lib\\site-packages\\seaborn\\distributions.py:2557: FutureWarning: `distplot` is a deprecated function and will be removed in a future version. Please adapt your code to use either `displot` (a figure-level function with similar flexibility) or `histplot` (an axes-level function for histograms).\n",
      "  warnings.warn(msg, FutureWarning)\n",
      "C:\\Users\\DataAnalyst\\anaconda3\\lib\\site-packages\\seaborn\\distributions.py:2557: FutureWarning: `distplot` is a deprecated function and will be removed in a future version. Please adapt your code to use either `displot` (a figure-level function with similar flexibility) or `histplot` (an axes-level function for histograms).\n",
      "  warnings.warn(msg, FutureWarning)\n",
      "C:\\Users\\DataAnalyst\\anaconda3\\lib\\site-packages\\seaborn\\distributions.py:2557: FutureWarning: `distplot` is a deprecated function and will be removed in a future version. Please adapt your code to use either `displot` (a figure-level function with similar flexibility) or `histplot` (an axes-level function for histograms).\n",
      "  warnings.warn(msg, FutureWarning)\n"
     ]
    },
    {
     "data": {
      "image/png": "[encoded data removed]",
      "text/plain": [
       "<Figure size 720x864 with 3 Axes>"
      ]
     },
     "metadata": {},
     "output_type": "display_data"
    }
   ],
   "source": [
    "# plot the distribution of RFM values\n",
    "f,ax = plt.subplots(figsize=(10, 12))\n",
    "plt.subplot(3, 1, 1); sns.distplot(rfm_log.Recency, label = 'Recency')\n",
    "plt.subplot(3, 1, 2); sns.distplot(rfm_log.Frequency, label = 'Frequency')\n",
    "plt.subplot(3, 1, 3); sns.distplot(rfm_log.Amount, label = 'Amount')\n",
    "plt.style.use('fivethirtyeight')\n",
    "plt.tight_layout()\n",
    "plt.show()"
   ]
  },
  {
   "cell_type": "markdown",
   "id": "131de242",
   "metadata": {},
   "source": [
    "#### Rescaling the attributes:"
   ]
  },
  {
   "cell_type": "markdown",
   "id": "268c28dd",
   "metadata": {},
   "source": [
    "It is extremely important to rescale the variables so that they have a comparable scale. There are two common ways of rescaling:\n",
    "\n",
    "* Min-Max scaling\n",
    "* Standardisation (mean-0, sigma-1)\n",
    "\n",
    "Here, we will use Standardisation Scaling."
   ]
  },
  {
   "cell_type": "code",
   "execution_count": 32,
   "id": "57c3b4e6",
   "metadata": {},
   "outputs": [
    {
     "data": {
      "text/plain": [
       "(7938, 3)"
      ]
     },
     "execution_count": 32,
     "metadata": {},
     "output_type": "execute_result"
    }
   ],
   "source": [
    "rfm_df = rfm[['Amount', 'Frequency', 'Recency']]\n",
    "\n",
    "# Instantiate\n",
    "scaler = StandardScaler()\n",
    "\n",
    "# fit_transform\n",
    "rfm_df_scaled = scaler.fit_transform(rfm_df)\n",
    "rfm_df_scaled.shape"
   ]
  },
  {
   "cell_type": "markdown",
   "id": "6bfd7d80",
   "metadata": {},
   "source": [
    "To convert the array to a dataframe:"
   ]
  },
  {
   "cell_type": "code",
   "execution_count": 33,
   "id": "cd6afa4a",
   "metadata": {},
   "outputs": [
    {
     "data": {
      "text/html": [
       "<div>\n",
       "<style scoped>\n",
       "    .dataframe tbody tr th:only-of-type {\n",
       "        vertical-align: middle;\n",
       "    }\n",
       "\n",
       "    .dataframe tbody tr th {\n",
       "        vertical-align: top;\n",
       "    }\n",
       "\n",
       "    .dataframe thead th {\n",
       "        text-align: right;\n",
       "    }\n",
       "</style>\n",
       "<table border=\"1\" class=\"dataframe\">\n",
       "  <thead>\n",
       "    <tr style=\"text-align: right;\">\n",
       "      <th></th>\n",
       "      <th>Amount</th>\n",
       "      <th>Frequency</th>\n",
       "      <th>Recency</th>\n",
       "    </tr>\n",
       "  </thead>\n",
       "  <tbody>\n",
       "    <tr>\n",
       "      <th>0</th>\n",
       "      <td>-0.293017</td>\n",
       "      <td>-0.069516</td>\n",
       "      <td>1.401634</td>\n",
       "    </tr>\n",
       "    <tr>\n",
       "      <th>1</th>\n",
       "      <td>-0.391122</td>\n",
       "      <td>-0.581307</td>\n",
       "      <td>-0.620721</td>\n",
       "    </tr>\n",
       "    <tr>\n",
       "      <th>2</th>\n",
       "      <td>-0.256617</td>\n",
       "      <td>-0.150325</td>\n",
       "      <td>0.338791</td>\n",
       "    </tr>\n",
       "    <tr>\n",
       "      <th>3</th>\n",
       "      <td>-0.463193</td>\n",
       "      <td>-0.527434</td>\n",
       "      <td>-0.089970</td>\n",
       "    </tr>\n",
       "    <tr>\n",
       "      <th>4</th>\n",
       "      <td>0.044981</td>\n",
       "      <td>-0.311943</td>\n",
       "      <td>0.114010</td>\n",
       "    </tr>\n",
       "  </tbody>\n",
       "</table>\n",
       "</div>"
      ],
      "text/plain": [
       "     Amount  Frequency   Recency\n",
       "0 -0.293017  -0.069516  1.401634\n",
       "1 -0.391122  -0.581307 -0.620721\n",
       "2 -0.256617  -0.150325  0.338791\n",
       "3 -0.463193  -0.527434 -0.089970\n",
       "4  0.044981  -0.311943  0.114010"
      ]
     },
     "execution_count": 33,
     "metadata": {},
     "output_type": "execute_result"
    }
   ],
   "source": [
    "rfm_df_scaled = pd.DataFrame(rfm_df_scaled)\n",
    "rfm_df_scaled.columns = ['Amount', 'Frequency', 'Recency']\n",
    "rfm_df_scaled.head()"
   ]
  },
  {
   "cell_type": "markdown",
   "id": "e6ef95a4",
   "metadata": {},
   "source": [
    "### Step 4: Modelling"
   ]
  },
  {
   "cell_type": "markdown",
   "id": "34cc6f7c",
   "metadata": {},
   "source": [
    "K-means clustering is one of the simplest and popular unsupervised machine learning algorithm.\n",
    "\n",
    "The algorithm works as follows:\n",
    "\n",
    "* First we initialize k points, called means, randomly.\n",
    "* We categorize each item to its closest mean and we update the mean’s coordinates, which are the averages of the items categorized in that mean so far.\n",
    "* We repeat the process for a given number of iterations and at the end, we have our clusters."
   ]
  },
  {
   "cell_type": "code",
   "execution_count": 34,
   "id": "341b1eb3",
   "metadata": {},
   "outputs": [
    {
     "data": {
      "text/plain": [
       "KMeans(max_iter=50, n_clusters=4)"
      ]
     },
     "execution_count": 34,
     "metadata": {},
     "output_type": "execute_result"
    }
   ],
   "source": [
    "# k-means with some arbitrary k\n",
    "kmeans = KMeans(n_clusters=4, max_iter=50)\n",
    "kmeans.fit(rfm_df_scaled)"
   ]
  },
  {
   "cell_type": "code",
   "execution_count": 35,
   "id": "9b1e7bbb",
   "metadata": {},
   "outputs": [
    {
     "data": {
      "text/plain": [
       "array([0, 3, 0, ..., 0, 0, 1])"
      ]
     },
     "execution_count": 35,
     "metadata": {},
     "output_type": "execute_result"
    }
   ],
   "source": [
    "kmeans.labels_"
   ]
  },
  {
   "cell_type": "markdown",
   "id": "d7c0b15a",
   "metadata": {},
   "source": [
    "#### Finding the Optimal Number of Clusters"
   ]
  },
  {
   "cell_type": "markdown",
   "id": "ec81d749",
   "metadata": {},
   "source": [
    "_Elbow Curve to get the right number of Clusters_\n",
    "\n",
    "A fundamental step for any unsupervised algorithm is to determine the optimal number of clusters into which the data may be clustered. The Elbow Method is one of the most popular methods to determine this optimal value of k."
   ]
  },
  {
   "cell_type": "code",
   "execution_count": 36,
   "id": "8ca17a84",
   "metadata": {},
   "outputs": [
    {
     "data": {
      "text/plain": [
       "[<matplotlib.lines.Line2D at 0x1254cf6adf0>]"
      ]
     },
     "execution_count": 36,
     "metadata": {},
     "output_type": "execute_result"
    },
    {
     "data": {
      "image/png": "[encoded data removed]",
      "text/plain": [
       "<Figure size 720x576 with 1 Axes>"
      ]
     },
     "metadata": {},
     "output_type": "display_data"
    }
   ],
   "source": [
    "# Elbow-curve/SSD\n",
    "\n",
    "ssd = []\n",
    "range_n_clusters = [2, 3, 4, 5, 6, 7, 8, 9, 10, 11, 12, 13, 14, 15, 16]\n",
    "for num_clusters in range_n_clusters:\n",
    "    kmeans = KMeans(n_clusters=num_clusters, max_iter=50)\n",
    "    kmeans.fit(rfm_df_scaled)\n",
    "    \n",
    "    ssd.append(kmeans.inertia_)\n",
    "    \n",
    "# plot the SSDs for each n_clusters\n",
    "plt.plot(ssd)"
   ]
  },
  {
   "cell_type": "markdown",
   "id": "5fff0f16",
   "metadata": {},
   "source": [
    "#### Silhoutte Analysis"
   ]
  },
  {
   "cell_type": "markdown",
   "id": "5467d5d1",
   "metadata": {},
   "source": [
    "p is the mean distance to the points in the nearest cluster that the data point is not a part of\n",
    "\n",
    "q is the mean intra-cluster distance to all the points in its own cluster.\n",
    "\n",
    "* The value of the silhouette score range lies between -1 to 1.\n",
    "\n",
    "* A score closer to 1 indicates that the data point is very similar to other data points in the cluster,\n",
    "\n",
    "* A score closer to -1 indicates that the data point is not similar to the data points in its cluster."
   ]
  },
  {
   "cell_type": "code",
   "execution_count": 37,
   "id": "b1d241c3",
   "metadata": {},
   "outputs": [
    {
     "data": {
      "image/png": "[encoded data removed]",
      "text/plain": [
       "<Figure size 720x720 with 1 Axes>"
      ]
     },
     "metadata": {},
     "output_type": "display_data"
    }
   ],
   "source": [
    "#create a 3D scatter plot for the df\n",
    "X = rfm_df_scaled['Recency']\n",
    "y = rfm_df_scaled['Frequency']\n",
    "z = rfm_df_scaled['Amount']\n",
    "\n",
    "fig = plt.figure(figsize=(10, 10))\n",
    "ax = fig.add_subplot(111, projection='3d')\n",
    "ax.scatter(X, y, z,\n",
    "           linewidths=1, alpha=.7,\n",
    "           edgecolor='k',\n",
    "           s = 200,\n",
    "           c=z)\n",
    "plt.show()"
   ]
  },
  {
   "cell_type": "code",
   "execution_count": 38,
   "id": "1bd5a3ca",
   "metadata": {
    "scrolled": true
   },
   "outputs": [
    {
     "name": "stdout",
     "output_type": "stream",
     "text": [
      "For n_clusters=2, the silhouette score is 0.6525616087308104\n",
      "For n_clusters=3, the silhouette score is 0.4958937403713729\n",
      "For n_clusters=4, the silhouette score is 0.5167900519336369\n",
      "For n_clusters=5, the silhouette score is 0.5176425150571027\n",
      "For n_clusters=6, the silhouette score is 0.42874782464174993\n",
      "For n_clusters=7, the silhouette score is 0.4307905145351296\n",
      "For n_clusters=8, the silhouette score is 0.4312652632673643\n"
     ]
    }
   ],
   "source": [
    "# Silhouette analysis\n",
    "range_n_clusters = [2, 3, 4, 5, 6, 7, 8]\n",
    "\n",
    "for num_clusters in range_n_clusters:\n",
    "    \n",
    "    # intialise kmeans\n",
    "    kmeans = KMeans(n_clusters=num_clusters, max_iter=50)\n",
    "    kmeans.fit(rfm_df_scaled)\n",
    "    \n",
    "    cluster_labels = kmeans.labels_\n",
    "    \n",
    "    # silhouette score\n",
    "    silhouette_avg = silhouette_score(rfm_df_scaled, cluster_labels)\n",
    "    print(\"For n_clusters={0}, the silhouette score is {1}\".format(num_clusters, silhouette_avg))"
   ]
  },
  {
   "cell_type": "code",
   "execution_count": 39,
   "id": "795ec2cd",
   "metadata": {},
   "outputs": [
    {
     "data": {
      "text/plain": [
       "KMeans(max_iter=50, n_clusters=5)"
      ]
     },
     "execution_count": 39,
     "metadata": {},
     "output_type": "execute_result"
    }
   ],
   "source": [
    "# Final model with k=5\n",
    "# edit the number of clusters\n",
    "kmeans = KMeans(n_clusters=5, max_iter=50)\n",
    "kmeans.fit(rfm_df_scaled)"
   ]
  },
  {
   "cell_type": "code",
   "execution_count": 40,
   "id": "9c60c8dc",
   "metadata": {},
   "outputs": [
    {
     "data": {
      "text/plain": [
       "array([4, 1, 4, ..., 4, 4, 0])"
      ]
     },
     "execution_count": 40,
     "metadata": {},
     "output_type": "execute_result"
    }
   ],
   "source": [
    "kmeans.labels_"
   ]
  },
  {
   "cell_type": "markdown",
   "id": "ce3d5612",
   "metadata": {},
   "source": [
    "To assign the labels:"
   ]
  },
  {
   "cell_type": "code",
   "execution_count": 41,
   "id": "a518ee22",
   "metadata": {},
   "outputs": [
    {
     "data": {
      "text/html": [
       "<div>\n",
       "<style scoped>\n",
       "    .dataframe tbody tr th:only-of-type {\n",
       "        vertical-align: middle;\n",
       "    }\n",
       "\n",
       "    .dataframe tbody tr th {\n",
       "        vertical-align: top;\n",
       "    }\n",
       "\n",
       "    .dataframe thead th {\n",
       "        text-align: right;\n",
       "    }\n",
       "</style>\n",
       "<table border=\"1\" class=\"dataframe\">\n",
       "  <thead>\n",
       "    <tr style=\"text-align: right;\">\n",
       "      <th></th>\n",
       "      <th>Name</th>\n",
       "      <th>Amount</th>\n",
       "      <th>Frequency</th>\n",
       "      <th>Recency</th>\n",
       "      <th>Cluster_Id</th>\n",
       "    </tr>\n",
       "  </thead>\n",
       "  <tbody>\n",
       "    <tr>\n",
       "      <th>0</th>\n",
       "      <td>Aaroe, Paul M.</td>\n",
       "      <td>8760.0</td>\n",
       "      <td>24</td>\n",
       "      <td>3746</td>\n",
       "      <td>4</td>\n",
       "    </tr>\n",
       "    <tr>\n",
       "      <th>1</th>\n",
       "      <td>Aaronson, Austin</td>\n",
       "      <td>5425.0</td>\n",
       "      <td>5</td>\n",
       "      <td>732</td>\n",
       "      <td>1</td>\n",
       "    </tr>\n",
       "    <tr>\n",
       "      <th>2</th>\n",
       "      <td>Abasi, Evelyn J.</td>\n",
       "      <td>9997.4</td>\n",
       "      <td>21</td>\n",
       "      <td>2162</td>\n",
       "      <td>4</td>\n",
       "    </tr>\n",
       "    <tr>\n",
       "      <th>3</th>\n",
       "      <td>Abbitt, Julia Chico</td>\n",
       "      <td>2975.0</td>\n",
       "      <td>7</td>\n",
       "      <td>1523</td>\n",
       "      <td>1</td>\n",
       "    </tr>\n",
       "    <tr>\n",
       "      <th>4</th>\n",
       "      <td>Abdala, Dianna</td>\n",
       "      <td>20250.0</td>\n",
       "      <td>15</td>\n",
       "      <td>1827</td>\n",
       "      <td>1</td>\n",
       "    </tr>\n",
       "  </tbody>\n",
       "</table>\n",
       "</div>"
      ],
      "text/plain": [
       "                  Name   Amount  Frequency  Recency  Cluster_Id\n",
       "0       Aaroe, Paul M.   8760.0         24     3746           4\n",
       "1     Aaronson, Austin   5425.0          5      732           1\n",
       "2     Abasi, Evelyn J.   9997.4         21     2162           4\n",
       "3  Abbitt, Julia Chico   2975.0          7     1523           1\n",
       "4       Abdala, Dianna  20250.0         15     1827           1"
      ]
     },
     "execution_count": 41,
     "metadata": {},
     "output_type": "execute_result"
    }
   ],
   "source": [
    "# assign the label\n",
    "rfm['Cluster_Id'] = kmeans.labels_\n",
    "rfm.head()"
   ]
  },
  {
   "cell_type": "markdown",
   "id": "c2444492",
   "metadata": {},
   "source": [
    "To create a box plot to visualize Cluster ID vs. Recency:"
   ]
  },
  {
   "cell_type": "code",
   "execution_count": 42,
   "id": "895c674b",
   "metadata": {},
   "outputs": [
    {
     "data": {
      "text/plain": [
       "<AxesSubplot:xlabel='Cluster_Id', ylabel='Recency'>"
      ]
     },
     "execution_count": 42,
     "metadata": {},
     "output_type": "execute_result"
    },
    {
     "data": {
      "image/png": "[encoded data removed]",
      "text/plain": [
       "<Figure size 720x576 with 1 Axes>"
      ]
     },
     "metadata": {},
     "output_type": "display_data"
    }
   ],
   "source": [
    "sns.boxplot(x='Cluster_Id', y='Recency', data=rfm)"
   ]
  },
  {
   "cell_type": "markdown",
   "id": "83cf1993",
   "metadata": {},
   "source": [
    "To create a box plot to visualize Cluster ID vs. Frequency:"
   ]
  },
  {
   "cell_type": "code",
   "execution_count": 43,
   "id": "e32ed16f",
   "metadata": {},
   "outputs": [
    {
     "data": {
      "text/plain": [
       "<AxesSubplot:xlabel='Cluster_Id', ylabel='Frequency'>"
      ]
     },
     "execution_count": 43,
     "metadata": {},
     "output_type": "execute_result"
    },
    {
     "data": {
      "image/png": "[encoded data removed]",
      "text/plain": [
       "<Figure size 720x576 with 1 Axes>"
      ]
     },
     "metadata": {},
     "output_type": "display_data"
    }
   ],
   "source": [
    "sns.boxplot(x='Cluster_Id', y='Frequency', data=rfm)"
   ]
  },
  {
   "cell_type": "markdown",
   "id": "d0c9f210",
   "metadata": {},
   "source": [
    "To create a box plot to visualize Cluster ID vs. Monetary:"
   ]
  },
  {
   "cell_type": "code",
   "execution_count": 44,
   "id": "ac9db093",
   "metadata": {},
   "outputs": [
    {
     "data": {
      "text/plain": [
       "<AxesSubplot:xlabel='Cluster_Id', ylabel='Amount'>"
      ]
     },
     "execution_count": 44,
     "metadata": {},
     "output_type": "execute_result"
    },
    {
     "data": {
      "image/png": "[encoded data removed]",
      "text/plain": [
       "<Figure size 720x576 with 1 Axes>"
      ]
     },
     "metadata": {},
     "output_type": "display_data"
    }
   ],
   "source": [
    "sns.boxplot(x='Cluster_Id', y='Amount', data=rfm)"
   ]
  },
  {
   "cell_type": "code",
   "execution_count": 45,
   "id": "019081fb",
   "metadata": {},
   "outputs": [
    {
     "data": {
      "text/plain": [
       "1    3873\n",
       "4    3137\n",
       "0     786\n",
       "2     139\n",
       "3       3\n",
       "Name: Cluster_Id, dtype: int64"
      ]
     },
     "execution_count": 45,
     "metadata": {},
     "output_type": "execute_result"
    }
   ],
   "source": [
    "rfm['Cluster_Id'].value_counts()"
   ]
  },
  {
   "cell_type": "markdown",
   "id": "ea82fb06",
   "metadata": {},
   "source": [
    "#### Hierarchical Clustering"
   ]
  },
  {
   "cell_type": "markdown",
   "id": "64cc0793",
   "metadata": {},
   "source": [
    "Hierarchical clustering involves creating clusters that have a predetermined ordering from top to bottom. For example, all files and folders on the hard disk are organized in a hierarchy. There are two types of hierarchical clustering,\n",
    "\n",
    "* Divisive\n",
    "* Agglomerative."
   ]
  },
  {
   "cell_type": "markdown",
   "id": "2830dccb",
   "metadata": {},
   "source": [
    "_Single Linkage:_\n",
    "\n",
    "In single linkage hierarchical clustering, the distance between two clusters is defined as the shortest distance between two points in each cluster. For example, the distance between clusters “r” and “s” to the left is equal to the length of the arrow between their two closest points."
   ]
  },
  {
   "cell_type": "code",
   "execution_count": 46,
   "id": "6e9dff42",
   "metadata": {},
   "outputs": [],
   "source": [
    "# Single linkage: \n",
    "\n",
    "#mergings = linkage(rfm_df_scaled, method=\"single\", metric='euclidean')\n",
    "#dendrogram(mergings)\n",
    "#plt.show()"
   ]
  },
  {
   "cell_type": "markdown",
   "id": "48c6d055",
   "metadata": {},
   "source": [
    "_Complete Linkage_\n",
    "\n",
    "In complete linkage hierarchical clustering, the distance between two clusters is defined as the longest distance between two points in each cluster. For example, the distance between clusters “r” and “s” to the left is equal to the length of the arrow between their two furthest points."
   ]
  },
  {
   "cell_type": "code",
   "execution_count": 47,
   "id": "ec85122e",
   "metadata": {},
   "outputs": [],
   "source": [
    "# Complete linkage\n",
    "\n",
    "#mergings = linkage(rfm_df_scaled, method=\"complete\", metric='euclidean')\n",
    "#dendrogram(mergings)\n",
    "#plt.show()"
   ]
  },
  {
   "cell_type": "markdown",
   "id": "d336296e",
   "metadata": {},
   "source": [
    "_Average Linkage:_\n",
    "\n",
    "In average linkage hierarchical clustering, the distance between two clusters is defined as the average distance between each point in one cluster to every point in the other cluster. For example, the distance between clusters “r” and “s” to the left is equal to the average length each arrow between connecting the points of one cluster to the other."
   ]
  },
  {
   "cell_type": "code",
   "execution_count": 48,
   "id": "d6ceae32",
   "metadata": {},
   "outputs": [
    {
     "data": {
      "image/png": "[encoded data removed]",
      "text/plain": [
       "<Figure size 720x576 with 1 Axes>"
      ]
     },
     "metadata": {},
     "output_type": "display_data"
    }
   ],
   "source": [
    "# Average linkage\n",
    "\n",
    "mergings = linkage(rfm_df_scaled, method=\"average\", metric='euclidean')\n",
    "dendrogram(mergings)\n",
    "plt.show()"
   ]
  },
  {
   "cell_type": "markdown",
   "id": "ccfaeafd",
   "metadata": {},
   "source": [
    "#### Cutting the Dendogram based on K"
   ]
  },
  {
   "cell_type": "code",
   "execution_count": 49,
   "id": "194df95a",
   "metadata": {},
   "outputs": [
    {
     "data": {
      "text/plain": [
       "array([0, 0, 0, ..., 0, 0, 0])"
      ]
     },
     "execution_count": 49,
     "metadata": {},
     "output_type": "execute_result"
    }
   ],
   "source": [
    "# edit the number of clusters\n",
    "cluster_labels = cut_tree(mergings, n_clusters=5).reshape(-1, )\n",
    "cluster_labels"
   ]
  },
  {
   "cell_type": "markdown",
   "id": "db3af79f",
   "metadata": {},
   "source": [
    "To assign cluster labels:"
   ]
  },
  {
   "cell_type": "code",
   "execution_count": 50,
   "id": "2bfcfc20",
   "metadata": {},
   "outputs": [
    {
     "data": {
      "text/html": [
       "<div>\n",
       "<style scoped>\n",
       "    .dataframe tbody tr th:only-of-type {\n",
       "        vertical-align: middle;\n",
       "    }\n",
       "\n",
       "    .dataframe tbody tr th {\n",
       "        vertical-align: top;\n",
       "    }\n",
       "\n",
       "    .dataframe thead th {\n",
       "        text-align: right;\n",
       "    }\n",
       "</style>\n",
       "<table border=\"1\" class=\"dataframe\">\n",
       "  <thead>\n",
       "    <tr style=\"text-align: right;\">\n",
       "      <th></th>\n",
       "      <th>Name</th>\n",
       "      <th>Amount</th>\n",
       "      <th>Frequency</th>\n",
       "      <th>Recency</th>\n",
       "      <th>Cluster_Id</th>\n",
       "      <th>Cluster_Labels</th>\n",
       "    </tr>\n",
       "  </thead>\n",
       "  <tbody>\n",
       "    <tr>\n",
       "      <th>0</th>\n",
       "      <td>Aaroe, Paul M.</td>\n",
       "      <td>8760.0</td>\n",
       "      <td>24</td>\n",
       "      <td>3746</td>\n",
       "      <td>4</td>\n",
       "      <td>0</td>\n",
       "    </tr>\n",
       "    <tr>\n",
       "      <th>1</th>\n",
       "      <td>Aaronson, Austin</td>\n",
       "      <td>5425.0</td>\n",
       "      <td>5</td>\n",
       "      <td>732</td>\n",
       "      <td>1</td>\n",
       "      <td>0</td>\n",
       "    </tr>\n",
       "    <tr>\n",
       "      <th>2</th>\n",
       "      <td>Abasi, Evelyn J.</td>\n",
       "      <td>9997.4</td>\n",
       "      <td>21</td>\n",
       "      <td>2162</td>\n",
       "      <td>4</td>\n",
       "      <td>0</td>\n",
       "    </tr>\n",
       "    <tr>\n",
       "      <th>3</th>\n",
       "      <td>Abbitt, Julia Chico</td>\n",
       "      <td>2975.0</td>\n",
       "      <td>7</td>\n",
       "      <td>1523</td>\n",
       "      <td>1</td>\n",
       "      <td>0</td>\n",
       "    </tr>\n",
       "    <tr>\n",
       "      <th>4</th>\n",
       "      <td>Abdala, Dianna</td>\n",
       "      <td>20250.0</td>\n",
       "      <td>15</td>\n",
       "      <td>1827</td>\n",
       "      <td>1</td>\n",
       "      <td>0</td>\n",
       "    </tr>\n",
       "  </tbody>\n",
       "</table>\n",
       "</div>"
      ],
      "text/plain": [
       "                  Name   Amount  Frequency  Recency  Cluster_Id  \\\n",
       "0       Aaroe, Paul M.   8760.0         24     3746           4   \n",
       "1     Aaronson, Austin   5425.0          5      732           1   \n",
       "2     Abasi, Evelyn J.   9997.4         21     2162           4   \n",
       "3  Abbitt, Julia Chico   2975.0          7     1523           1   \n",
       "4       Abdala, Dianna  20250.0         15     1827           1   \n",
       "\n",
       "   Cluster_Labels  \n",
       "0               0  \n",
       "1               0  \n",
       "2               0  \n",
       "3               0  \n",
       "4               0  "
      ]
     },
     "execution_count": 50,
     "metadata": {},
     "output_type": "execute_result"
    }
   ],
   "source": [
    "rfm['Cluster_Labels'] = cluster_labels\n",
    "rfm.head()"
   ]
  },
  {
   "cell_type": "markdown",
   "id": "f5866363",
   "metadata": {},
   "source": [
    "To create a box plot to visualize Cluster Label vs. Recency:"
   ]
  },
  {
   "cell_type": "code",
   "execution_count": 51,
   "id": "1c533604",
   "metadata": {},
   "outputs": [
    {
     "data": {
      "text/plain": [
       "<AxesSubplot:xlabel='Cluster_Labels', ylabel='Recency'>"
      ]
     },
     "execution_count": 51,
     "metadata": {},
     "output_type": "execute_result"
    },
    {
     "data": {
      "image/png": "[encoded data removed]",
      "text/plain": [
       "<Figure size 720x576 with 1 Axes>"
      ]
     },
     "metadata": {},
     "output_type": "display_data"
    }
   ],
   "source": [
    "sns.boxplot(x='Cluster_Labels', y='Recency', data=rfm)"
   ]
  },
  {
   "cell_type": "markdown",
   "id": "45ef2b36",
   "metadata": {},
   "source": [
    "To create a box plot to visualize Cluster Label vs. Frequency:"
   ]
  },
  {
   "cell_type": "code",
   "execution_count": 52,
   "id": "316c0d87",
   "metadata": {},
   "outputs": [
    {
     "data": {
      "text/plain": [
       "<AxesSubplot:xlabel='Cluster_Labels', ylabel='Frequency'>"
      ]
     },
     "execution_count": 52,
     "metadata": {},
     "output_type": "execute_result"
    },
    {
     "data": {
      "image/png": "[encoded data removed]",
      "text/plain": [
       "<Figure size 720x576 with 1 Axes>"
      ]
     },
     "metadata": {},
     "output_type": "display_data"
    }
   ],
   "source": [
    "sns.boxplot(x='Cluster_Labels', y='Frequency', data=rfm)"
   ]
  },
  {
   "cell_type": "markdown",
   "id": "b426cb76",
   "metadata": {},
   "source": [
    "To create a box plot to visualize Cluster Label vs. Amount:"
   ]
  },
  {
   "cell_type": "code",
   "execution_count": 53,
   "id": "3b63d51c",
   "metadata": {},
   "outputs": [
    {
     "data": {
      "text/plain": [
       "<AxesSubplot:xlabel='Cluster_Labels', ylabel='Amount'>"
      ]
     },
     "execution_count": 53,
     "metadata": {},
     "output_type": "execute_result"
    },
    {
     "data": {
      "image/png": "[encoded data removed]",
      "text/plain": [
       "<Figure size 720x576 with 1 Axes>"
      ]
     },
     "metadata": {},
     "output_type": "display_data"
    }
   ],
   "source": [
    "sns.boxplot(x='Cluster_Labels', y='Amount', data=rfm)"
   ]
  },
  {
   "cell_type": "code",
   "execution_count": 54,
   "id": "7022a20a",
   "metadata": {},
   "outputs": [
    {
     "data": {
      "text/plain": [
       "0    7920\n",
       "2       9\n",
       "1       6\n",
       "4       2\n",
       "3       1\n",
       "Name: Cluster_Labels, dtype: int64"
      ]
     },
     "execution_count": 54,
     "metadata": {},
     "output_type": "execute_result"
    }
   ],
   "source": [
    "rfm[\"Cluster_Labels\"].value_counts()"
   ]
  },
  {
   "cell_type": "markdown",
   "id": "4fbd5401",
   "metadata": {},
   "source": [
    "#### Snake Plot"
   ]
  },
  {
   "cell_type": "code",
   "execution_count": 55,
   "id": "133fe998",
   "metadata": {},
   "outputs": [],
   "source": [
    "#Replace actual value with the scaled values:\n",
    "rfm_formerge = rfm[['Name', 'Cluster_Id', 'Cluster_Labels']]\n",
    "rfm_normalized = rfm_formerge.merge(rfm_df_scaled, left_index=True, right_index=True)"
   ]
  },
  {
   "cell_type": "code",
   "execution_count": 56,
   "id": "e6551187",
   "metadata": {},
   "outputs": [
    {
     "data": {
      "text/html": [
       "<div>\n",
       "<style scoped>\n",
       "    .dataframe tbody tr th:only-of-type {\n",
       "        vertical-align: middle;\n",
       "    }\n",
       "\n",
       "    .dataframe tbody tr th {\n",
       "        vertical-align: top;\n",
       "    }\n",
       "\n",
       "    .dataframe thead th {\n",
       "        text-align: right;\n",
       "    }\n",
       "</style>\n",
       "<table border=\"1\" class=\"dataframe\">\n",
       "  <thead>\n",
       "    <tr style=\"text-align: right;\">\n",
       "      <th></th>\n",
       "      <th>Name</th>\n",
       "      <th>Cluster_Id</th>\n",
       "      <th>Cluster_Labels</th>\n",
       "      <th>Amount</th>\n",
       "      <th>Frequency</th>\n",
       "      <th>Recency</th>\n",
       "    </tr>\n",
       "  </thead>\n",
       "  <tbody>\n",
       "    <tr>\n",
       "      <th>0</th>\n",
       "      <td>Aaroe, Paul M.</td>\n",
       "      <td>4</td>\n",
       "      <td>0</td>\n",
       "      <td>-0.293017</td>\n",
       "      <td>-0.069516</td>\n",
       "      <td>1.401634</td>\n",
       "    </tr>\n",
       "    <tr>\n",
       "      <th>1</th>\n",
       "      <td>Aaronson, Austin</td>\n",
       "      <td>1</td>\n",
       "      <td>0</td>\n",
       "      <td>-0.391122</td>\n",
       "      <td>-0.581307</td>\n",
       "      <td>-0.620721</td>\n",
       "    </tr>\n",
       "    <tr>\n",
       "      <th>2</th>\n",
       "      <td>Abasi, Evelyn J.</td>\n",
       "      <td>4</td>\n",
       "      <td>0</td>\n",
       "      <td>-0.256617</td>\n",
       "      <td>-0.150325</td>\n",
       "      <td>0.338791</td>\n",
       "    </tr>\n",
       "    <tr>\n",
       "      <th>3</th>\n",
       "      <td>Abbitt, Julia Chico</td>\n",
       "      <td>1</td>\n",
       "      <td>0</td>\n",
       "      <td>-0.463193</td>\n",
       "      <td>-0.527434</td>\n",
       "      <td>-0.089970</td>\n",
       "    </tr>\n",
       "    <tr>\n",
       "      <th>4</th>\n",
       "      <td>Abdala, Dianna</td>\n",
       "      <td>1</td>\n",
       "      <td>0</td>\n",
       "      <td>0.044981</td>\n",
       "      <td>-0.311943</td>\n",
       "      <td>0.114010</td>\n",
       "    </tr>\n",
       "    <tr>\n",
       "      <th>...</th>\n",
       "      <td>...</td>\n",
       "      <td>...</td>\n",
       "      <td>...</td>\n",
       "      <td>...</td>\n",
       "      <td>...</td>\n",
       "      <td>...</td>\n",
       "    </tr>\n",
       "    <tr>\n",
       "      <th>7933</th>\n",
       "      <td>Zuckerbrod, Todd A.</td>\n",
       "      <td>1</td>\n",
       "      <td>0</td>\n",
       "      <td>-0.307961</td>\n",
       "      <td>-0.392753</td>\n",
       "      <td>-0.192631</td>\n",
       "    </tr>\n",
       "    <tr>\n",
       "      <th>7934</th>\n",
       "      <td>Zuckerman, Paul S.</td>\n",
       "      <td>0</td>\n",
       "      <td>0</td>\n",
       "      <td>1.835546</td>\n",
       "      <td>-0.392753</td>\n",
       "      <td>-0.192631</td>\n",
       "    </tr>\n",
       "    <tr>\n",
       "      <th>7935</th>\n",
       "      <td>Zuganelis, George M.</td>\n",
       "      <td>4</td>\n",
       "      <td>0</td>\n",
       "      <td>-0.521291</td>\n",
       "      <td>-0.689053</td>\n",
       "      <td>1.829724</td>\n",
       "    </tr>\n",
       "    <tr>\n",
       "      <th>7936</th>\n",
       "      <td>Zuspan, Philip</td>\n",
       "      <td>4</td>\n",
       "      <td>0</td>\n",
       "      <td>-0.130696</td>\n",
       "      <td>0.011293</td>\n",
       "      <td>1.483495</td>\n",
       "    </tr>\n",
       "    <tr>\n",
       "      <th>7937</th>\n",
       "      <td>Zyne, Beatriz</td>\n",
       "      <td>0</td>\n",
       "      <td>0</td>\n",
       "      <td>1.238414</td>\n",
       "      <td>2.193139</td>\n",
       "      <td>-1.111212</td>\n",
       "    </tr>\n",
       "  </tbody>\n",
       "</table>\n",
       "<p>7938 rows × 6 columns</p>\n",
       "</div>"
      ],
      "text/plain": [
       "                      Name  Cluster_Id  Cluster_Labels    Amount  Frequency  \\\n",
       "0           Aaroe, Paul M.           4               0 -0.293017  -0.069516   \n",
       "1         Aaronson, Austin           1               0 -0.391122  -0.581307   \n",
       "2         Abasi, Evelyn J.           4               0 -0.256617  -0.150325   \n",
       "3      Abbitt, Julia Chico           1               0 -0.463193  -0.527434   \n",
       "4           Abdala, Dianna           1               0  0.044981  -0.311943   \n",
       "...                    ...         ...             ...       ...        ...   \n",
       "7933   Zuckerbrod, Todd A.           1               0 -0.307961  -0.392753   \n",
       "7934    Zuckerman, Paul S.           0               0  1.835546  -0.392753   \n",
       "7935  Zuganelis, George M.           4               0 -0.521291  -0.689053   \n",
       "7936        Zuspan, Philip           4               0 -0.130696   0.011293   \n",
       "7937         Zyne, Beatriz           0               0  1.238414   2.193139   \n",
       "\n",
       "       Recency  \n",
       "0     1.401634  \n",
       "1    -0.620721  \n",
       "2     0.338791  \n",
       "3    -0.089970  \n",
       "4     0.114010  \n",
       "...        ...  \n",
       "7933 -0.192631  \n",
       "7934 -0.192631  \n",
       "7935  1.829724  \n",
       "7936  1.483495  \n",
       "7937 -1.111212  \n",
       "\n",
       "[7938 rows x 6 columns]"
      ]
     },
     "execution_count": 56,
     "metadata": {},
     "output_type": "execute_result"
    }
   ],
   "source": [
    "rfm_normalized"
   ]
  },
  {
   "cell_type": "code",
   "execution_count": 57,
   "id": "42198a42",
   "metadata": {},
   "outputs": [
    {
     "data": {
      "text/html": [
       "<div>\n",
       "<style scoped>\n",
       "    .dataframe tbody tr th:only-of-type {\n",
       "        vertical-align: middle;\n",
       "    }\n",
       "\n",
       "    .dataframe tbody tr th {\n",
       "        vertical-align: top;\n",
       "    }\n",
       "\n",
       "    .dataframe thead th {\n",
       "        text-align: right;\n",
       "    }\n",
       "</style>\n",
       "<table border=\"1\" class=\"dataframe\">\n",
       "  <thead>\n",
       "    <tr style=\"text-align: right;\">\n",
       "      <th></th>\n",
       "      <th>Name</th>\n",
       "      <th>Cluster_Id</th>\n",
       "      <th>Cluster_Labels</th>\n",
       "      <th>Metric</th>\n",
       "      <th>Value</th>\n",
       "    </tr>\n",
       "  </thead>\n",
       "  <tbody>\n",
       "    <tr>\n",
       "      <th>0</th>\n",
       "      <td>Aaroe, Paul M.</td>\n",
       "      <td>4</td>\n",
       "      <td>0</td>\n",
       "      <td>Recency</td>\n",
       "      <td>1.401634</td>\n",
       "    </tr>\n",
       "    <tr>\n",
       "      <th>1</th>\n",
       "      <td>Aaronson, Austin</td>\n",
       "      <td>1</td>\n",
       "      <td>0</td>\n",
       "      <td>Recency</td>\n",
       "      <td>-0.620721</td>\n",
       "    </tr>\n",
       "    <tr>\n",
       "      <th>2</th>\n",
       "      <td>Abasi, Evelyn J.</td>\n",
       "      <td>4</td>\n",
       "      <td>0</td>\n",
       "      <td>Recency</td>\n",
       "      <td>0.338791</td>\n",
       "    </tr>\n",
       "    <tr>\n",
       "      <th>3</th>\n",
       "      <td>Abbitt, Julia Chico</td>\n",
       "      <td>1</td>\n",
       "      <td>0</td>\n",
       "      <td>Recency</td>\n",
       "      <td>-0.089970</td>\n",
       "    </tr>\n",
       "    <tr>\n",
       "      <th>4</th>\n",
       "      <td>Abdala, Dianna</td>\n",
       "      <td>1</td>\n",
       "      <td>0</td>\n",
       "      <td>Recency</td>\n",
       "      <td>0.114010</td>\n",
       "    </tr>\n",
       "  </tbody>\n",
       "</table>\n",
       "</div>"
      ],
      "text/plain": [
       "                  Name  Cluster_Id  Cluster_Labels   Metric     Value\n",
       "0       Aaroe, Paul M.           4               0  Recency  1.401634\n",
       "1     Aaronson, Austin           1               0  Recency -0.620721\n",
       "2     Abasi, Evelyn J.           4               0  Recency  0.338791\n",
       "3  Abbitt, Julia Chico           1               0  Recency -0.089970\n",
       "4       Abdala, Dianna           1               0  Recency  0.114010"
      ]
     },
     "execution_count": 57,
     "metadata": {},
     "output_type": "execute_result"
    }
   ],
   "source": [
    "#Melt the data into a long format so RFM values and metric names are stored in 1 column each\n",
    "rfm_melt = pd.melt(rfm_normalized,id_vars=['Name','Cluster_Id','Cluster_Labels'],value_vars=['Recency', 'Frequency', 'Amount'],\n",
    "var_name='Metric',value_name='Value')\n",
    "rfm_melt.head()"
   ]
  },
  {
   "cell_type": "code",
   "execution_count": 58,
   "id": "94c50d64",
   "metadata": {},
   "outputs": [
    {
     "data": {
      "image/png": "[encoded data removed]",
      "text/plain": [
       "<Figure size 1080x576 with 2 Axes>"
      ]
     },
     "metadata": {},
     "output_type": "display_data"
    }
   ],
   "source": [
    "f, (ax1, ax2) = plt.subplots(1,2, figsize=(15, 8))\n",
    "sns.lineplot(x = 'Metric', y = 'Value', hue = 'Cluster_Id', data = rfm_melt,ax=ax1)\n",
    "\n",
    "# a snake plot with K-Means\n",
    "sns.lineplot(x = 'Metric', y = 'Value', hue = 'Cluster_Labels', data = rfm_melt,ax=ax2)\n",
    "\n",
    "plt.suptitle(\"Snake Plot of RFM\",fontsize=24) #make title fontsize subtitle \n",
    "plt.show()"
   ]
  },
  {
   "cell_type": "markdown",
   "id": "aae8f674",
   "metadata": {},
   "source": [
    "#### Heatmap"
   ]
  },
  {
   "cell_type": "code",
   "execution_count": 59,
   "id": "941752a1",
   "metadata": {},
   "outputs": [
    {
     "data": {
      "text/html": [
       "<div>\n",
       "<style scoped>\n",
       "    .dataframe tbody tr th:only-of-type {\n",
       "        vertical-align: middle;\n",
       "    }\n",
       "\n",
       "    .dataframe tbody tr th {\n",
       "        vertical-align: top;\n",
       "    }\n",
       "\n",
       "    .dataframe thead th {\n",
       "        text-align: right;\n",
       "    }\n",
       "</style>\n",
       "<table border=\"1\" class=\"dataframe\">\n",
       "  <thead>\n",
       "    <tr style=\"text-align: right;\">\n",
       "      <th></th>\n",
       "      <th>Name</th>\n",
       "      <th>Amount</th>\n",
       "      <th>Frequency</th>\n",
       "      <th>Recency</th>\n",
       "      <th>Cluster_Id</th>\n",
       "      <th>Cluster_Labels</th>\n",
       "    </tr>\n",
       "  </thead>\n",
       "  <tbody>\n",
       "    <tr>\n",
       "      <th>0</th>\n",
       "      <td>Aaroe, Paul M.</td>\n",
       "      <td>8760.000</td>\n",
       "      <td>24</td>\n",
       "      <td>3746</td>\n",
       "      <td>4</td>\n",
       "      <td>0</td>\n",
       "    </tr>\n",
       "    <tr>\n",
       "      <th>1</th>\n",
       "      <td>Aaronson, Austin</td>\n",
       "      <td>5425.000</td>\n",
       "      <td>5</td>\n",
       "      <td>732</td>\n",
       "      <td>1</td>\n",
       "      <td>0</td>\n",
       "    </tr>\n",
       "    <tr>\n",
       "      <th>2</th>\n",
       "      <td>Abasi, Evelyn J.</td>\n",
       "      <td>9997.400</td>\n",
       "      <td>21</td>\n",
       "      <td>2162</td>\n",
       "      <td>4</td>\n",
       "      <td>0</td>\n",
       "    </tr>\n",
       "    <tr>\n",
       "      <th>3</th>\n",
       "      <td>Abbitt, Julia Chico</td>\n",
       "      <td>2975.000</td>\n",
       "      <td>7</td>\n",
       "      <td>1523</td>\n",
       "      <td>1</td>\n",
       "      <td>0</td>\n",
       "    </tr>\n",
       "    <tr>\n",
       "      <th>4</th>\n",
       "      <td>Abdala, Dianna</td>\n",
       "      <td>20250.000</td>\n",
       "      <td>15</td>\n",
       "      <td>1827</td>\n",
       "      <td>1</td>\n",
       "      <td>0</td>\n",
       "    </tr>\n",
       "    <tr>\n",
       "      <th>...</th>\n",
       "      <td>...</td>\n",
       "      <td>...</td>\n",
       "      <td>...</td>\n",
       "      <td>...</td>\n",
       "      <td>...</td>\n",
       "      <td>...</td>\n",
       "    </tr>\n",
       "    <tr>\n",
       "      <th>7933</th>\n",
       "      <td>Zuckerbrod, Todd A.</td>\n",
       "      <td>8252.000</td>\n",
       "      <td>12</td>\n",
       "      <td>1370</td>\n",
       "      <td>1</td>\n",
       "      <td>0</td>\n",
       "    </tr>\n",
       "    <tr>\n",
       "      <th>7934</th>\n",
       "      <td>Zuckerman, Paul S.</td>\n",
       "      <td>81119.000</td>\n",
       "      <td>12</td>\n",
       "      <td>1370</td>\n",
       "      <td>0</td>\n",
       "      <td>0</td>\n",
       "    </tr>\n",
       "    <tr>\n",
       "      <th>7935</th>\n",
       "      <td>Zuganelis, George M.</td>\n",
       "      <td>1000.000</td>\n",
       "      <td>1</td>\n",
       "      <td>4384</td>\n",
       "      <td>4</td>\n",
       "      <td>0</td>\n",
       "    </tr>\n",
       "    <tr>\n",
       "      <th>7936</th>\n",
       "      <td>Zuspan, Philip</td>\n",
       "      <td>14278.000</td>\n",
       "      <td>27</td>\n",
       "      <td>3868</td>\n",
       "      <td>4</td>\n",
       "      <td>0</td>\n",
       "    </tr>\n",
       "    <tr>\n",
       "      <th>7937</th>\n",
       "      <td>Zyne, Beatriz</td>\n",
       "      <td>60819.904</td>\n",
       "      <td>108</td>\n",
       "      <td>1</td>\n",
       "      <td>0</td>\n",
       "      <td>0</td>\n",
       "    </tr>\n",
       "  </tbody>\n",
       "</table>\n",
       "<p>7938 rows × 6 columns</p>\n",
       "</div>"
      ],
      "text/plain": [
       "                      Name     Amount  Frequency  Recency  Cluster_Id  \\\n",
       "0           Aaroe, Paul M.   8760.000         24     3746           4   \n",
       "1         Aaronson, Austin   5425.000          5      732           1   \n",
       "2         Abasi, Evelyn J.   9997.400         21     2162           4   \n",
       "3      Abbitt, Julia Chico   2975.000          7     1523           1   \n",
       "4           Abdala, Dianna  20250.000         15     1827           1   \n",
       "...                    ...        ...        ...      ...         ...   \n",
       "7933   Zuckerbrod, Todd A.   8252.000         12     1370           1   \n",
       "7934    Zuckerman, Paul S.  81119.000         12     1370           0   \n",
       "7935  Zuganelis, George M.   1000.000          1     4384           4   \n",
       "7936        Zuspan, Philip  14278.000         27     3868           4   \n",
       "7937         Zyne, Beatriz  60819.904        108        1           0   \n",
       "\n",
       "      Cluster_Labels  \n",
       "0                  0  \n",
       "1                  0  \n",
       "2                  0  \n",
       "3                  0  \n",
       "4                  0  \n",
       "...              ...  \n",
       "7933               0  \n",
       "7934               0  \n",
       "7935               0  \n",
       "7936               0  \n",
       "7937               0  \n",
       "\n",
       "[7938 rows x 6 columns]"
      ]
     },
     "execution_count": 59,
     "metadata": {},
     "output_type": "execute_result"
    }
   ],
   "source": [
    "rfm"
   ]
  },
  {
   "cell_type": "code",
   "execution_count": 60,
   "id": "bbbee2da",
   "metadata": {},
   "outputs": [],
   "source": [
    "rfm_cluster = rfm_normalized[['Recency', 'Frequency', 'Amount', 'Cluster_Id']]"
   ]
  },
  {
   "cell_type": "code",
   "execution_count": 61,
   "id": "46429d2d",
   "metadata": {},
   "outputs": [],
   "source": [
    "rfm_pop= rfm_normalized[['Recency', 'Frequency', 'Amount']]"
   ]
  },
  {
   "cell_type": "code",
   "execution_count": 62,
   "id": "c9e16651",
   "metadata": {},
   "outputs": [
    {
     "data": {
      "text/html": [
       "<div>\n",
       "<style scoped>\n",
       "    .dataframe tbody tr th:only-of-type {\n",
       "        vertical-align: middle;\n",
       "    }\n",
       "\n",
       "    .dataframe tbody tr th {\n",
       "        vertical-align: top;\n",
       "    }\n",
       "\n",
       "    .dataframe thead th {\n",
       "        text-align: right;\n",
       "    }\n",
       "</style>\n",
       "<table border=\"1\" class=\"dataframe\">\n",
       "  <thead>\n",
       "    <tr style=\"text-align: right;\">\n",
       "      <th></th>\n",
       "      <th>Recency</th>\n",
       "      <th>Frequency</th>\n",
       "      <th>Amount</th>\n",
       "      <th>Cluster_Id</th>\n",
       "    </tr>\n",
       "  </thead>\n",
       "  <tbody>\n",
       "    <tr>\n",
       "      <th>0</th>\n",
       "      <td>1.401634</td>\n",
       "      <td>-0.069516</td>\n",
       "      <td>-0.293017</td>\n",
       "      <td>4</td>\n",
       "    </tr>\n",
       "    <tr>\n",
       "      <th>1</th>\n",
       "      <td>-0.620721</td>\n",
       "      <td>-0.581307</td>\n",
       "      <td>-0.391122</td>\n",
       "      <td>1</td>\n",
       "    </tr>\n",
       "    <tr>\n",
       "      <th>2</th>\n",
       "      <td>0.338791</td>\n",
       "      <td>-0.150325</td>\n",
       "      <td>-0.256617</td>\n",
       "      <td>4</td>\n",
       "    </tr>\n",
       "    <tr>\n",
       "      <th>3</th>\n",
       "      <td>-0.089970</td>\n",
       "      <td>-0.527434</td>\n",
       "      <td>-0.463193</td>\n",
       "      <td>1</td>\n",
       "    </tr>\n",
       "    <tr>\n",
       "      <th>4</th>\n",
       "      <td>0.114010</td>\n",
       "      <td>-0.311943</td>\n",
       "      <td>0.044981</td>\n",
       "      <td>1</td>\n",
       "    </tr>\n",
       "    <tr>\n",
       "      <th>...</th>\n",
       "      <td>...</td>\n",
       "      <td>...</td>\n",
       "      <td>...</td>\n",
       "      <td>...</td>\n",
       "    </tr>\n",
       "    <tr>\n",
       "      <th>7933</th>\n",
       "      <td>-0.192631</td>\n",
       "      <td>-0.392753</td>\n",
       "      <td>-0.307961</td>\n",
       "      <td>1</td>\n",
       "    </tr>\n",
       "    <tr>\n",
       "      <th>7934</th>\n",
       "      <td>-0.192631</td>\n",
       "      <td>-0.392753</td>\n",
       "      <td>1.835546</td>\n",
       "      <td>0</td>\n",
       "    </tr>\n",
       "    <tr>\n",
       "      <th>7935</th>\n",
       "      <td>1.829724</td>\n",
       "      <td>-0.689053</td>\n",
       "      <td>-0.521291</td>\n",
       "      <td>4</td>\n",
       "    </tr>\n",
       "    <tr>\n",
       "      <th>7936</th>\n",
       "      <td>1.483495</td>\n",
       "      <td>0.011293</td>\n",
       "      <td>-0.130696</td>\n",
       "      <td>4</td>\n",
       "    </tr>\n",
       "    <tr>\n",
       "      <th>7937</th>\n",
       "      <td>-1.111212</td>\n",
       "      <td>2.193139</td>\n",
       "      <td>1.238414</td>\n",
       "      <td>0</td>\n",
       "    </tr>\n",
       "  </tbody>\n",
       "</table>\n",
       "<p>7938 rows × 4 columns</p>\n",
       "</div>"
      ],
      "text/plain": [
       "       Recency  Frequency    Amount  Cluster_Id\n",
       "0     1.401634  -0.069516 -0.293017           4\n",
       "1    -0.620721  -0.581307 -0.391122           1\n",
       "2     0.338791  -0.150325 -0.256617           4\n",
       "3    -0.089970  -0.527434 -0.463193           1\n",
       "4     0.114010  -0.311943  0.044981           1\n",
       "...        ...        ...       ...         ...\n",
       "7933 -0.192631  -0.392753 -0.307961           1\n",
       "7934 -0.192631  -0.392753  1.835546           0\n",
       "7935  1.829724  -0.689053 -0.521291           4\n",
       "7936  1.483495   0.011293 -0.130696           4\n",
       "7937 -1.111212   2.193139  1.238414           0\n",
       "\n",
       "[7938 rows x 4 columns]"
      ]
     },
     "execution_count": 62,
     "metadata": {},
     "output_type": "execute_result"
    }
   ],
   "source": [
    "rfm_cluster"
   ]
  },
  {
   "cell_type": "code",
   "execution_count": 63,
   "id": "73cc15d6",
   "metadata": {},
   "outputs": [
    {
     "data": {
      "text/html": [
       "<div>\n",
       "<style scoped>\n",
       "    .dataframe tbody tr th:only-of-type {\n",
       "        vertical-align: middle;\n",
       "    }\n",
       "\n",
       "    .dataframe tbody tr th {\n",
       "        vertical-align: top;\n",
       "    }\n",
       "\n",
       "    .dataframe thead th {\n",
       "        text-align: right;\n",
       "    }\n",
       "</style>\n",
       "<table border=\"1\" class=\"dataframe\">\n",
       "  <thead>\n",
       "    <tr style=\"text-align: right;\">\n",
       "      <th></th>\n",
       "      <th>Recency</th>\n",
       "      <th>Frequency</th>\n",
       "      <th>Amount</th>\n",
       "    </tr>\n",
       "  </thead>\n",
       "  <tbody>\n",
       "    <tr>\n",
       "      <th>0</th>\n",
       "      <td>1.401634</td>\n",
       "      <td>-0.069516</td>\n",
       "      <td>-0.293017</td>\n",
       "    </tr>\n",
       "    <tr>\n",
       "      <th>1</th>\n",
       "      <td>-0.620721</td>\n",
       "      <td>-0.581307</td>\n",
       "      <td>-0.391122</td>\n",
       "    </tr>\n",
       "    <tr>\n",
       "      <th>2</th>\n",
       "      <td>0.338791</td>\n",
       "      <td>-0.150325</td>\n",
       "      <td>-0.256617</td>\n",
       "    </tr>\n",
       "    <tr>\n",
       "      <th>3</th>\n",
       "      <td>-0.089970</td>\n",
       "      <td>-0.527434</td>\n",
       "      <td>-0.463193</td>\n",
       "    </tr>\n",
       "    <tr>\n",
       "      <th>4</th>\n",
       "      <td>0.114010</td>\n",
       "      <td>-0.311943</td>\n",
       "      <td>0.044981</td>\n",
       "    </tr>\n",
       "    <tr>\n",
       "      <th>...</th>\n",
       "      <td>...</td>\n",
       "      <td>...</td>\n",
       "      <td>...</td>\n",
       "    </tr>\n",
       "    <tr>\n",
       "      <th>7933</th>\n",
       "      <td>-0.192631</td>\n",
       "      <td>-0.392753</td>\n",
       "      <td>-0.307961</td>\n",
       "    </tr>\n",
       "    <tr>\n",
       "      <th>7934</th>\n",
       "      <td>-0.192631</td>\n",
       "      <td>-0.392753</td>\n",
       "      <td>1.835546</td>\n",
       "    </tr>\n",
       "    <tr>\n",
       "      <th>7935</th>\n",
       "      <td>1.829724</td>\n",
       "      <td>-0.689053</td>\n",
       "      <td>-0.521291</td>\n",
       "    </tr>\n",
       "    <tr>\n",
       "      <th>7936</th>\n",
       "      <td>1.483495</td>\n",
       "      <td>0.011293</td>\n",
       "      <td>-0.130696</td>\n",
       "    </tr>\n",
       "    <tr>\n",
       "      <th>7937</th>\n",
       "      <td>-1.111212</td>\n",
       "      <td>2.193139</td>\n",
       "      <td>1.238414</td>\n",
       "    </tr>\n",
       "  </tbody>\n",
       "</table>\n",
       "<p>7938 rows × 3 columns</p>\n",
       "</div>"
      ],
      "text/plain": [
       "       Recency  Frequency    Amount\n",
       "0     1.401634  -0.069516 -0.293017\n",
       "1    -0.620721  -0.581307 -0.391122\n",
       "2     0.338791  -0.150325 -0.256617\n",
       "3    -0.089970  -0.527434 -0.463193\n",
       "4     0.114010  -0.311943  0.044981\n",
       "...        ...        ...       ...\n",
       "7933 -0.192631  -0.392753 -0.307961\n",
       "7934 -0.192631  -0.392753  1.835546\n",
       "7935  1.829724  -0.689053 -0.521291\n",
       "7936  1.483495   0.011293 -0.130696\n",
       "7937 -1.111212   2.193139  1.238414\n",
       "\n",
       "[7938 rows x 3 columns]"
      ]
     },
     "execution_count": 63,
     "metadata": {},
     "output_type": "execute_result"
    }
   ],
   "source": [
    "rfm_pop"
   ]
  },
  {
   "cell_type": "code",
   "execution_count": 64,
   "id": "9a8a5167",
   "metadata": {},
   "outputs": [
    {
     "data": {
      "text/html": [
       "<div>\n",
       "<style scoped>\n",
       "    .dataframe tbody tr th:only-of-type {\n",
       "        vertical-align: middle;\n",
       "    }\n",
       "\n",
       "    .dataframe tbody tr th {\n",
       "        vertical-align: top;\n",
       "    }\n",
       "\n",
       "    .dataframe thead th {\n",
       "        text-align: right;\n",
       "    }\n",
       "</style>\n",
       "<table border=\"1\" class=\"dataframe\">\n",
       "  <thead>\n",
       "    <tr style=\"text-align: right;\">\n",
       "      <th></th>\n",
       "      <th>Amount</th>\n",
       "      <th>Frequency</th>\n",
       "      <th>Recency</th>\n",
       "    </tr>\n",
       "    <tr>\n",
       "      <th>Cluster_Id</th>\n",
       "      <th></th>\n",
       "      <th></th>\n",
       "      <th></th>\n",
       "    </tr>\n",
       "  </thead>\n",
       "  <tbody>\n",
       "    <tr>\n",
       "      <th>0</th>\n",
       "      <td>-1.1063</td>\n",
       "      <td>-1.4980</td>\n",
       "      <td>0.5915</td>\n",
       "    </tr>\n",
       "    <tr>\n",
       "      <th>1</th>\n",
       "      <td>0.2318</td>\n",
       "      <td>0.2550</td>\n",
       "      <td>0.7270</td>\n",
       "    </tr>\n",
       "    <tr>\n",
       "      <th>2</th>\n",
       "      <td>-4.8615</td>\n",
       "      <td>-4.0736</td>\n",
       "      <td>0.9203</td>\n",
       "    </tr>\n",
       "    <tr>\n",
       "      <th>3</th>\n",
       "      <td>-24.2077</td>\n",
       "      <td>-19.3157</td>\n",
       "      <td>1.1112</td>\n",
       "    </tr>\n",
       "    <tr>\n",
       "      <th>4</th>\n",
       "      <td>0.2296</td>\n",
       "      <td>0.2594</td>\n",
       "      <td>-1.0877</td>\n",
       "    </tr>\n",
       "  </tbody>\n",
       "</table>\n",
       "</div>"
      ],
      "text/plain": [
       "             Amount  Frequency  Recency\n",
       "Cluster_Id                             \n",
       "0           -1.1063    -1.4980   0.5915\n",
       "1            0.2318     0.2550   0.7270\n",
       "2           -4.8615    -4.0736   0.9203\n",
       "3          -24.2077   -19.3157   1.1112\n",
       "4            0.2296     0.2594  -1.0877"
      ]
     },
     "execution_count": 64,
     "metadata": {},
     "output_type": "execute_result"
    }
   ],
   "source": [
    "# The further a ratio is from 0, the more important that attribute is for a segment relative to the total population\n",
    "cluster_avg = rfm_normalized.groupby(['Cluster_Id']).mean()\n",
    "population_avg = rfm_normalized.mean()\n",
    "relative_imp = cluster_avg / (population_avg - 1)\n",
    "relative_imp.drop(columns=['Cluster_Id', 'Cluster_Labels'], axis=1, inplace=True)\n",
    "relative_imp.round(4)"
   ]
  },
  {
   "cell_type": "code",
   "execution_count": 65,
   "id": "8f6f19c0",
   "metadata": {},
   "outputs": [
    {
     "data": {
      "text/html": [
       "<div>\n",
       "<style scoped>\n",
       "    .dataframe tbody tr th:only-of-type {\n",
       "        vertical-align: middle;\n",
       "    }\n",
       "\n",
       "    .dataframe tbody tr th {\n",
       "        vertical-align: top;\n",
       "    }\n",
       "\n",
       "    .dataframe thead th {\n",
       "        text-align: right;\n",
       "    }\n",
       "</style>\n",
       "<table border=\"1\" class=\"dataframe\">\n",
       "  <thead>\n",
       "    <tr style=\"text-align: right;\">\n",
       "      <th></th>\n",
       "      <th>Amount</th>\n",
       "      <th>Frequency</th>\n",
       "      <th>Recency</th>\n",
       "    </tr>\n",
       "    <tr>\n",
       "      <th>Cluster_Labels</th>\n",
       "      <th></th>\n",
       "      <th></th>\n",
       "      <th></th>\n",
       "    </tr>\n",
       "  </thead>\n",
       "  <tbody>\n",
       "    <tr>\n",
       "      <th>0</th>\n",
       "      <td>0.0268</td>\n",
       "      <td>0.0202</td>\n",
       "      <td>-0.0025</td>\n",
       "    </tr>\n",
       "    <tr>\n",
       "      <th>1</th>\n",
       "      <td>-8.0591</td>\n",
       "      <td>-11.0103</td>\n",
       "      <td>1.1112</td>\n",
       "    </tr>\n",
       "    <tr>\n",
       "      <th>2</th>\n",
       "      <td>-10.1369</td>\n",
       "      <td>-3.9590</td>\n",
       "      <td>1.1090</td>\n",
       "    </tr>\n",
       "    <tr>\n",
       "      <th>3</th>\n",
       "      <td>-27.7432</td>\n",
       "      <td>-35.8367</td>\n",
       "      <td>1.1112</td>\n",
       "    </tr>\n",
       "    <tr>\n",
       "      <th>4</th>\n",
       "      <td>-22.4400</td>\n",
       "      <td>-11.0552</td>\n",
       "      <td>1.1112</td>\n",
       "    </tr>\n",
       "  </tbody>\n",
       "</table>\n",
       "</div>"
      ],
      "text/plain": [
       "                 Amount  Frequency  Recency\n",
       "Cluster_Labels                             \n",
       "0                0.0268     0.0202  -0.0025\n",
       "1               -8.0591   -11.0103   1.1112\n",
       "2              -10.1369    -3.9590   1.1090\n",
       "3              -27.7432   -35.8367   1.1112\n",
       "4              -22.4400   -11.0552   1.1112"
      ]
     },
     "execution_count": 65,
     "metadata": {},
     "output_type": "execute_result"
    }
   ],
   "source": [
    "# The further a ratio is from 0, the more important that attribute is for a segment relative to the total population\n",
    "cluster_avg = rfm_normalized.groupby(['Cluster_Labels']).mean()\n",
    "population_avg = rfm_normalized.mean()\n",
    "prop_rfm = cluster_avg / (population_avg - 1)\n",
    "prop_rfm.drop(columns=['Cluster_Id', 'Cluster_Labels'], axis=1, inplace=True)\n",
    "prop_rfm.round(4)"
   ]
  },
  {
   "cell_type": "code",
   "execution_count": 66,
   "id": "4e358f45",
   "metadata": {},
   "outputs": [
    {
     "data": {
      "text/plain": [
       "Cluster_Id        2.104812e+00\n",
       "Cluster_Labels    4.409171e-03\n",
       "Amount            2.198628e-17\n",
       "Frequency         1.042810e-16\n",
       "Recency          -5.339924e-17\n",
       "dtype: float64"
      ]
     },
     "execution_count": 66,
     "metadata": {},
     "output_type": "execute_result"
    }
   ],
   "source": [
    "population_avg"
   ]
  },
  {
   "cell_type": "code",
   "execution_count": 67,
   "id": "989945a9",
   "metadata": {},
   "outputs": [
    {
     "data": {
      "image/png": "[encoded data removed]",
      "text/plain": [
       "<Figure size 1080x360 with 4 Axes>"
      ]
     },
     "metadata": {},
     "output_type": "display_data"
    }
   ],
   "source": [
    "# heatmap with RFM\n",
    "f, (ax1, ax2) = plt.subplots(1,2, figsize=(15, 5))\n",
    "sns.heatmap(data=relative_imp, annot=True, fmt='.2f', cmap='Blues',ax=ax1)\n",
    "ax1.set(title = \"Heatmap of K-Means\")\n",
    "\n",
    "# a snake plot with K-Means\n",
    "sns.heatmap(prop_rfm, cmap= 'Oranges', fmt= '.2f', annot = True,ax=ax2)\n",
    "ax2.set(title = \"Heatmap of RFM quantile\")\n",
    "\n",
    "plt.suptitle(\"Heat Map of RFM\",fontsize=20) #make title fontsize subtitle \n",
    "\n",
    "plt.show()"
   ]
  },
  {
   "cell_type": "markdown",
   "id": "0be9f14a",
   "metadata": {},
   "source": [
    "### Step 5: Final Analysis"
   ]
  },
  {
   "cell_type": "markdown",
   "id": "d7ea03aa",
   "metadata": {},
   "source": [
    "K-Means Clustering with 5 Cluster IDs\n",
    "\n",
    "* Attorneys under Cluster ID 3 & 4 have the highest amount and most frequent transactions. Just put them into one cluster since Cluster ID 4 has only 3 Attorneys (they may be outliers or super VIPs).\n",
    "* Attorneys under Cluster ID 0 are 3rd in terms of both amount and frequency of transactions (after 3 & 4).\n",
    "* Attorneys under Cluster ID 2 and 1 are the the least frequent and low-value payors. However, Cluster ID 1 have not transacted with the company for the longest time."
   ]
  },
  {
   "cell_type": "markdown",
   "id": "f138131c",
   "metadata": {},
   "source": [
    "Hierarchical Clustering with 4 Cluster Labels\n",
    "\n",
    "* Attorneys under Cluster Label 2 have the highest amount of and have frequent transactions.\n",
    "* Attorneys under Cluster Label 0 the the least frequent and low-value payors."
   ]
  },
  {
   "cell_type": "markdown",
   "id": "003602a4",
   "metadata": {},
   "source": [
    "To export results:"
   ]
  },
  {
   "cell_type": "code",
   "execution_count": 68,
   "id": "9dad36c5",
   "metadata": {},
   "outputs": [],
   "source": [
    "rfm.to_csv('rfm analysis_final.csv', index = False)"
   ]
  },
  {
   "cell_type": "markdown",
   "id": "07f99e92",
   "metadata": {},
   "source": [
    "Add details:"
   ]
  },
  {
   "cell_type": "code",
   "execution_count": 69,
   "id": "640aaa13",
   "metadata": {},
   "outputs": [],
   "source": [
    "status = deals_database[['Name', 'Status']]"
   ]
  },
  {
   "cell_type": "code",
   "execution_count": 70,
   "id": "9fdb5610",
   "metadata": {},
   "outputs": [],
   "source": [
    "df_status = status.sort_values(['Name','Status']).drop_duplicates('Name')[['Name','Status']]"
   ]
  },
  {
   "cell_type": "code",
   "execution_count": 71,
   "id": "72534e28",
   "metadata": {},
   "outputs": [
    {
     "data": {
      "text/html": [
       "<div>\n",
       "<style scoped>\n",
       "    .dataframe tbody tr th:only-of-type {\n",
       "        vertical-align: middle;\n",
       "    }\n",
       "\n",
       "    .dataframe tbody tr th {\n",
       "        vertical-align: top;\n",
       "    }\n",
       "\n",
       "    .dataframe thead th {\n",
       "        text-align: right;\n",
       "    }\n",
       "</style>\n",
       "<table border=\"1\" class=\"dataframe\">\n",
       "  <thead>\n",
       "    <tr style=\"text-align: right;\">\n",
       "      <th></th>\n",
       "      <th>Name</th>\n",
       "      <th>Status</th>\n",
       "    </tr>\n",
       "  </thead>\n",
       "  <tbody>\n",
       "    <tr>\n",
       "      <th>0</th>\n",
       "      <td>Aaroe, Paul M.</td>\n",
       "      <td>Inactive</td>\n",
       "    </tr>\n",
       "    <tr>\n",
       "      <th>1</th>\n",
       "      <td>Aaronson, Austin</td>\n",
       "      <td>Inactive</td>\n",
       "    </tr>\n",
       "    <tr>\n",
       "      <th>2</th>\n",
       "      <td>Abasi, Evelyn J.</td>\n",
       "      <td>Inactive</td>\n",
       "    </tr>\n",
       "    <tr>\n",
       "      <th>3</th>\n",
       "      <td>Abbitt, Julia Chico</td>\n",
       "      <td>Inactive</td>\n",
       "    </tr>\n",
       "    <tr>\n",
       "      <th>4</th>\n",
       "      <td>Abdala, Dianna</td>\n",
       "      <td>Inactive</td>\n",
       "    </tr>\n",
       "    <tr>\n",
       "      <th>...</th>\n",
       "      <td>...</td>\n",
       "      <td>...</td>\n",
       "    </tr>\n",
       "    <tr>\n",
       "      <th>14299</th>\n",
       "      <td>Zuckerbrod, Todd A.</td>\n",
       "      <td>Inactive</td>\n",
       "    </tr>\n",
       "    <tr>\n",
       "      <th>14300</th>\n",
       "      <td>Zuckerman, Paul S.</td>\n",
       "      <td>Inactive</td>\n",
       "    </tr>\n",
       "    <tr>\n",
       "      <th>14301</th>\n",
       "      <td>Zuganelis, George M.</td>\n",
       "      <td>Inactive</td>\n",
       "    </tr>\n",
       "    <tr>\n",
       "      <th>14302</th>\n",
       "      <td>Zuspan, Philip</td>\n",
       "      <td>Inactive</td>\n",
       "    </tr>\n",
       "    <tr>\n",
       "      <th>14311</th>\n",
       "      <td>Zyne, Beatriz</td>\n",
       "      <td>Active</td>\n",
       "    </tr>\n",
       "  </tbody>\n",
       "</table>\n",
       "<p>7938 rows × 2 columns</p>\n",
       "</div>"
      ],
      "text/plain": [
       "                       Name    Status\n",
       "0            Aaroe, Paul M.  Inactive\n",
       "1          Aaronson, Austin  Inactive\n",
       "2          Abasi, Evelyn J.  Inactive\n",
       "3       Abbitt, Julia Chico  Inactive\n",
       "4            Abdala, Dianna  Inactive\n",
       "...                     ...       ...\n",
       "14299   Zuckerbrod, Todd A.  Inactive\n",
       "14300    Zuckerman, Paul S.  Inactive\n",
       "14301  Zuganelis, George M.  Inactive\n",
       "14302        Zuspan, Philip  Inactive\n",
       "14311         Zyne, Beatriz    Active\n",
       "\n",
       "[7938 rows x 2 columns]"
      ]
     },
     "execution_count": 71,
     "metadata": {},
     "output_type": "execute_result"
    }
   ],
   "source": [
    "df_status"
   ]
  },
  {
   "cell_type": "code",
   "execution_count": 72,
   "id": "ffe8aa23",
   "metadata": {},
   "outputs": [],
   "source": [
    "state = deals_database[['Name', 'Salesforce Account Id', 'Billing State/Province', 'State']]"
   ]
  },
  {
   "cell_type": "code",
   "execution_count": 73,
   "id": "9a4be2ad",
   "metadata": {},
   "outputs": [],
   "source": [
    "df_state = state.drop_duplicates(subset='Name', keep='last')"
   ]
  },
  {
   "cell_type": "code",
   "execution_count": 74,
   "id": "adf3dfb0",
   "metadata": {},
   "outputs": [
    {
     "data": {
      "text/html": [
       "<div>\n",
       "<style scoped>\n",
       "    .dataframe tbody tr th:only-of-type {\n",
       "        vertical-align: middle;\n",
       "    }\n",
       "\n",
       "    .dataframe tbody tr th {\n",
       "        vertical-align: top;\n",
       "    }\n",
       "\n",
       "    .dataframe thead th {\n",
       "        text-align: right;\n",
       "    }\n",
       "</style>\n",
       "<table border=\"1\" class=\"dataframe\">\n",
       "  <thead>\n",
       "    <tr style=\"text-align: right;\">\n",
       "      <th></th>\n",
       "      <th>Name</th>\n",
       "      <th>Salesforce Account Id</th>\n",
       "      <th>Billing State/Province</th>\n",
       "      <th>State</th>\n",
       "    </tr>\n",
       "  </thead>\n",
       "  <tbody>\n",
       "    <tr>\n",
       "      <th>0</th>\n",
       "      <td>Aaroe, Paul M.</td>\n",
       "      <td>0013000000CcDuEAAV</td>\n",
       "      <td>PA</td>\n",
       "      <td>Pennsylvania</td>\n",
       "    </tr>\n",
       "    <tr>\n",
       "      <th>1</th>\n",
       "      <td>Aaronson, Austin</td>\n",
       "      <td>0013000000CbIYyAAN</td>\n",
       "      <td>FL</td>\n",
       "      <td>Florida</td>\n",
       "    </tr>\n",
       "    <tr>\n",
       "      <th>2</th>\n",
       "      <td>Abasi, Evelyn J.</td>\n",
       "      <td>0016000000cLphAAAS</td>\n",
       "      <td>CA</td>\n",
       "      <td>California</td>\n",
       "    </tr>\n",
       "    <tr>\n",
       "      <th>3</th>\n",
       "      <td>Abbitt, Julia Chico</td>\n",
       "      <td>0013200001HEQegAAH</td>\n",
       "      <td>WV</td>\n",
       "      <td>West Virginia</td>\n",
       "    </tr>\n",
       "    <tr>\n",
       "      <th>4</th>\n",
       "      <td>Abdala, Dianna</td>\n",
       "      <td>0013200001BYZ1bAAH</td>\n",
       "      <td>MA</td>\n",
       "      <td>Massachusetts</td>\n",
       "    </tr>\n",
       "    <tr>\n",
       "      <th>...</th>\n",
       "      <td>...</td>\n",
       "      <td>...</td>\n",
       "      <td>...</td>\n",
       "      <td>...</td>\n",
       "    </tr>\n",
       "    <tr>\n",
       "      <th>14299</th>\n",
       "      <td>Zuckerbrod, Todd A.</td>\n",
       "      <td>0016000000o6Us5AAE</td>\n",
       "      <td>FL</td>\n",
       "      <td>Florida</td>\n",
       "    </tr>\n",
       "    <tr>\n",
       "      <th>14300</th>\n",
       "      <td>Zuckerman, Paul S.</td>\n",
       "      <td>0013000000CbadyAAB</td>\n",
       "      <td>CA</td>\n",
       "      <td>California</td>\n",
       "    </tr>\n",
       "    <tr>\n",
       "      <th>14301</th>\n",
       "      <td>Zuganelis, George M.</td>\n",
       "      <td>0013000000Cbb8cAAB</td>\n",
       "      <td>IL</td>\n",
       "      <td>Illinois</td>\n",
       "    </tr>\n",
       "    <tr>\n",
       "      <th>14304</th>\n",
       "      <td>Zuspan, Philip</td>\n",
       "      <td>0013000000CbeEQAAZ</td>\n",
       "      <td>MO</td>\n",
       "      <td>Missouri</td>\n",
       "    </tr>\n",
       "    <tr>\n",
       "      <th>14311</th>\n",
       "      <td>Zyne, Beatriz</td>\n",
       "      <td>0016000000INuQuAAL</td>\n",
       "      <td>FL</td>\n",
       "      <td>Florida</td>\n",
       "    </tr>\n",
       "  </tbody>\n",
       "</table>\n",
       "<p>7938 rows × 4 columns</p>\n",
       "</div>"
      ],
      "text/plain": [
       "                       Name Salesforce Account Id Billing State/Province  \\\n",
       "0            Aaroe, Paul M.    0013000000CcDuEAAV                     PA   \n",
       "1          Aaronson, Austin    0013000000CbIYyAAN                     FL   \n",
       "2          Abasi, Evelyn J.    0016000000cLphAAAS                     CA   \n",
       "3       Abbitt, Julia Chico    0013200001HEQegAAH                     WV   \n",
       "4            Abdala, Dianna    0013200001BYZ1bAAH                     MA   \n",
       "...                     ...                   ...                    ...   \n",
       "14299   Zuckerbrod, Todd A.    0016000000o6Us5AAE                     FL   \n",
       "14300    Zuckerman, Paul S.    0013000000CbadyAAB                     CA   \n",
       "14301  Zuganelis, George M.    0013000000Cbb8cAAB                     IL   \n",
       "14304        Zuspan, Philip    0013000000CbeEQAAZ                     MO   \n",
       "14311         Zyne, Beatriz    0016000000INuQuAAL                     FL   \n",
       "\n",
       "               State  \n",
       "0       Pennsylvania  \n",
       "1            Florida  \n",
       "2         California  \n",
       "3      West Virginia  \n",
       "4      Massachusetts  \n",
       "...              ...  \n",
       "14299        Florida  \n",
       "14300     California  \n",
       "14301       Illinois  \n",
       "14304       Missouri  \n",
       "14311        Florida  \n",
       "\n",
       "[7938 rows x 4 columns]"
      ]
     },
     "execution_count": 74,
     "metadata": {},
     "output_type": "execute_result"
    }
   ],
   "source": [
    "df_state"
   ]
  },
  {
   "cell_type": "code",
   "execution_count": 75,
   "id": "9271c7ef",
   "metadata": {},
   "outputs": [],
   "source": [
    "rfm_details = rfm.merge(df_status,on='Name', how='left')\n",
    "rfm_details = rfm_details.merge(df_state,on='Name', how='left')"
   ]
  },
  {
   "cell_type": "code",
   "execution_count": 76,
   "id": "6656ad0c",
   "metadata": {},
   "outputs": [],
   "source": [
    "rfm_filtered = rfm_details[[\"Name\", \"Salesforce Account Id\", \"Amount\", \n",
    "                           \"Frequency\", \"Recency\", \"Cluster_Id\", \"Cluster_Labels\", \n",
    "                           \"Status\", \"Billing State/Province\", \"State\"]]"
   ]
  },
  {
   "cell_type": "code",
   "execution_count": 77,
   "id": "90ad82b7",
   "metadata": {},
   "outputs": [
    {
     "data": {
      "text/html": [
       "<div>\n",
       "<style scoped>\n",
       "    .dataframe tbody tr th:only-of-type {\n",
       "        vertical-align: middle;\n",
       "    }\n",
       "\n",
       "    .dataframe tbody tr th {\n",
       "        vertical-align: top;\n",
       "    }\n",
       "\n",
       "    .dataframe thead th {\n",
       "        text-align: right;\n",
       "    }\n",
       "</style>\n",
       "<table border=\"1\" class=\"dataframe\">\n",
       "  <thead>\n",
       "    <tr style=\"text-align: right;\">\n",
       "      <th></th>\n",
       "      <th>Name</th>\n",
       "      <th>Salesforce Account Id</th>\n",
       "      <th>Amount</th>\n",
       "      <th>Frequency</th>\n",
       "      <th>Recency</th>\n",
       "      <th>Cluster_Id</th>\n",
       "      <th>Cluster_Labels</th>\n",
       "      <th>Status</th>\n",
       "      <th>Billing State/Province</th>\n",
       "      <th>State</th>\n",
       "    </tr>\n",
       "  </thead>\n",
       "  <tbody>\n",
       "    <tr>\n",
       "      <th>0</th>\n",
       "      <td>Aaroe, Paul M.</td>\n",
       "      <td>0013000000CcDuEAAV</td>\n",
       "      <td>8760.000</td>\n",
       "      <td>24</td>\n",
       "      <td>3746</td>\n",
       "      <td>4</td>\n",
       "      <td>0</td>\n",
       "      <td>Inactive</td>\n",
       "      <td>PA</td>\n",
       "      <td>Pennsylvania</td>\n",
       "    </tr>\n",
       "    <tr>\n",
       "      <th>1</th>\n",
       "      <td>Aaronson, Austin</td>\n",
       "      <td>0013000000CbIYyAAN</td>\n",
       "      <td>5425.000</td>\n",
       "      <td>5</td>\n",
       "      <td>732</td>\n",
       "      <td>1</td>\n",
       "      <td>0</td>\n",
       "      <td>Inactive</td>\n",
       "      <td>FL</td>\n",
       "      <td>Florida</td>\n",
       "    </tr>\n",
       "    <tr>\n",
       "      <th>2</th>\n",
       "      <td>Abasi, Evelyn J.</td>\n",
       "      <td>0016000000cLphAAAS</td>\n",
       "      <td>9997.400</td>\n",
       "      <td>21</td>\n",
       "      <td>2162</td>\n",
       "      <td>4</td>\n",
       "      <td>0</td>\n",
       "      <td>Inactive</td>\n",
       "      <td>CA</td>\n",
       "      <td>California</td>\n",
       "    </tr>\n",
       "    <tr>\n",
       "      <th>3</th>\n",
       "      <td>Abbitt, Julia Chico</td>\n",
       "      <td>0013200001HEQegAAH</td>\n",
       "      <td>2975.000</td>\n",
       "      <td>7</td>\n",
       "      <td>1523</td>\n",
       "      <td>1</td>\n",
       "      <td>0</td>\n",
       "      <td>Inactive</td>\n",
       "      <td>WV</td>\n",
       "      <td>West Virginia</td>\n",
       "    </tr>\n",
       "    <tr>\n",
       "      <th>4</th>\n",
       "      <td>Abdala, Dianna</td>\n",
       "      <td>0013200001BYZ1bAAH</td>\n",
       "      <td>20250.000</td>\n",
       "      <td>15</td>\n",
       "      <td>1827</td>\n",
       "      <td>1</td>\n",
       "      <td>0</td>\n",
       "      <td>Inactive</td>\n",
       "      <td>MA</td>\n",
       "      <td>Massachusetts</td>\n",
       "    </tr>\n",
       "    <tr>\n",
       "      <th>...</th>\n",
       "      <td>...</td>\n",
       "      <td>...</td>\n",
       "      <td>...</td>\n",
       "      <td>...</td>\n",
       "      <td>...</td>\n",
       "      <td>...</td>\n",
       "      <td>...</td>\n",
       "      <td>...</td>\n",
       "      <td>...</td>\n",
       "      <td>...</td>\n",
       "    </tr>\n",
       "    <tr>\n",
       "      <th>7933</th>\n",
       "      <td>Zuckerbrod, Todd A.</td>\n",
       "      <td>0016000000o6Us5AAE</td>\n",
       "      <td>8252.000</td>\n",
       "      <td>12</td>\n",
       "      <td>1370</td>\n",
       "      <td>1</td>\n",
       "      <td>0</td>\n",
       "      <td>Inactive</td>\n",
       "      <td>FL</td>\n",
       "      <td>Florida</td>\n",
       "    </tr>\n",
       "    <tr>\n",
       "      <th>7934</th>\n",
       "      <td>Zuckerman, Paul S.</td>\n",
       "      <td>0013000000CbadyAAB</td>\n",
       "      <td>81119.000</td>\n",
       "      <td>12</td>\n",
       "      <td>1370</td>\n",
       "      <td>0</td>\n",
       "      <td>0</td>\n",
       "      <td>Inactive</td>\n",
       "      <td>CA</td>\n",
       "      <td>California</td>\n",
       "    </tr>\n",
       "    <tr>\n",
       "      <th>7935</th>\n",
       "      <td>Zuganelis, George M.</td>\n",
       "      <td>0013000000Cbb8cAAB</td>\n",
       "      <td>1000.000</td>\n",
       "      <td>1</td>\n",
       "      <td>4384</td>\n",
       "      <td>4</td>\n",
       "      <td>0</td>\n",
       "      <td>Inactive</td>\n",
       "      <td>IL</td>\n",
       "      <td>Illinois</td>\n",
       "    </tr>\n",
       "    <tr>\n",
       "      <th>7936</th>\n",
       "      <td>Zuspan, Philip</td>\n",
       "      <td>0013000000CbeEQAAZ</td>\n",
       "      <td>14278.000</td>\n",
       "      <td>27</td>\n",
       "      <td>3868</td>\n",
       "      <td>4</td>\n",
       "      <td>0</td>\n",
       "      <td>Inactive</td>\n",
       "      <td>MO</td>\n",
       "      <td>Missouri</td>\n",
       "    </tr>\n",
       "    <tr>\n",
       "      <th>7937</th>\n",
       "      <td>Zyne, Beatriz</td>\n",
       "      <td>0016000000INuQuAAL</td>\n",
       "      <td>60819.904</td>\n",
       "      <td>108</td>\n",
       "      <td>1</td>\n",
       "      <td>0</td>\n",
       "      <td>0</td>\n",
       "      <td>Active</td>\n",
       "      <td>FL</td>\n",
       "      <td>Florida</td>\n",
       "    </tr>\n",
       "  </tbody>\n",
       "</table>\n",
       "<p>7938 rows × 10 columns</p>\n",
       "</div>"
      ],
      "text/plain": [
       "                      Name Salesforce Account Id     Amount  Frequency  \\\n",
       "0           Aaroe, Paul M.    0013000000CcDuEAAV   8760.000         24   \n",
       "1         Aaronson, Austin    0013000000CbIYyAAN   5425.000          5   \n",
       "2         Abasi, Evelyn J.    0016000000cLphAAAS   9997.400         21   \n",
       "3      Abbitt, Julia Chico    0013200001HEQegAAH   2975.000          7   \n",
       "4           Abdala, Dianna    0013200001BYZ1bAAH  20250.000         15   \n",
       "...                    ...                   ...        ...        ...   \n",
       "7933   Zuckerbrod, Todd A.    0016000000o6Us5AAE   8252.000         12   \n",
       "7934    Zuckerman, Paul S.    0013000000CbadyAAB  81119.000         12   \n",
       "7935  Zuganelis, George M.    0013000000Cbb8cAAB   1000.000          1   \n",
       "7936        Zuspan, Philip    0013000000CbeEQAAZ  14278.000         27   \n",
       "7937         Zyne, Beatriz    0016000000INuQuAAL  60819.904        108   \n",
       "\n",
       "      Recency  Cluster_Id  Cluster_Labels    Status Billing State/Province  \\\n",
       "0        3746           4               0  Inactive                     PA   \n",
       "1         732           1               0  Inactive                     FL   \n",
       "2        2162           4               0  Inactive                     CA   \n",
       "3        1523           1               0  Inactive                     WV   \n",
       "4        1827           1               0  Inactive                     MA   \n",
       "...       ...         ...             ...       ...                    ...   \n",
       "7933     1370           1               0  Inactive                     FL   \n",
       "7934     1370           0               0  Inactive                     CA   \n",
       "7935     4384           4               0  Inactive                     IL   \n",
       "7936     3868           4               0  Inactive                     MO   \n",
       "7937        1           0               0    Active                     FL   \n",
       "\n",
       "              State  \n",
       "0      Pennsylvania  \n",
       "1           Florida  \n",
       "2        California  \n",
       "3     West Virginia  \n",
       "4     Massachusetts  \n",
       "...             ...  \n",
       "7933        Florida  \n",
       "7934     California  \n",
       "7935       Illinois  \n",
       "7936       Missouri  \n",
       "7937        Florida  \n",
       "\n",
       "[7938 rows x 10 columns]"
      ]
     },
     "execution_count": 77,
     "metadata": {},
     "output_type": "execute_result"
    }
   ],
   "source": [
    "rfm_filtered"
   ]
  },
  {
   "cell_type": "code",
   "execution_count": 78,
   "id": "de64dea5",
   "metadata": {},
   "outputs": [],
   "source": [
    "rfm_filtered.to_csv('rfm analysis_final_with_details.csv', index = False)"
   ]
  },
  {
   "cell_type": "code",
   "execution_count": 79,
   "id": "d5e24a3b",
   "metadata": {},
   "outputs": [
    {
     "name": "stdout",
     "output_type": "stream",
     "text": [
      "The End.\n"
     ]
    }
   ],
   "source": [
    "print('The End.')"
   ]
  },
  {
   "cell_type": "markdown",
   "id": "ba1c1b38",
   "metadata": {},
   "source": [
    "### For Churn Analysis (Ad Hoc)"
   ]
  },
  {
   "cell_type": "code",
   "execution_count": 80,
   "id": "08e7b32d",
   "metadata": {},
   "outputs": [],
   "source": [
    "for_merge = deals_database[['Salesforce Deal Id', 'Area of Practice']].drop_duplicates(subset=['Salesforce Deal Id'], keep='first')"
   ]
  },
  {
   "cell_type": "code",
   "execution_count": 81,
   "id": "4a722ecc",
   "metadata": {},
   "outputs": [
    {
     "data": {
      "text/html": [
       "<div>\n",
       "<style scoped>\n",
       "    .dataframe tbody tr th:only-of-type {\n",
       "        vertical-align: middle;\n",
       "    }\n",
       "\n",
       "    .dataframe tbody tr th {\n",
       "        vertical-align: top;\n",
       "    }\n",
       "\n",
       "    .dataframe thead th {\n",
       "        text-align: right;\n",
       "    }\n",
       "</style>\n",
       "<table border=\"1\" class=\"dataframe\">\n",
       "  <thead>\n",
       "    <tr style=\"text-align: right;\">\n",
       "      <th></th>\n",
       "      <th>Salesforce Deal Id</th>\n",
       "      <th>Area of Practice</th>\n",
       "    </tr>\n",
       "  </thead>\n",
       "  <tbody>\n",
       "    <tr>\n",
       "      <th>0</th>\n",
       "      <td>a016000000Jp7qeAAB</td>\n",
       "      <td>Criminal Law;;;;</td>\n",
       "    </tr>\n",
       "    <tr>\n",
       "      <th>1</th>\n",
       "      <td>a010e00000r8uPlAAI</td>\n",
       "      <td>Business - Transactional;;;;</td>\n",
       "    </tr>\n",
       "    <tr>\n",
       "      <th>2</th>\n",
       "      <td>a016000000aooYxAAI</td>\n",
       "      <td>Family Law;;;;</td>\n",
       "    </tr>\n",
       "    <tr>\n",
       "      <th>3</th>\n",
       "      <td>a013200000pZpYTAA0</td>\n",
       "      <td>Employment and Labor Law;;;;</td>\n",
       "    </tr>\n",
       "    <tr>\n",
       "      <th>4</th>\n",
       "      <td>a013200000meskHAAQ</td>\n",
       "      <td>Criminal Law;;;;</td>\n",
       "    </tr>\n",
       "    <tr>\n",
       "      <th>...</th>\n",
       "      <td>...</td>\n",
       "      <td>...</td>\n",
       "    </tr>\n",
       "    <tr>\n",
       "      <th>14307</th>\n",
       "      <td>a016000000aobjHAAQ</td>\n",
       "      <td>Family Law;;;;</td>\n",
       "    </tr>\n",
       "    <tr>\n",
       "      <th>14308</th>\n",
       "      <td>a016000000meJrNAAU</td>\n",
       "      <td>Family Law;;;;</td>\n",
       "    </tr>\n",
       "    <tr>\n",
       "      <th>14309</th>\n",
       "      <td>a013200000mpUctAAE</td>\n",
       "      <td>Family Law;;;;</td>\n",
       "    </tr>\n",
       "    <tr>\n",
       "      <th>14310</th>\n",
       "      <td>a010e00000qpvjcAAA</td>\n",
       "      <td>Family Law;;;;</td>\n",
       "    </tr>\n",
       "    <tr>\n",
       "      <th>14311</th>\n",
       "      <td>a014y00000ZJ5RMAA1</td>\n",
       "      <td>Family Law;;;;</td>\n",
       "    </tr>\n",
       "  </tbody>\n",
       "</table>\n",
       "<p>14305 rows × 2 columns</p>\n",
       "</div>"
      ],
      "text/plain": [
       "       Salesforce Deal Id              Area of Practice\n",
       "0      a016000000Jp7qeAAB              Criminal Law;;;;\n",
       "1      a010e00000r8uPlAAI  Business - Transactional;;;;\n",
       "2      a016000000aooYxAAI                Family Law;;;;\n",
       "3      a013200000pZpYTAA0  Employment and Labor Law;;;;\n",
       "4      a013200000meskHAAQ              Criminal Law;;;;\n",
       "...                   ...                           ...\n",
       "14307  a016000000aobjHAAQ                Family Law;;;;\n",
       "14308  a016000000meJrNAAU                Family Law;;;;\n",
       "14309  a013200000mpUctAAE                Family Law;;;;\n",
       "14310  a010e00000qpvjcAAA                Family Law;;;;\n",
       "14311  a014y00000ZJ5RMAA1                Family Law;;;;\n",
       "\n",
       "[14305 rows x 2 columns]"
      ]
     },
     "execution_count": 81,
     "metadata": {},
     "output_type": "execute_result"
    }
   ],
   "source": [
    "for_merge"
   ]
  },
  {
   "cell_type": "code",
   "execution_count": 82,
   "id": "ecdb47c4",
   "metadata": {},
   "outputs": [
    {
     "data": {
      "text/html": [
       "<div>\n",
       "<style scoped>\n",
       "    .dataframe tbody tr th:only-of-type {\n",
       "        vertical-align: middle;\n",
       "    }\n",
       "\n",
       "    .dataframe tbody tr th {\n",
       "        vertical-align: top;\n",
       "    }\n",
       "\n",
       "    .dataframe thead th {\n",
       "        text-align: right;\n",
       "    }\n",
       "</style>\n",
       "<table border=\"1\" class=\"dataframe\">\n",
       "  <thead>\n",
       "    <tr style=\"text-align: right;\">\n",
       "      <th></th>\n",
       "      <th>Salesforce Deal Id</th>\n",
       "      <th>Area of Practice</th>\n",
       "    </tr>\n",
       "  </thead>\n",
       "  <tbody>\n",
       "    <tr>\n",
       "      <th>0</th>\n",
       "      <td>a016000000Jp7qeAAB</td>\n",
       "      <td>Criminal Law;;;;</td>\n",
       "    </tr>\n",
       "    <tr>\n",
       "      <th>1</th>\n",
       "      <td>a010e00000r8uPlAAI</td>\n",
       "      <td>Business - Transactional;;;;</td>\n",
       "    </tr>\n",
       "    <tr>\n",
       "      <th>2</th>\n",
       "      <td>a016000000aooYxAAI</td>\n",
       "      <td>Family Law;;;;</td>\n",
       "    </tr>\n",
       "    <tr>\n",
       "      <th>3</th>\n",
       "      <td>a013200000pZpYTAA0</td>\n",
       "      <td>Employment and Labor Law;;;;</td>\n",
       "    </tr>\n",
       "    <tr>\n",
       "      <th>4</th>\n",
       "      <td>a013200000meskHAAQ</td>\n",
       "      <td>Criminal Law;;;;</td>\n",
       "    </tr>\n",
       "    <tr>\n",
       "      <th>...</th>\n",
       "      <td>...</td>\n",
       "      <td>...</td>\n",
       "    </tr>\n",
       "    <tr>\n",
       "      <th>14307</th>\n",
       "      <td>a016000000aobjHAAQ</td>\n",
       "      <td>Family Law;;;;</td>\n",
       "    </tr>\n",
       "    <tr>\n",
       "      <th>14308</th>\n",
       "      <td>a016000000meJrNAAU</td>\n",
       "      <td>Family Law;;;;</td>\n",
       "    </tr>\n",
       "    <tr>\n",
       "      <th>14309</th>\n",
       "      <td>a013200000mpUctAAE</td>\n",
       "      <td>Family Law;;;;</td>\n",
       "    </tr>\n",
       "    <tr>\n",
       "      <th>14310</th>\n",
       "      <td>a010e00000qpvjcAAA</td>\n",
       "      <td>Family Law;;;;</td>\n",
       "    </tr>\n",
       "    <tr>\n",
       "      <th>14311</th>\n",
       "      <td>a014y00000ZJ5RMAA1</td>\n",
       "      <td>Family Law;;;;</td>\n",
       "    </tr>\n",
       "  </tbody>\n",
       "</table>\n",
       "<p>14305 rows × 2 columns</p>\n",
       "</div>"
      ],
      "text/plain": [
       "       Salesforce Deal Id              Area of Practice\n",
       "0      a016000000Jp7qeAAB              Criminal Law;;;;\n",
       "1      a010e00000r8uPlAAI  Business - Transactional;;;;\n",
       "2      a016000000aooYxAAI                Family Law;;;;\n",
       "3      a013200000pZpYTAA0  Employment and Labor Law;;;;\n",
       "4      a013200000meskHAAQ              Criminal Law;;;;\n",
       "...                   ...                           ...\n",
       "14307  a016000000aobjHAAQ                Family Law;;;;\n",
       "14308  a016000000meJrNAAU                Family Law;;;;\n",
       "14309  a013200000mpUctAAE                Family Law;;;;\n",
       "14310  a010e00000qpvjcAAA                Family Law;;;;\n",
       "14311  a014y00000ZJ5RMAA1                Family Law;;;;\n",
       "\n",
       "[14305 rows x 2 columns]"
      ]
     },
     "execution_count": 82,
     "metadata": {},
     "output_type": "execute_result"
    }
   ],
   "source": [
    "for_merge.fillna(\"No Data\", inplace = True)\n",
    "for_merge"
   ]
  },
  {
   "cell_type": "code",
   "execution_count": 83,
   "id": "203059de",
   "metadata": {},
   "outputs": [
    {
     "data": {
      "text/html": [
       "<div>\n",
       "<style scoped>\n",
       "    .dataframe tbody tr th:only-of-type {\n",
       "        vertical-align: middle;\n",
       "    }\n",
       "\n",
       "    .dataframe tbody tr th {\n",
       "        vertical-align: top;\n",
       "    }\n",
       "\n",
       "    .dataframe thead th {\n",
       "        text-align: right;\n",
       "    }\n",
       "</style>\n",
       "<table border=\"1\" class=\"dataframe\">\n",
       "  <thead>\n",
       "    <tr style=\"text-align: right;\">\n",
       "      <th></th>\n",
       "      <th>0</th>\n",
       "      <th>1</th>\n",
       "      <th>2</th>\n",
       "      <th>3</th>\n",
       "      <th>4</th>\n",
       "      <th>5</th>\n",
       "      <th>6</th>\n",
       "      <th>7</th>\n",
       "      <th>8</th>\n",
       "      <th>9</th>\n",
       "      <th>10</th>\n",
       "      <th>11</th>\n",
       "      <th>12</th>\n",
       "      <th>13</th>\n",
       "      <th>14</th>\n",
       "      <th>15</th>\n",
       "      <th>16</th>\n",
       "      <th>17</th>\n",
       "      <th>18</th>\n",
       "      <th>19</th>\n",
       "    </tr>\n",
       "  </thead>\n",
       "  <tbody>\n",
       "    <tr>\n",
       "      <th>0</th>\n",
       "      <td>Criminal Law</td>\n",
       "      <td></td>\n",
       "      <td></td>\n",
       "      <td></td>\n",
       "      <td></td>\n",
       "      <td>None</td>\n",
       "      <td>None</td>\n",
       "      <td>None</td>\n",
       "      <td>None</td>\n",
       "      <td>None</td>\n",
       "      <td>None</td>\n",
       "      <td>None</td>\n",
       "      <td>None</td>\n",
       "      <td>None</td>\n",
       "      <td>None</td>\n",
       "      <td>None</td>\n",
       "      <td>None</td>\n",
       "      <td>None</td>\n",
       "      <td>None</td>\n",
       "      <td>None</td>\n",
       "    </tr>\n",
       "    <tr>\n",
       "      <th>1</th>\n",
       "      <td>Business - Transactional</td>\n",
       "      <td></td>\n",
       "      <td></td>\n",
       "      <td></td>\n",
       "      <td></td>\n",
       "      <td>None</td>\n",
       "      <td>None</td>\n",
       "      <td>None</td>\n",
       "      <td>None</td>\n",
       "      <td>None</td>\n",
       "      <td>None</td>\n",
       "      <td>None</td>\n",
       "      <td>None</td>\n",
       "      <td>None</td>\n",
       "      <td>None</td>\n",
       "      <td>None</td>\n",
       "      <td>None</td>\n",
       "      <td>None</td>\n",
       "      <td>None</td>\n",
       "      <td>None</td>\n",
       "    </tr>\n",
       "    <tr>\n",
       "      <th>2</th>\n",
       "      <td>Family Law</td>\n",
       "      <td></td>\n",
       "      <td></td>\n",
       "      <td></td>\n",
       "      <td></td>\n",
       "      <td>None</td>\n",
       "      <td>None</td>\n",
       "      <td>None</td>\n",
       "      <td>None</td>\n",
       "      <td>None</td>\n",
       "      <td>None</td>\n",
       "      <td>None</td>\n",
       "      <td>None</td>\n",
       "      <td>None</td>\n",
       "      <td>None</td>\n",
       "      <td>None</td>\n",
       "      <td>None</td>\n",
       "      <td>None</td>\n",
       "      <td>None</td>\n",
       "      <td>None</td>\n",
       "    </tr>\n",
       "    <tr>\n",
       "      <th>3</th>\n",
       "      <td>Employment and Labor Law</td>\n",
       "      <td></td>\n",
       "      <td></td>\n",
       "      <td></td>\n",
       "      <td></td>\n",
       "      <td>None</td>\n",
       "      <td>None</td>\n",
       "      <td>None</td>\n",
       "      <td>None</td>\n",
       "      <td>None</td>\n",
       "      <td>None</td>\n",
       "      <td>None</td>\n",
       "      <td>None</td>\n",
       "      <td>None</td>\n",
       "      <td>None</td>\n",
       "      <td>None</td>\n",
       "      <td>None</td>\n",
       "      <td>None</td>\n",
       "      <td>None</td>\n",
       "      <td>None</td>\n",
       "    </tr>\n",
       "    <tr>\n",
       "      <th>4</th>\n",
       "      <td>Criminal Law</td>\n",
       "      <td></td>\n",
       "      <td></td>\n",
       "      <td></td>\n",
       "      <td></td>\n",
       "      <td>None</td>\n",
       "      <td>None</td>\n",
       "      <td>None</td>\n",
       "      <td>None</td>\n",
       "      <td>None</td>\n",
       "      <td>None</td>\n",
       "      <td>None</td>\n",
       "      <td>None</td>\n",
       "      <td>None</td>\n",
       "      <td>None</td>\n",
       "      <td>None</td>\n",
       "      <td>None</td>\n",
       "      <td>None</td>\n",
       "      <td>None</td>\n",
       "      <td>None</td>\n",
       "    </tr>\n",
       "    <tr>\n",
       "      <th>...</th>\n",
       "      <td>...</td>\n",
       "      <td>...</td>\n",
       "      <td>...</td>\n",
       "      <td>...</td>\n",
       "      <td>...</td>\n",
       "      <td>...</td>\n",
       "      <td>...</td>\n",
       "      <td>...</td>\n",
       "      <td>...</td>\n",
       "      <td>...</td>\n",
       "      <td>...</td>\n",
       "      <td>...</td>\n",
       "      <td>...</td>\n",
       "      <td>...</td>\n",
       "      <td>...</td>\n",
       "      <td>...</td>\n",
       "      <td>...</td>\n",
       "      <td>...</td>\n",
       "      <td>...</td>\n",
       "      <td>...</td>\n",
       "    </tr>\n",
       "    <tr>\n",
       "      <th>14307</th>\n",
       "      <td>Family Law</td>\n",
       "      <td></td>\n",
       "      <td></td>\n",
       "      <td></td>\n",
       "      <td></td>\n",
       "      <td>None</td>\n",
       "      <td>None</td>\n",
       "      <td>None</td>\n",
       "      <td>None</td>\n",
       "      <td>None</td>\n",
       "      <td>None</td>\n",
       "      <td>None</td>\n",
       "      <td>None</td>\n",
       "      <td>None</td>\n",
       "      <td>None</td>\n",
       "      <td>None</td>\n",
       "      <td>None</td>\n",
       "      <td>None</td>\n",
       "      <td>None</td>\n",
       "      <td>None</td>\n",
       "    </tr>\n",
       "    <tr>\n",
       "      <th>14308</th>\n",
       "      <td>Family Law</td>\n",
       "      <td></td>\n",
       "      <td></td>\n",
       "      <td></td>\n",
       "      <td></td>\n",
       "      <td>None</td>\n",
       "      <td>None</td>\n",
       "      <td>None</td>\n",
       "      <td>None</td>\n",
       "      <td>None</td>\n",
       "      <td>None</td>\n",
       "      <td>None</td>\n",
       "      <td>None</td>\n",
       "      <td>None</td>\n",
       "      <td>None</td>\n",
       "      <td>None</td>\n",
       "      <td>None</td>\n",
       "      <td>None</td>\n",
       "      <td>None</td>\n",
       "      <td>None</td>\n",
       "    </tr>\n",
       "    <tr>\n",
       "      <th>14309</th>\n",
       "      <td>Family Law</td>\n",
       "      <td></td>\n",
       "      <td></td>\n",
       "      <td></td>\n",
       "      <td></td>\n",
       "      <td>None</td>\n",
       "      <td>None</td>\n",
       "      <td>None</td>\n",
       "      <td>None</td>\n",
       "      <td>None</td>\n",
       "      <td>None</td>\n",
       "      <td>None</td>\n",
       "      <td>None</td>\n",
       "      <td>None</td>\n",
       "      <td>None</td>\n",
       "      <td>None</td>\n",
       "      <td>None</td>\n",
       "      <td>None</td>\n",
       "      <td>None</td>\n",
       "      <td>None</td>\n",
       "    </tr>\n",
       "    <tr>\n",
       "      <th>14310</th>\n",
       "      <td>Family Law</td>\n",
       "      <td></td>\n",
       "      <td></td>\n",
       "      <td></td>\n",
       "      <td></td>\n",
       "      <td>None</td>\n",
       "      <td>None</td>\n",
       "      <td>None</td>\n",
       "      <td>None</td>\n",
       "      <td>None</td>\n",
       "      <td>None</td>\n",
       "      <td>None</td>\n",
       "      <td>None</td>\n",
       "      <td>None</td>\n",
       "      <td>None</td>\n",
       "      <td>None</td>\n",
       "      <td>None</td>\n",
       "      <td>None</td>\n",
       "      <td>None</td>\n",
       "      <td>None</td>\n",
       "    </tr>\n",
       "    <tr>\n",
       "      <th>14311</th>\n",
       "      <td>Family Law</td>\n",
       "      <td></td>\n",
       "      <td></td>\n",
       "      <td></td>\n",
       "      <td></td>\n",
       "      <td>None</td>\n",
       "      <td>None</td>\n",
       "      <td>None</td>\n",
       "      <td>None</td>\n",
       "      <td>None</td>\n",
       "      <td>None</td>\n",
       "      <td>None</td>\n",
       "      <td>None</td>\n",
       "      <td>None</td>\n",
       "      <td>None</td>\n",
       "      <td>None</td>\n",
       "      <td>None</td>\n",
       "      <td>None</td>\n",
       "      <td>None</td>\n",
       "      <td>None</td>\n",
       "    </tr>\n",
       "  </tbody>\n",
       "</table>\n",
       "<p>14305 rows × 20 columns</p>\n",
       "</div>"
      ],
      "text/plain": [
       "                             0  1  2  3  4     5     6     7     8     9   \\\n",
       "0                  Criminal Law              None  None  None  None  None   \n",
       "1      Business - Transactional              None  None  None  None  None   \n",
       "2                    Family Law              None  None  None  None  None   \n",
       "3      Employment and Labor Law              None  None  None  None  None   \n",
       "4                  Criminal Law              None  None  None  None  None   \n",
       "...                         ... .. .. .. ..   ...   ...   ...   ...   ...   \n",
       "14307                Family Law              None  None  None  None  None   \n",
       "14308                Family Law              None  None  None  None  None   \n",
       "14309                Family Law              None  None  None  None  None   \n",
       "14310                Family Law              None  None  None  None  None   \n",
       "14311                Family Law              None  None  None  None  None   \n",
       "\n",
       "         10    11    12    13    14    15    16    17    18    19  \n",
       "0      None  None  None  None  None  None  None  None  None  None  \n",
       "1      None  None  None  None  None  None  None  None  None  None  \n",
       "2      None  None  None  None  None  None  None  None  None  None  \n",
       "3      None  None  None  None  None  None  None  None  None  None  \n",
       "4      None  None  None  None  None  None  None  None  None  None  \n",
       "...     ...   ...   ...   ...   ...   ...   ...   ...   ...   ...  \n",
       "14307  None  None  None  None  None  None  None  None  None  None  \n",
       "14308  None  None  None  None  None  None  None  None  None  None  \n",
       "14309  None  None  None  None  None  None  None  None  None  None  \n",
       "14310  None  None  None  None  None  None  None  None  None  None  \n",
       "14311  None  None  None  None  None  None  None  None  None  None  \n",
       "\n",
       "[14305 rows x 20 columns]"
      ]
     },
     "execution_count": 83,
     "metadata": {},
     "output_type": "execute_result"
    }
   ],
   "source": [
    "split = for_merge[\"Area of Practice\"].str.split(\";\", expand = True)\n",
    "split"
   ]
  },
  {
   "cell_type": "code",
   "execution_count": 84,
   "id": "5bdb0e18",
   "metadata": {},
   "outputs": [
    {
     "data": {
      "text/html": [
       "<div>\n",
       "<style scoped>\n",
       "    .dataframe tbody tr th:only-of-type {\n",
       "        vertical-align: middle;\n",
       "    }\n",
       "\n",
       "    .dataframe tbody tr th {\n",
       "        vertical-align: top;\n",
       "    }\n",
       "\n",
       "    .dataframe thead th {\n",
       "        text-align: right;\n",
       "    }\n",
       "</style>\n",
       "<table border=\"1\" class=\"dataframe\">\n",
       "  <thead>\n",
       "    <tr style=\"text-align: right;\">\n",
       "      <th></th>\n",
       "      <th>Salesforce Deal Id</th>\n",
       "      <th>0</th>\n",
       "      <th>1</th>\n",
       "      <th>2</th>\n",
       "      <th>3</th>\n",
       "      <th>4</th>\n",
       "      <th>5</th>\n",
       "      <th>6</th>\n",
       "      <th>7</th>\n",
       "      <th>8</th>\n",
       "      <th>...</th>\n",
       "      <th>10</th>\n",
       "      <th>11</th>\n",
       "      <th>12</th>\n",
       "      <th>13</th>\n",
       "      <th>14</th>\n",
       "      <th>15</th>\n",
       "      <th>16</th>\n",
       "      <th>17</th>\n",
       "      <th>18</th>\n",
       "      <th>19</th>\n",
       "    </tr>\n",
       "  </thead>\n",
       "  <tbody>\n",
       "    <tr>\n",
       "      <th>0</th>\n",
       "      <td>a016000000Jp7qeAAB</td>\n",
       "      <td>Criminal Law</td>\n",
       "      <td>NaN</td>\n",
       "      <td>NaN</td>\n",
       "      <td>NaN</td>\n",
       "      <td>NaN</td>\n",
       "      <td>None</td>\n",
       "      <td>None</td>\n",
       "      <td>None</td>\n",
       "      <td>None</td>\n",
       "      <td>...</td>\n",
       "      <td>None</td>\n",
       "      <td>None</td>\n",
       "      <td>None</td>\n",
       "      <td>None</td>\n",
       "      <td>None</td>\n",
       "      <td>None</td>\n",
       "      <td>None</td>\n",
       "      <td>None</td>\n",
       "      <td>None</td>\n",
       "      <td>None</td>\n",
       "    </tr>\n",
       "    <tr>\n",
       "      <th>1</th>\n",
       "      <td>a010e00000r8uPlAAI</td>\n",
       "      <td>Business - Transactional</td>\n",
       "      <td>NaN</td>\n",
       "      <td>NaN</td>\n",
       "      <td>NaN</td>\n",
       "      <td>NaN</td>\n",
       "      <td>None</td>\n",
       "      <td>None</td>\n",
       "      <td>None</td>\n",
       "      <td>None</td>\n",
       "      <td>...</td>\n",
       "      <td>None</td>\n",
       "      <td>None</td>\n",
       "      <td>None</td>\n",
       "      <td>None</td>\n",
       "      <td>None</td>\n",
       "      <td>None</td>\n",
       "      <td>None</td>\n",
       "      <td>None</td>\n",
       "      <td>None</td>\n",
       "      <td>None</td>\n",
       "    </tr>\n",
       "    <tr>\n",
       "      <th>2</th>\n",
       "      <td>a016000000aooYxAAI</td>\n",
       "      <td>Family Law</td>\n",
       "      <td>NaN</td>\n",
       "      <td>NaN</td>\n",
       "      <td>NaN</td>\n",
       "      <td>NaN</td>\n",
       "      <td>None</td>\n",
       "      <td>None</td>\n",
       "      <td>None</td>\n",
       "      <td>None</td>\n",
       "      <td>...</td>\n",
       "      <td>None</td>\n",
       "      <td>None</td>\n",
       "      <td>None</td>\n",
       "      <td>None</td>\n",
       "      <td>None</td>\n",
       "      <td>None</td>\n",
       "      <td>None</td>\n",
       "      <td>None</td>\n",
       "      <td>None</td>\n",
       "      <td>None</td>\n",
       "    </tr>\n",
       "    <tr>\n",
       "      <th>3</th>\n",
       "      <td>a013200000pZpYTAA0</td>\n",
       "      <td>Employment and Labor Law</td>\n",
       "      <td>NaN</td>\n",
       "      <td>NaN</td>\n",
       "      <td>NaN</td>\n",
       "      <td>NaN</td>\n",
       "      <td>None</td>\n",
       "      <td>None</td>\n",
       "      <td>None</td>\n",
       "      <td>None</td>\n",
       "      <td>...</td>\n",
       "      <td>None</td>\n",
       "      <td>None</td>\n",
       "      <td>None</td>\n",
       "      <td>None</td>\n",
       "      <td>None</td>\n",
       "      <td>None</td>\n",
       "      <td>None</td>\n",
       "      <td>None</td>\n",
       "      <td>None</td>\n",
       "      <td>None</td>\n",
       "    </tr>\n",
       "    <tr>\n",
       "      <th>4</th>\n",
       "      <td>a013200000meskHAAQ</td>\n",
       "      <td>Criminal Law</td>\n",
       "      <td>NaN</td>\n",
       "      <td>NaN</td>\n",
       "      <td>NaN</td>\n",
       "      <td>NaN</td>\n",
       "      <td>None</td>\n",
       "      <td>None</td>\n",
       "      <td>None</td>\n",
       "      <td>None</td>\n",
       "      <td>...</td>\n",
       "      <td>None</td>\n",
       "      <td>None</td>\n",
       "      <td>None</td>\n",
       "      <td>None</td>\n",
       "      <td>None</td>\n",
       "      <td>None</td>\n",
       "      <td>None</td>\n",
       "      <td>None</td>\n",
       "      <td>None</td>\n",
       "      <td>None</td>\n",
       "    </tr>\n",
       "    <tr>\n",
       "      <th>...</th>\n",
       "      <td>...</td>\n",
       "      <td>...</td>\n",
       "      <td>...</td>\n",
       "      <td>...</td>\n",
       "      <td>...</td>\n",
       "      <td>...</td>\n",
       "      <td>...</td>\n",
       "      <td>...</td>\n",
       "      <td>...</td>\n",
       "      <td>...</td>\n",
       "      <td>...</td>\n",
       "      <td>...</td>\n",
       "      <td>...</td>\n",
       "      <td>...</td>\n",
       "      <td>...</td>\n",
       "      <td>...</td>\n",
       "      <td>...</td>\n",
       "      <td>...</td>\n",
       "      <td>...</td>\n",
       "      <td>...</td>\n",
       "      <td>...</td>\n",
       "    </tr>\n",
       "    <tr>\n",
       "      <th>14307</th>\n",
       "      <td>a016000000aobjHAAQ</td>\n",
       "      <td>Family Law</td>\n",
       "      <td>NaN</td>\n",
       "      <td>NaN</td>\n",
       "      <td>NaN</td>\n",
       "      <td>NaN</td>\n",
       "      <td>None</td>\n",
       "      <td>None</td>\n",
       "      <td>None</td>\n",
       "      <td>None</td>\n",
       "      <td>...</td>\n",
       "      <td>None</td>\n",
       "      <td>None</td>\n",
       "      <td>None</td>\n",
       "      <td>None</td>\n",
       "      <td>None</td>\n",
       "      <td>None</td>\n",
       "      <td>None</td>\n",
       "      <td>None</td>\n",
       "      <td>None</td>\n",
       "      <td>None</td>\n",
       "    </tr>\n",
       "    <tr>\n",
       "      <th>14308</th>\n",
       "      <td>a016000000meJrNAAU</td>\n",
       "      <td>Family Law</td>\n",
       "      <td>NaN</td>\n",
       "      <td>NaN</td>\n",
       "      <td>NaN</td>\n",
       "      <td>NaN</td>\n",
       "      <td>None</td>\n",
       "      <td>None</td>\n",
       "      <td>None</td>\n",
       "      <td>None</td>\n",
       "      <td>...</td>\n",
       "      <td>None</td>\n",
       "      <td>None</td>\n",
       "      <td>None</td>\n",
       "      <td>None</td>\n",
       "      <td>None</td>\n",
       "      <td>None</td>\n",
       "      <td>None</td>\n",
       "      <td>None</td>\n",
       "      <td>None</td>\n",
       "      <td>None</td>\n",
       "    </tr>\n",
       "    <tr>\n",
       "      <th>14309</th>\n",
       "      <td>a013200000mpUctAAE</td>\n",
       "      <td>Family Law</td>\n",
       "      <td>NaN</td>\n",
       "      <td>NaN</td>\n",
       "      <td>NaN</td>\n",
       "      <td>NaN</td>\n",
       "      <td>None</td>\n",
       "      <td>None</td>\n",
       "      <td>None</td>\n",
       "      <td>None</td>\n",
       "      <td>...</td>\n",
       "      <td>None</td>\n",
       "      <td>None</td>\n",
       "      <td>None</td>\n",
       "      <td>None</td>\n",
       "      <td>None</td>\n",
       "      <td>None</td>\n",
       "      <td>None</td>\n",
       "      <td>None</td>\n",
       "      <td>None</td>\n",
       "      <td>None</td>\n",
       "    </tr>\n",
       "    <tr>\n",
       "      <th>14310</th>\n",
       "      <td>a010e00000qpvjcAAA</td>\n",
       "      <td>Family Law</td>\n",
       "      <td>NaN</td>\n",
       "      <td>NaN</td>\n",
       "      <td>NaN</td>\n",
       "      <td>NaN</td>\n",
       "      <td>None</td>\n",
       "      <td>None</td>\n",
       "      <td>None</td>\n",
       "      <td>None</td>\n",
       "      <td>...</td>\n",
       "      <td>None</td>\n",
       "      <td>None</td>\n",
       "      <td>None</td>\n",
       "      <td>None</td>\n",
       "      <td>None</td>\n",
       "      <td>None</td>\n",
       "      <td>None</td>\n",
       "      <td>None</td>\n",
       "      <td>None</td>\n",
       "      <td>None</td>\n",
       "    </tr>\n",
       "    <tr>\n",
       "      <th>14311</th>\n",
       "      <td>a014y00000ZJ5RMAA1</td>\n",
       "      <td>Family Law</td>\n",
       "      <td>NaN</td>\n",
       "      <td>NaN</td>\n",
       "      <td>NaN</td>\n",
       "      <td>NaN</td>\n",
       "      <td>None</td>\n",
       "      <td>None</td>\n",
       "      <td>None</td>\n",
       "      <td>None</td>\n",
       "      <td>...</td>\n",
       "      <td>None</td>\n",
       "      <td>None</td>\n",
       "      <td>None</td>\n",
       "      <td>None</td>\n",
       "      <td>None</td>\n",
       "      <td>None</td>\n",
       "      <td>None</td>\n",
       "      <td>None</td>\n",
       "      <td>None</td>\n",
       "      <td>None</td>\n",
       "    </tr>\n",
       "  </tbody>\n",
       "</table>\n",
       "<p>14305 rows × 21 columns</p>\n",
       "</div>"
      ],
      "text/plain": [
       "       Salesforce Deal Id                         0    1    2    3    4     5  \\\n",
       "0      a016000000Jp7qeAAB              Criminal Law  NaN  NaN  NaN  NaN  None   \n",
       "1      a010e00000r8uPlAAI  Business - Transactional  NaN  NaN  NaN  NaN  None   \n",
       "2      a016000000aooYxAAI                Family Law  NaN  NaN  NaN  NaN  None   \n",
       "3      a013200000pZpYTAA0  Employment and Labor Law  NaN  NaN  NaN  NaN  None   \n",
       "4      a013200000meskHAAQ              Criminal Law  NaN  NaN  NaN  NaN  None   \n",
       "...                   ...                       ...  ...  ...  ...  ...   ...   \n",
       "14307  a016000000aobjHAAQ                Family Law  NaN  NaN  NaN  NaN  None   \n",
       "14308  a016000000meJrNAAU                Family Law  NaN  NaN  NaN  NaN  None   \n",
       "14309  a013200000mpUctAAE                Family Law  NaN  NaN  NaN  NaN  None   \n",
       "14310  a010e00000qpvjcAAA                Family Law  NaN  NaN  NaN  NaN  None   \n",
       "14311  a014y00000ZJ5RMAA1                Family Law  NaN  NaN  NaN  NaN  None   \n",
       "\n",
       "          6     7     8  ...    10    11    12    13    14    15    16    17  \\\n",
       "0      None  None  None  ...  None  None  None  None  None  None  None  None   \n",
       "1      None  None  None  ...  None  None  None  None  None  None  None  None   \n",
       "2      None  None  None  ...  None  None  None  None  None  None  None  None   \n",
       "3      None  None  None  ...  None  None  None  None  None  None  None  None   \n",
       "4      None  None  None  ...  None  None  None  None  None  None  None  None   \n",
       "...     ...   ...   ...  ...   ...   ...   ...   ...   ...   ...   ...   ...   \n",
       "14307  None  None  None  ...  None  None  None  None  None  None  None  None   \n",
       "14308  None  None  None  ...  None  None  None  None  None  None  None  None   \n",
       "14309  None  None  None  ...  None  None  None  None  None  None  None  None   \n",
       "14310  None  None  None  ...  None  None  None  None  None  None  None  None   \n",
       "14311  None  None  None  ...  None  None  None  None  None  None  None  None   \n",
       "\n",
       "         18    19  \n",
       "0      None  None  \n",
       "1      None  None  \n",
       "2      None  None  \n",
       "3      None  None  \n",
       "4      None  None  \n",
       "...     ...   ...  \n",
       "14307  None  None  \n",
       "14308  None  None  \n",
       "14309  None  None  \n",
       "14310  None  None  \n",
       "14311  None  None  \n",
       "\n",
       "[14305 rows x 21 columns]"
      ]
     },
     "execution_count": 84,
     "metadata": {},
     "output_type": "execute_result"
    }
   ],
   "source": [
    "aop = pd.concat([for_merge, split], axis=1)\n",
    "aop.drop(['Area of Practice'], axis = 1, inplace = True)\n",
    "aop.replace('', np.nan, inplace = True) # To convert those with spaces as null values\n",
    "aop.replace(' ', np.nan, inplace = True) # To convert those with spaces as null values\n",
    "aop"
   ]
  },
  {
   "cell_type": "markdown",
   "id": "9b726a0b",
   "metadata": {},
   "source": [
    "To get the ratio per occurence of area of practice of which to distribute the payments:"
   ]
  },
  {
   "cell_type": "code",
   "execution_count": 85,
   "id": "bea8cf7e",
   "metadata": {},
   "outputs": [],
   "source": [
    "melted_aop = (aop.melt(['Salesforce Deal Id'],value_name='Area of Practice')\n",
    "    .groupby(\"Salesforce Deal Id\")['Area of Practice'].value_counts(normalize=True)\n",
    "    .reset_index(name='Ratio'))"
   ]
  },
  {
   "cell_type": "markdown",
   "id": "664de883",
   "metadata": {},
   "source": [
    "To merge the payment dataframe with the aop (area of practice) dataframe:"
   ]
  },
  {
   "cell_type": "code",
   "execution_count": 86,
   "id": "69884196",
   "metadata": {},
   "outputs": [
    {
     "data": {
      "text/html": [
       "<div>\n",
       "<style scoped>\n",
       "    .dataframe tbody tr th:only-of-type {\n",
       "        vertical-align: middle;\n",
       "    }\n",
       "\n",
       "    .dataframe tbody tr th {\n",
       "        vertical-align: top;\n",
       "    }\n",
       "\n",
       "    .dataframe thead th {\n",
       "        text-align: right;\n",
       "    }\n",
       "</style>\n",
       "<table border=\"1\" class=\"dataframe\">\n",
       "  <thead>\n",
       "    <tr style=\"text-align: right;\">\n",
       "      <th></th>\n",
       "      <th>Salesforce Deal Id</th>\n",
       "      <th>Area of Practice</th>\n",
       "      <th>Ratio</th>\n",
       "    </tr>\n",
       "  </thead>\n",
       "  <tbody>\n",
       "    <tr>\n",
       "      <th>0</th>\n",
       "      <td>0010e00001J1p0ynsf</td>\n",
       "      <td>Real Estate, Housing &amp; Property Law</td>\n",
       "      <td>1.0</td>\n",
       "    </tr>\n",
       "    <tr>\n",
       "      <th>1</th>\n",
       "      <td>0013000000CbDf3nsf</td>\n",
       "      <td>General Practice</td>\n",
       "      <td>1.0</td>\n",
       "    </tr>\n",
       "    <tr>\n",
       "      <th>2</th>\n",
       "      <td>0013000000CbOTEnsf</td>\n",
       "      <td>Family Law</td>\n",
       "      <td>1.0</td>\n",
       "    </tr>\n",
       "    <tr>\n",
       "      <th>3</th>\n",
       "      <td>0013000000Cbk8dnsf</td>\n",
       "      <td>Bankruptcy, Banking and Credit</td>\n",
       "      <td>1.0</td>\n",
       "    </tr>\n",
       "    <tr>\n",
       "      <th>4</th>\n",
       "      <td>0013000000Cby9Nnsf</td>\n",
       "      <td>Family Law</td>\n",
       "      <td>1.0</td>\n",
       "    </tr>\n",
       "    <tr>\n",
       "      <th>...</th>\n",
       "      <td>...</td>\n",
       "      <td>...</td>\n",
       "      <td>...</td>\n",
       "    </tr>\n",
       "    <tr>\n",
       "      <th>16651</th>\n",
       "      <td>a016000000me2XHAAY</td>\n",
       "      <td>General Practice</td>\n",
       "      <td>1.0</td>\n",
       "    </tr>\n",
       "    <tr>\n",
       "      <th>16652</th>\n",
       "      <td>a016000000me2egAAA</td>\n",
       "      <td>Family Law</td>\n",
       "      <td>1.0</td>\n",
       "    </tr>\n",
       "    <tr>\n",
       "      <th>16653</th>\n",
       "      <td>a016000000me2fFAAQ</td>\n",
       "      <td>Family Law</td>\n",
       "      <td>1.0</td>\n",
       "    </tr>\n",
       "    <tr>\n",
       "      <th>16654</th>\n",
       "      <td>a016000000me5wxAAA</td>\n",
       "      <td>Immigration</td>\n",
       "      <td>1.0</td>\n",
       "    </tr>\n",
       "    <tr>\n",
       "      <th>16655</th>\n",
       "      <td>a016000000meJrNAAU</td>\n",
       "      <td>Family Law</td>\n",
       "      <td>1.0</td>\n",
       "    </tr>\n",
       "  </tbody>\n",
       "</table>\n",
       "<p>16656 rows × 3 columns</p>\n",
       "</div>"
      ],
      "text/plain": [
       "       Salesforce Deal Id                      Area of Practice  Ratio\n",
       "0      0010e00001J1p0ynsf  Real Estate, Housing & Property Law     1.0\n",
       "1      0013000000CbDf3nsf                      General Practice    1.0\n",
       "2      0013000000CbOTEnsf                           Family Law     1.0\n",
       "3      0013000000Cbk8dnsf        Bankruptcy, Banking and Credit    1.0\n",
       "4      0013000000Cby9Nnsf                           Family Law     1.0\n",
       "...                   ...                                   ...    ...\n",
       "16651  a016000000me2XHAAY                      General Practice    1.0\n",
       "16652  a016000000me2egAAA                            Family Law    1.0\n",
       "16653  a016000000me2fFAAQ                            Family Law    1.0\n",
       "16654  a016000000me5wxAAA                           Immigration    1.0\n",
       "16655  a016000000meJrNAAU                            Family Law    1.0\n",
       "\n",
       "[16656 rows x 3 columns]"
      ]
     },
     "execution_count": 86,
     "metadata": {},
     "output_type": "execute_result"
    }
   ],
   "source": [
    "melted_aop"
   ]
  },
  {
   "cell_type": "code",
   "execution_count": 87,
   "id": "bcee9b49",
   "metadata": {},
   "outputs": [
    {
     "data": {
      "text/html": [
       "<div>\n",
       "<style scoped>\n",
       "    .dataframe tbody tr th:only-of-type {\n",
       "        vertical-align: middle;\n",
       "    }\n",
       "\n",
       "    .dataframe tbody tr th {\n",
       "        vertical-align: top;\n",
       "    }\n",
       "\n",
       "    .dataframe thead th {\n",
       "        text-align: right;\n",
       "    }\n",
       "</style>\n",
       "<table border=\"1\" class=\"dataframe\">\n",
       "  <thead>\n",
       "    <tr style=\"text-align: right;\">\n",
       "      <th></th>\n",
       "      <th>Salesforce Deal Id</th>\n",
       "      <th>Area of Practice</th>\n",
       "      <th>Ratio</th>\n",
       "    </tr>\n",
       "  </thead>\n",
       "  <tbody>\n",
       "    <tr>\n",
       "      <th>0</th>\n",
       "      <td>0010e00001J1p0ynsf</td>\n",
       "      <td>Real Estate, Housing &amp; Property Law</td>\n",
       "      <td>1.0</td>\n",
       "    </tr>\n",
       "    <tr>\n",
       "      <th>1</th>\n",
       "      <td>0013000000CbDf3nsf</td>\n",
       "      <td>General Practice</td>\n",
       "      <td>1.0</td>\n",
       "    </tr>\n",
       "    <tr>\n",
       "      <th>2</th>\n",
       "      <td>0013000000CbOTEnsf</td>\n",
       "      <td>Family Law</td>\n",
       "      <td>1.0</td>\n",
       "    </tr>\n",
       "    <tr>\n",
       "      <th>3</th>\n",
       "      <td>0013000000Cbk8dnsf</td>\n",
       "      <td>Bankruptcy, Banking and Credit</td>\n",
       "      <td>1.0</td>\n",
       "    </tr>\n",
       "    <tr>\n",
       "      <th>4</th>\n",
       "      <td>0013000000Cby9Nnsf</td>\n",
       "      <td>Family Law</td>\n",
       "      <td>1.0</td>\n",
       "    </tr>\n",
       "    <tr>\n",
       "      <th>...</th>\n",
       "      <td>...</td>\n",
       "      <td>...</td>\n",
       "      <td>...</td>\n",
       "    </tr>\n",
       "    <tr>\n",
       "      <th>16651</th>\n",
       "      <td>a016000000me2XHAAY</td>\n",
       "      <td>General Practice</td>\n",
       "      <td>1.0</td>\n",
       "    </tr>\n",
       "    <tr>\n",
       "      <th>16652</th>\n",
       "      <td>a016000000me2egAAA</td>\n",
       "      <td>Family Law</td>\n",
       "      <td>1.0</td>\n",
       "    </tr>\n",
       "    <tr>\n",
       "      <th>16653</th>\n",
       "      <td>a016000000me2fFAAQ</td>\n",
       "      <td>Family Law</td>\n",
       "      <td>1.0</td>\n",
       "    </tr>\n",
       "    <tr>\n",
       "      <th>16654</th>\n",
       "      <td>a016000000me5wxAAA</td>\n",
       "      <td>Immigration</td>\n",
       "      <td>1.0</td>\n",
       "    </tr>\n",
       "    <tr>\n",
       "      <th>16655</th>\n",
       "      <td>a016000000meJrNAAU</td>\n",
       "      <td>Family Law</td>\n",
       "      <td>1.0</td>\n",
       "    </tr>\n",
       "  </tbody>\n",
       "</table>\n",
       "<p>16656 rows × 3 columns</p>\n",
       "</div>"
      ],
      "text/plain": [
       "       Salesforce Deal Id                     Area of Practice  Ratio\n",
       "0      0010e00001J1p0ynsf  Real Estate, Housing & Property Law    1.0\n",
       "1      0013000000CbDf3nsf                     General Practice    1.0\n",
       "2      0013000000CbOTEnsf                           Family Law    1.0\n",
       "3      0013000000Cbk8dnsf       Bankruptcy, Banking and Credit    1.0\n",
       "4      0013000000Cby9Nnsf                           Family Law    1.0\n",
       "...                   ...                                  ...    ...\n",
       "16651  a016000000me2XHAAY                     General Practice    1.0\n",
       "16652  a016000000me2egAAA                           Family Law    1.0\n",
       "16653  a016000000me2fFAAQ                           Family Law    1.0\n",
       "16654  a016000000me5wxAAA                          Immigration    1.0\n",
       "16655  a016000000meJrNAAU                           Family Law    1.0\n",
       "\n",
       "[16656 rows x 3 columns]"
      ]
     },
     "execution_count": 87,
     "metadata": {},
     "output_type": "execute_result"
    }
   ],
   "source": [
    "melted_aop['Area of Practice'] = melted_aop['Area of Practice'].str.strip()\n",
    "melted_aop"
   ]
  },
  {
   "cell_type": "code",
   "execution_count": 88,
   "id": "6b7c8862",
   "metadata": {},
   "outputs": [
    {
     "data": {
      "text/plain": [
       "array(['Administrative Law', 'Antitrust and Trade Regulation',\n",
       "       'Bankruptcy, Banking and Credit', 'Business - Litigation',\n",
       "       'Business - Litigation Law', 'Business - Transactional',\n",
       "       'Business - Transactional Law', 'Civil Rights & Discrimination',\n",
       "       'Class Action - Mass Tort Litigation', 'Constitutional Law',\n",
       "       'Construction', 'Consumer Law', 'Criminal Law',\n",
       "       'Employment and Labor Law', 'Entertainment, Media, & Sports Law',\n",
       "       'Environmental Law', 'Family Law', 'General Practice',\n",
       "       'General Pratice', 'Government Contracts', 'Health and Elder Care',\n",
       "       'Immigration', 'Immigration Law', 'Indian / Native American Law',\n",
       "       'Inmigracion-Spanish', 'Insurance', 'Intellectual Property',\n",
       "       'Medical Malpractice', 'No Data', 'Other (See Details)',\n",
       "       'Personal Injury', 'Product Liability and Replacement',\n",
       "       'Professional Practices', 'Real Estate Housing & Property Law',\n",
       "       'Real Estate, Housing & Property Law', 'Securities Law', 'Tax Law',\n",
       "       'Transportation / Admiralty / Maritime',\n",
       "       'Wills Trusts and Estates', 'Wills, Trusts and Estates',\n",
       "       \"Workers' Compensation\"], dtype=object)"
      ]
     },
     "execution_count": 88,
     "metadata": {},
     "output_type": "execute_result"
    }
   ],
   "source": [
    "melted_aop['Area of Practice'].sort_values().unique()"
   ]
  },
  {
   "cell_type": "code",
   "execution_count": 89,
   "id": "fea6d4a4",
   "metadata": {},
   "outputs": [],
   "source": [
    "melted_aop.loc[melted_aop['Area of Practice'] == 'Bankruptcy, Banking and Credit Law', 'Area of Practice'] = 'Bankruptcy, Banking and Credit'\n",
    "melted_aop.loc[melted_aop['Area of Practice'] == 'Business - Litigation Law', 'Area of Practice'] = 'Business - Litigation'\n",
    "melted_aop.loc[melted_aop['Area of Practice'] == 'Business - Transactional Law', 'Area of Practice'] = 'Business - Transactional'\n",
    "melted_aop.loc[melted_aop['Area of Practice'] == 'General Pratice', 'Area of Practice'] = 'General Practice'\n",
    "melted_aop.loc[melted_aop['Area of Practice'] == 'Immigration Law', 'Area of Practice'] = 'Immigration'\n",
    "melted_aop.loc[melted_aop['Area of Practice'] == 'Wills Trusts and Estates', 'Area of Practice'] = 'Wills, Trusts and Estates'\n",
    "melted_aop.loc[melted_aop['Area of Practice'] == 'Real Estate Housing & Property Law', 'Area of Practice'] = 'Real Estate, Housing & Property Law'"
   ]
  },
  {
   "cell_type": "code",
   "execution_count": 90,
   "id": "c80448fe",
   "metadata": {},
   "outputs": [
    {
     "data": {
      "text/plain": [
       "0"
      ]
     },
     "execution_count": 90,
     "metadata": {},
     "output_type": "execute_result"
    }
   ],
   "source": [
    "melted_aop['Area of Practice'].isnull().sum()"
   ]
  },
  {
   "cell_type": "code",
   "execution_count": 91,
   "id": "bee93464",
   "metadata": {},
   "outputs": [],
   "source": [
    "adhoc = deals_database[['Salesforce Account Id', 'Name','Salesforce Deal Id', 'Deal Revenue']].merge(melted_aop,on='Salesforce Deal Id')"
   ]
  },
  {
   "cell_type": "code",
   "execution_count": 92,
   "id": "0f7b6a6e",
   "metadata": {},
   "outputs": [
    {
     "data": {
      "text/html": [
       "<div>\n",
       "<style scoped>\n",
       "    .dataframe tbody tr th:only-of-type {\n",
       "        vertical-align: middle;\n",
       "    }\n",
       "\n",
       "    .dataframe tbody tr th {\n",
       "        vertical-align: top;\n",
       "    }\n",
       "\n",
       "    .dataframe thead th {\n",
       "        text-align: right;\n",
       "    }\n",
       "</style>\n",
       "<table border=\"1\" class=\"dataframe\">\n",
       "  <thead>\n",
       "    <tr style=\"text-align: right;\">\n",
       "      <th></th>\n",
       "      <th>Salesforce Account Id</th>\n",
       "      <th>Name</th>\n",
       "      <th>Salesforce Deal Id</th>\n",
       "      <th>Deal Revenue</th>\n",
       "      <th>Area of Practice</th>\n",
       "      <th>Ratio</th>\n",
       "    </tr>\n",
       "  </thead>\n",
       "  <tbody>\n",
       "    <tr>\n",
       "      <th>0</th>\n",
       "      <td>0013000000CcDuEAAV</td>\n",
       "      <td>Aaroe, Paul M.</td>\n",
       "      <td>a016000000Jp7qeAAB</td>\n",
       "      <td>8760.00</td>\n",
       "      <td>Criminal Law</td>\n",
       "      <td>1.0</td>\n",
       "    </tr>\n",
       "    <tr>\n",
       "      <th>1</th>\n",
       "      <td>0013000000CbIYyAAN</td>\n",
       "      <td>Aaronson, Austin</td>\n",
       "      <td>a010e00000r8uPlAAI</td>\n",
       "      <td>5425.00</td>\n",
       "      <td>Business - Transactional</td>\n",
       "      <td>1.0</td>\n",
       "    </tr>\n",
       "    <tr>\n",
       "      <th>2</th>\n",
       "      <td>0016000000cLphAAAS</td>\n",
       "      <td>Abasi, Evelyn J.</td>\n",
       "      <td>a016000000aooYxAAI</td>\n",
       "      <td>9997.40</td>\n",
       "      <td>Family Law</td>\n",
       "      <td>1.0</td>\n",
       "    </tr>\n",
       "    <tr>\n",
       "      <th>3</th>\n",
       "      <td>0013200001HEQegAAH</td>\n",
       "      <td>Abbitt, Julia Chico</td>\n",
       "      <td>a013200000pZpYTAA0</td>\n",
       "      <td>2975.00</td>\n",
       "      <td>Employment and Labor Law</td>\n",
       "      <td>1.0</td>\n",
       "    </tr>\n",
       "    <tr>\n",
       "      <th>4</th>\n",
       "      <td>0013200001BYZ1bAAH</td>\n",
       "      <td>Abdala, Dianna</td>\n",
       "      <td>a013200000meskHAAQ</td>\n",
       "      <td>20250.00</td>\n",
       "      <td>Criminal Law</td>\n",
       "      <td>1.0</td>\n",
       "    </tr>\n",
       "    <tr>\n",
       "      <th>...</th>\n",
       "      <td>...</td>\n",
       "      <td>...</td>\n",
       "      <td>...</td>\n",
       "      <td>...</td>\n",
       "      <td>...</td>\n",
       "      <td>...</td>\n",
       "    </tr>\n",
       "    <tr>\n",
       "      <th>16658</th>\n",
       "      <td>0016000000INuQuAAL</td>\n",
       "      <td>Zyne, Beatriz</td>\n",
       "      <td>a016000000aobjHAAQ</td>\n",
       "      <td>6240.00</td>\n",
       "      <td>Family Law</td>\n",
       "      <td>1.0</td>\n",
       "    </tr>\n",
       "    <tr>\n",
       "      <th>16659</th>\n",
       "      <td>0016000000INuQuAAL</td>\n",
       "      <td>Zyne, Beatriz</td>\n",
       "      <td>a016000000meJrNAAU</td>\n",
       "      <td>5100.00</td>\n",
       "      <td>Family Law</td>\n",
       "      <td>1.0</td>\n",
       "    </tr>\n",
       "    <tr>\n",
       "      <th>16660</th>\n",
       "      <td>0016000000INuQuAAL</td>\n",
       "      <td>Zyne, Beatriz</td>\n",
       "      <td>a013200000mpUctAAE</td>\n",
       "      <td>12636.00</td>\n",
       "      <td>Family Law</td>\n",
       "      <td>1.0</td>\n",
       "    </tr>\n",
       "    <tr>\n",
       "      <th>16661</th>\n",
       "      <td>0016000000INuQuAAL</td>\n",
       "      <td>Zyne, Beatriz</td>\n",
       "      <td>a010e00000qpvjcAAA</td>\n",
       "      <td>18565.92</td>\n",
       "      <td>Family Law</td>\n",
       "      <td>1.0</td>\n",
       "    </tr>\n",
       "    <tr>\n",
       "      <th>16662</th>\n",
       "      <td>0016000000INuQuAAL</td>\n",
       "      <td>Zyne, Beatriz</td>\n",
       "      <td>a014y00000ZJ5RMAA1</td>\n",
       "      <td>4095.00</td>\n",
       "      <td>Family Law</td>\n",
       "      <td>1.0</td>\n",
       "    </tr>\n",
       "  </tbody>\n",
       "</table>\n",
       "<p>16663 rows × 6 columns</p>\n",
       "</div>"
      ],
      "text/plain": [
       "      Salesforce Account Id                 Name  Salesforce Deal Id  \\\n",
       "0        0013000000CcDuEAAV       Aaroe, Paul M.  a016000000Jp7qeAAB   \n",
       "1        0013000000CbIYyAAN     Aaronson, Austin  a010e00000r8uPlAAI   \n",
       "2        0016000000cLphAAAS     Abasi, Evelyn J.  a016000000aooYxAAI   \n",
       "3        0013200001HEQegAAH  Abbitt, Julia Chico  a013200000pZpYTAA0   \n",
       "4        0013200001BYZ1bAAH       Abdala, Dianna  a013200000meskHAAQ   \n",
       "...                     ...                  ...                 ...   \n",
       "16658    0016000000INuQuAAL        Zyne, Beatriz  a016000000aobjHAAQ   \n",
       "16659    0016000000INuQuAAL        Zyne, Beatriz  a016000000meJrNAAU   \n",
       "16660    0016000000INuQuAAL        Zyne, Beatriz  a013200000mpUctAAE   \n",
       "16661    0016000000INuQuAAL        Zyne, Beatriz  a010e00000qpvjcAAA   \n",
       "16662    0016000000INuQuAAL        Zyne, Beatriz  a014y00000ZJ5RMAA1   \n",
       "\n",
       "       Deal Revenue          Area of Practice  Ratio  \n",
       "0           8760.00              Criminal Law    1.0  \n",
       "1           5425.00  Business - Transactional    1.0  \n",
       "2           9997.40                Family Law    1.0  \n",
       "3           2975.00  Employment and Labor Law    1.0  \n",
       "4          20250.00              Criminal Law    1.0  \n",
       "...             ...                       ...    ...  \n",
       "16658       6240.00                Family Law    1.0  \n",
       "16659       5100.00                Family Law    1.0  \n",
       "16660      12636.00                Family Law    1.0  \n",
       "16661      18565.92                Family Law    1.0  \n",
       "16662       4095.00                Family Law    1.0  \n",
       "\n",
       "[16663 rows x 6 columns]"
      ]
     },
     "execution_count": 92,
     "metadata": {},
     "output_type": "execute_result"
    }
   ],
   "source": [
    "adhoc"
   ]
  },
  {
   "cell_type": "code",
   "execution_count": 93,
   "id": "4eb3bd5a",
   "metadata": {},
   "outputs": [],
   "source": [
    "adhoc['Deal Revenue'] = adhoc['Ratio'] * adhoc['Deal Revenue']"
   ]
  },
  {
   "cell_type": "code",
   "execution_count": 94,
   "id": "573ab638",
   "metadata": {},
   "outputs": [
    {
     "data": {
      "text/html": [
       "<div>\n",
       "<style scoped>\n",
       "    .dataframe tbody tr th:only-of-type {\n",
       "        vertical-align: middle;\n",
       "    }\n",
       "\n",
       "    .dataframe tbody tr th {\n",
       "        vertical-align: top;\n",
       "    }\n",
       "\n",
       "    .dataframe thead th {\n",
       "        text-align: right;\n",
       "    }\n",
       "</style>\n",
       "<table border=\"1\" class=\"dataframe\">\n",
       "  <thead>\n",
       "    <tr style=\"text-align: right;\">\n",
       "      <th></th>\n",
       "      <th>Name</th>\n",
       "      <th>Salesforce Account Id</th>\n",
       "      <th>Area of Practice</th>\n",
       "      <th>Deal Revenue</th>\n",
       "    </tr>\n",
       "  </thead>\n",
       "  <tbody>\n",
       "    <tr>\n",
       "      <th>0</th>\n",
       "      <td>Aaroe, Paul M.</td>\n",
       "      <td>0013000000CcDuEAAV</td>\n",
       "      <td>Criminal Law</td>\n",
       "      <td>8760.000</td>\n",
       "    </tr>\n",
       "    <tr>\n",
       "      <th>1</th>\n",
       "      <td>Aaronson, Austin</td>\n",
       "      <td>0013000000CbIYyAAN</td>\n",
       "      <td>Business - Transactional</td>\n",
       "      <td>5425.000</td>\n",
       "    </tr>\n",
       "    <tr>\n",
       "      <th>2</th>\n",
       "      <td>Abasi, Evelyn J.</td>\n",
       "      <td>0016000000cLphAAAS</td>\n",
       "      <td>Family Law</td>\n",
       "      <td>9997.400</td>\n",
       "    </tr>\n",
       "    <tr>\n",
       "      <th>3</th>\n",
       "      <td>Abbitt, Julia Chico</td>\n",
       "      <td>0013200001HEQegAAH</td>\n",
       "      <td>Employment and Labor Law</td>\n",
       "      <td>2975.000</td>\n",
       "    </tr>\n",
       "    <tr>\n",
       "      <th>4</th>\n",
       "      <td>Abdala, Dianna</td>\n",
       "      <td>0013200001BYZ1bAAH</td>\n",
       "      <td>Criminal Law</td>\n",
       "      <td>20250.000</td>\n",
       "    </tr>\n",
       "    <tr>\n",
       "      <th>...</th>\n",
       "      <td>...</td>\n",
       "      <td>...</td>\n",
       "      <td>...</td>\n",
       "      <td>...</td>\n",
       "    </tr>\n",
       "    <tr>\n",
       "      <th>10236</th>\n",
       "      <td>Zuckerbrod, Todd A.</td>\n",
       "      <td>0016000000o6Us5AAE</td>\n",
       "      <td>Wills, Trusts and Estates</td>\n",
       "      <td>8252.000</td>\n",
       "    </tr>\n",
       "    <tr>\n",
       "      <th>10237</th>\n",
       "      <td>Zuckerman, Paul S.</td>\n",
       "      <td>0013000000CbadyAAB</td>\n",
       "      <td>Personal Injury</td>\n",
       "      <td>81119.000</td>\n",
       "    </tr>\n",
       "    <tr>\n",
       "      <th>10238</th>\n",
       "      <td>Zuganelis, George M.</td>\n",
       "      <td>0013000000Cbb8cAAB</td>\n",
       "      <td>Family Law</td>\n",
       "      <td>1000.000</td>\n",
       "    </tr>\n",
       "    <tr>\n",
       "      <th>10239</th>\n",
       "      <td>Zuspan, Philip</td>\n",
       "      <td>0013000000CbeEQAAZ</td>\n",
       "      <td>Family Law</td>\n",
       "      <td>14278.000</td>\n",
       "    </tr>\n",
       "    <tr>\n",
       "      <th>10240</th>\n",
       "      <td>Zyne, Beatriz</td>\n",
       "      <td>0016000000INuQuAAL</td>\n",
       "      <td>Family Law</td>\n",
       "      <td>60819.904</td>\n",
       "    </tr>\n",
       "  </tbody>\n",
       "</table>\n",
       "<p>10241 rows × 4 columns</p>\n",
       "</div>"
      ],
      "text/plain": [
       "                       Name Salesforce Account Id           Area of Practice  \\\n",
       "0            Aaroe, Paul M.    0013000000CcDuEAAV               Criminal Law   \n",
       "1          Aaronson, Austin    0013000000CbIYyAAN   Business - Transactional   \n",
       "2          Abasi, Evelyn J.    0016000000cLphAAAS                 Family Law   \n",
       "3       Abbitt, Julia Chico    0013200001HEQegAAH   Employment and Labor Law   \n",
       "4            Abdala, Dianna    0013200001BYZ1bAAH               Criminal Law   \n",
       "...                     ...                   ...                        ...   \n",
       "10236   Zuckerbrod, Todd A.    0016000000o6Us5AAE  Wills, Trusts and Estates   \n",
       "10237    Zuckerman, Paul S.    0013000000CbadyAAB            Personal Injury   \n",
       "10238  Zuganelis, George M.    0013000000Cbb8cAAB                 Family Law   \n",
       "10239        Zuspan, Philip    0013000000CbeEQAAZ                 Family Law   \n",
       "10240         Zyne, Beatriz    0016000000INuQuAAL                 Family Law   \n",
       "\n",
       "       Deal Revenue  \n",
       "0          8760.000  \n",
       "1          5425.000  \n",
       "2          9997.400  \n",
       "3          2975.000  \n",
       "4         20250.000  \n",
       "...             ...  \n",
       "10236      8252.000  \n",
       "10237     81119.000  \n",
       "10238      1000.000  \n",
       "10239     14278.000  \n",
       "10240     60819.904  \n",
       "\n",
       "[10241 rows x 4 columns]"
      ]
     },
     "execution_count": 94,
     "metadata": {},
     "output_type": "execute_result"
    }
   ],
   "source": [
    "adhoc_grp = adhoc.groupby(['Name', 'Salesforce Account Id', 'Area of Practice'])[['Deal Revenue']].sum().reset_index()\n",
    "adhoc_grp"
   ]
  },
  {
   "cell_type": "markdown",
   "id": "d41bdcda",
   "metadata": {},
   "source": [
    "To check if the Deal Revenue has been properly allocated and that no data has been duplicated:"
   ]
  },
  {
   "cell_type": "code",
   "execution_count": 95,
   "id": "a17cc7c4",
   "metadata": {},
   "outputs": [
    {
     "data": {
      "text/plain": [
       "True"
      ]
     },
     "execution_count": 95,
     "metadata": {},
     "output_type": "execute_result"
    }
   ],
   "source": [
    "test1 = adhoc.groupby(['Name'])[['Deal Revenue']].sum().reset_index()\n",
    "rfm_filtered['Amount'].sum(axis = 0, skipna = True).round() == test1['Deal Revenue'].sum(axis = 0, skipna = True).round()\n",
    "#code above compares the sum of the two dataframes, before and after the allocation based on AOP"
   ]
  },
  {
   "cell_type": "markdown",
   "id": "e25a206d",
   "metadata": {},
   "source": [
    "To download the new dataframe:"
   ]
  },
  {
   "cell_type": "code",
   "execution_count": 96,
   "id": "4ebb4f41",
   "metadata": {},
   "outputs": [],
   "source": [
    "adhoc_result = rfm_filtered[['Name', 'Salesforce Account Id','Cluster_Id', 'Status', 'Billing State/Province', 'State']].merge(\n",
    "    adhoc_grp,on=['Name', 'Salesforce Account Id'], how='left')"
   ]
  },
  {
   "cell_type": "code",
   "execution_count": 97,
   "id": "15bf778b",
   "metadata": {},
   "outputs": [
    {
     "data": {
      "text/html": [
       "<div>\n",
       "<style scoped>\n",
       "    .dataframe tbody tr th:only-of-type {\n",
       "        vertical-align: middle;\n",
       "    }\n",
       "\n",
       "    .dataframe tbody tr th {\n",
       "        vertical-align: top;\n",
       "    }\n",
       "\n",
       "    .dataframe thead th {\n",
       "        text-align: right;\n",
       "    }\n",
       "</style>\n",
       "<table border=\"1\" class=\"dataframe\">\n",
       "  <thead>\n",
       "    <tr style=\"text-align: right;\">\n",
       "      <th></th>\n",
       "      <th>Name</th>\n",
       "      <th>Salesforce Account Id</th>\n",
       "      <th>Area of Practice</th>\n",
       "      <th>Deal Revenue</th>\n",
       "      <th>Status</th>\n",
       "      <th>Cluster_Id</th>\n",
       "      <th>Billing State/Province</th>\n",
       "      <th>State</th>\n",
       "    </tr>\n",
       "  </thead>\n",
       "  <tbody>\n",
       "    <tr>\n",
       "      <th>0</th>\n",
       "      <td>Aaroe, Paul M.</td>\n",
       "      <td>0013000000CcDuEAAV</td>\n",
       "      <td>Criminal Law</td>\n",
       "      <td>8760.000</td>\n",
       "      <td>Inactive</td>\n",
       "      <td>4</td>\n",
       "      <td>PA</td>\n",
       "      <td>Pennsylvania</td>\n",
       "    </tr>\n",
       "    <tr>\n",
       "      <th>1</th>\n",
       "      <td>Aaronson, Austin</td>\n",
       "      <td>0013000000CbIYyAAN</td>\n",
       "      <td>Business - Transactional</td>\n",
       "      <td>5425.000</td>\n",
       "      <td>Inactive</td>\n",
       "      <td>1</td>\n",
       "      <td>FL</td>\n",
       "      <td>Florida</td>\n",
       "    </tr>\n",
       "    <tr>\n",
       "      <th>2</th>\n",
       "      <td>Abasi, Evelyn J.</td>\n",
       "      <td>0016000000cLphAAAS</td>\n",
       "      <td>Family Law</td>\n",
       "      <td>9997.400</td>\n",
       "      <td>Inactive</td>\n",
       "      <td>4</td>\n",
       "      <td>CA</td>\n",
       "      <td>California</td>\n",
       "    </tr>\n",
       "    <tr>\n",
       "      <th>3</th>\n",
       "      <td>Abbitt, Julia Chico</td>\n",
       "      <td>0013200001HEQegAAH</td>\n",
       "      <td>Employment and Labor Law</td>\n",
       "      <td>2975.000</td>\n",
       "      <td>Inactive</td>\n",
       "      <td>1</td>\n",
       "      <td>WV</td>\n",
       "      <td>West Virginia</td>\n",
       "    </tr>\n",
       "    <tr>\n",
       "      <th>4</th>\n",
       "      <td>Abdala, Dianna</td>\n",
       "      <td>0013200001BYZ1bAAH</td>\n",
       "      <td>Criminal Law</td>\n",
       "      <td>20250.000</td>\n",
       "      <td>Inactive</td>\n",
       "      <td>1</td>\n",
       "      <td>MA</td>\n",
       "      <td>Massachusetts</td>\n",
       "    </tr>\n",
       "    <tr>\n",
       "      <th>...</th>\n",
       "      <td>...</td>\n",
       "      <td>...</td>\n",
       "      <td>...</td>\n",
       "      <td>...</td>\n",
       "      <td>...</td>\n",
       "      <td>...</td>\n",
       "      <td>...</td>\n",
       "      <td>...</td>\n",
       "    </tr>\n",
       "    <tr>\n",
       "      <th>10193</th>\n",
       "      <td>Zuckerbrod, Todd A.</td>\n",
       "      <td>0016000000o6Us5AAE</td>\n",
       "      <td>Wills, Trusts and Estates</td>\n",
       "      <td>8252.000</td>\n",
       "      <td>Inactive</td>\n",
       "      <td>1</td>\n",
       "      <td>FL</td>\n",
       "      <td>Florida</td>\n",
       "    </tr>\n",
       "    <tr>\n",
       "      <th>10194</th>\n",
       "      <td>Zuckerman, Paul S.</td>\n",
       "      <td>0013000000CbadyAAB</td>\n",
       "      <td>Personal Injury</td>\n",
       "      <td>81119.000</td>\n",
       "      <td>Inactive</td>\n",
       "      <td>0</td>\n",
       "      <td>CA</td>\n",
       "      <td>California</td>\n",
       "    </tr>\n",
       "    <tr>\n",
       "      <th>10195</th>\n",
       "      <td>Zuganelis, George M.</td>\n",
       "      <td>0013000000Cbb8cAAB</td>\n",
       "      <td>Family Law</td>\n",
       "      <td>1000.000</td>\n",
       "      <td>Inactive</td>\n",
       "      <td>4</td>\n",
       "      <td>IL</td>\n",
       "      <td>Illinois</td>\n",
       "    </tr>\n",
       "    <tr>\n",
       "      <th>10196</th>\n",
       "      <td>Zuspan, Philip</td>\n",
       "      <td>0013000000CbeEQAAZ</td>\n",
       "      <td>Family Law</td>\n",
       "      <td>14278.000</td>\n",
       "      <td>Inactive</td>\n",
       "      <td>4</td>\n",
       "      <td>MO</td>\n",
       "      <td>Missouri</td>\n",
       "    </tr>\n",
       "    <tr>\n",
       "      <th>10197</th>\n",
       "      <td>Zyne, Beatriz</td>\n",
       "      <td>0016000000INuQuAAL</td>\n",
       "      <td>Family Law</td>\n",
       "      <td>60819.904</td>\n",
       "      <td>Active</td>\n",
       "      <td>0</td>\n",
       "      <td>FL</td>\n",
       "      <td>Florida</td>\n",
       "    </tr>\n",
       "  </tbody>\n",
       "</table>\n",
       "<p>10198 rows × 8 columns</p>\n",
       "</div>"
      ],
      "text/plain": [
       "                       Name Salesforce Account Id           Area of Practice  \\\n",
       "0            Aaroe, Paul M.    0013000000CcDuEAAV               Criminal Law   \n",
       "1          Aaronson, Austin    0013000000CbIYyAAN   Business - Transactional   \n",
       "2          Abasi, Evelyn J.    0016000000cLphAAAS                 Family Law   \n",
       "3       Abbitt, Julia Chico    0013200001HEQegAAH   Employment and Labor Law   \n",
       "4            Abdala, Dianna    0013200001BYZ1bAAH               Criminal Law   \n",
       "...                     ...                   ...                        ...   \n",
       "10193   Zuckerbrod, Todd A.    0016000000o6Us5AAE  Wills, Trusts and Estates   \n",
       "10194    Zuckerman, Paul S.    0013000000CbadyAAB            Personal Injury   \n",
       "10195  Zuganelis, George M.    0013000000Cbb8cAAB                 Family Law   \n",
       "10196        Zuspan, Philip    0013000000CbeEQAAZ                 Family Law   \n",
       "10197         Zyne, Beatriz    0016000000INuQuAAL                 Family Law   \n",
       "\n",
       "       Deal Revenue    Status  Cluster_Id Billing State/Province  \\\n",
       "0          8760.000  Inactive           4                     PA   \n",
       "1          5425.000  Inactive           1                     FL   \n",
       "2          9997.400  Inactive           4                     CA   \n",
       "3          2975.000  Inactive           1                     WV   \n",
       "4         20250.000  Inactive           1                     MA   \n",
       "...             ...       ...         ...                    ...   \n",
       "10193      8252.000  Inactive           1                     FL   \n",
       "10194     81119.000  Inactive           0                     CA   \n",
       "10195      1000.000  Inactive           4                     IL   \n",
       "10196     14278.000  Inactive           4                     MO   \n",
       "10197     60819.904    Active           0                     FL   \n",
       "\n",
       "               State  \n",
       "0       Pennsylvania  \n",
       "1            Florida  \n",
       "2         California  \n",
       "3      West Virginia  \n",
       "4      Massachusetts  \n",
       "...              ...  \n",
       "10193        Florida  \n",
       "10194     California  \n",
       "10195       Illinois  \n",
       "10196       Missouri  \n",
       "10197        Florida  \n",
       "\n",
       "[10198 rows x 8 columns]"
      ]
     },
     "execution_count": 97,
     "metadata": {},
     "output_type": "execute_result"
    }
   ],
   "source": [
    "adhoc_result = adhoc_result[['Name', 'Salesforce Account Id', 'Area of Practice', \n",
    "              'Deal Revenue', 'Status','Cluster_Id', 'Billing State/Province', 'State']]\n",
    "adhoc_result"
   ]
  },
  {
   "cell_type": "code",
   "execution_count": 98,
   "id": "bd3f5b12",
   "metadata": {},
   "outputs": [],
   "source": [
    "adhoc_result.to_csv('attorney_classification_adhoc.csv', index = False)"
   ]
  },
  {
   "cell_type": "code",
   "execution_count": 99,
   "id": "96315f2e",
   "metadata": {},
   "outputs": [
    {
     "name": "stdout",
     "output_type": "stream",
     "text": [
      "The End.\n"
     ]
    }
   ],
   "source": [
    "print('The End.')"
   ]
  }
 ],
 "metadata": {
  "kernelspec": {
   "display_name": "Python 3 (ipykernel)",
   "language": "python",
   "name": "python3"
  },
  "language_info": {
   "codemirror_mode": {
    "name": "ipython",
    "version": 3
   },
   "file_extension": ".py",
   "mimetype": "text/x-python",
   "name": "python",
   "nbconvert_exporter": "python",
   "pygments_lexer": "ipython3",
   "version": "3.9.7"
  }
 },
 "nbformat": 4,
 "nbformat_minor": 5
}
